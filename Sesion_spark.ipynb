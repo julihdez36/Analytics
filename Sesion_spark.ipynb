{
  "nbformat": 4,
  "nbformat_minor": 0,
  "metadata": {
    "colab": {
      "provenance": [],
      "authorship_tag": "ABX9TyPgSVuhZxRwo/Fr06sCfdby",
      "include_colab_link": true
    },
    "kernelspec": {
      "name": "python3",
      "display_name": "Python 3"
    },
    "language_info": {
      "name": "python"
    }
  },
  "cells": [
    {
      "cell_type": "markdown",
      "metadata": {
        "id": "view-in-github",
        "colab_type": "text"
      },
      "source": [
        "<a href=\"https://colab.research.google.com/github/julihdez36/Analytics/blob/main/Sesion_spark.ipynb\" target=\"_parent\"><img src=\"https://colab.research.google.com/assets/colab-badge.svg\" alt=\"Open In Colab\"/></a>"
      ]
    },
    {
      "cell_type": "code",
      "execution_count": null,
      "metadata": {
        "id": "eco0VZKuNw2S"
      },
      "outputs": [],
      "source": [
        "# importación de librería y módulos\n",
        "\n",
        "from pyspark.sql import SparkSession"
      ]
    },
    {
      "cell_type": "code",
      "source": [
        "# Iniciar sesión en spark\n",
        "\n",
        "# Crear o reutilizar una SparkSession\n",
        "spark = SparkSession.builder.appName('practise').getOrCreate()"
      ],
      "metadata": {
        "id": "LNfK63dHPZdT"
      },
      "execution_count": null,
      "outputs": []
    },
    {
      "cell_type": "code",
      "source": [
        "spark"
      ],
      "metadata": {
        "id": "PyasnlgSPZhj",
        "colab": {
          "base_uri": "https://localhost:8080/",
          "height": 219
        },
        "outputId": "596d0e5d-e9ac-410e-b84e-3fe202a733c8"
      },
      "execution_count": null,
      "outputs": [
        {
          "output_type": "execute_result",
          "data": {
            "text/plain": [
              "<pyspark.sql.session.SparkSession at 0x798a77221990>"
            ],
            "text/html": [
              "\n",
              "            <div>\n",
              "                <p><b>SparkSession - in-memory</b></p>\n",
              "                \n",
              "        <div>\n",
              "            <p><b>SparkContext</b></p>\n",
              "\n",
              "            <p><a href=\"http://78938e732f62:4040\">Spark UI</a></p>\n",
              "\n",
              "            <dl>\n",
              "              <dt>Version</dt>\n",
              "                <dd><code>v3.5.3</code></dd>\n",
              "              <dt>Master</dt>\n",
              "                <dd><code>local[*]</code></dd>\n",
              "              <dt>AppName</dt>\n",
              "                <dd><code>practise</code></dd>\n",
              "            </dl>\n",
              "        </div>\n",
              "        \n",
              "            </div>\n",
              "        "
            ]
          },
          "metadata": {},
          "execution_count": 3
        }
      ]
    },
    {
      "cell_type": "code",
      "source": [
        "# Lectura de un conjunto de datos de spark\n",
        "\n",
        "# df = spark.read.option('header', 'true').csv('heart.csv') # No se indica el schema\n",
        "\n",
        "# Resolución manual\n",
        "\n",
        "# schema = 'Age INTEGER, Sex STRING, ChestPainType STRING'\n",
        "# df = spark.read.csv('heart.csv', schema = schema, header = True)\n",
        "\n",
        "# Resolución automática\n",
        "\n",
        "df = spark.read.csv('heart.csv', header = True, inferSchema= True)\n",
        "\n",
        "# Remplazo de los valores nulos con otro valor indicado\n",
        "\n",
        "# df = spark.read.csv('heart.csv', header = True, inferSchema= True, nullValue= 'NA')\n",
        "\n",
        "df.printSchema()"
      ],
      "metadata": {
        "id": "icP7fzaKPZkq",
        "colab": {
          "base_uri": "https://localhost:8080/"
        },
        "outputId": "0aa6f8eb-4cea-4d2d-c8c3-317a50bfd753"
      },
      "execution_count": null,
      "outputs": [
        {
          "output_type": "stream",
          "name": "stdout",
          "text": [
            "root\n",
            " |-- Age: integer (nullable = true)\n",
            " |-- Sex: string (nullable = true)\n",
            " |-- ChestPainType: string (nullable = true)\n",
            " |-- RestingBP: integer (nullable = true)\n",
            " |-- Cholesterol: integer (nullable = true)\n",
            " |-- FastingBS: integer (nullable = true)\n",
            " |-- RestingECG: string (nullable = true)\n",
            " |-- MaxHR: integer (nullable = true)\n",
            " |-- ExerciseAngina: string (nullable = true)\n",
            " |-- Oldpeak: double (nullable = true)\n",
            " |-- ST_Slope: string (nullable = true)\n",
            " |-- HeartDisease: integer (nullable = true)\n",
            "\n"
          ]
        }
      ]
    },
    {
      "cell_type": "code",
      "source": [
        "# Guardar la data\n",
        "\n",
        "# import os\n",
        "# os.chdir('path')\n",
        "\n",
        "df.write.format('csv').mode('overwrite').save('heart_save.csv')"
      ],
      "metadata": {
        "id": "JZkKgVgQPZnm"
      },
      "execution_count": null,
      "outputs": []
    },
    {
      "cell_type": "code",
      "source": [
        "df.collect()"
      ],
      "metadata": {
        "id": "lpCapojhPaDW",
        "colab": {
          "base_uri": "https://localhost:8080/"
        },
        "collapsed": true,
        "outputId": "f3c969e6-6707-41e4-cf76-71238f85d940"
      },
      "execution_count": null,
      "outputs": [
        {
          "output_type": "execute_result",
          "data": {
            "text/plain": [
              "[Row(Age=40, Sex='M', ChestPainType='ATA', RestingBP=140, Cholesterol=289, FastingBS=0, RestingECG='Normal', MaxHR=172, ExerciseAngina='N', Oldpeak=0.0, ST_Slope='Up', HeartDisease=0),\n",
              " Row(Age=49, Sex='F', ChestPainType='NAP', RestingBP=160, Cholesterol=180, FastingBS=0, RestingECG='Normal', MaxHR=156, ExerciseAngina='N', Oldpeak=1.0, ST_Slope='Flat', HeartDisease=1),\n",
              " Row(Age=37, Sex='M', ChestPainType='ATA', RestingBP=130, Cholesterol=283, FastingBS=0, RestingECG='ST', MaxHR=98, ExerciseAngina='N', Oldpeak=0.0, ST_Slope='Up', HeartDisease=0),\n",
              " Row(Age=48, Sex='F', ChestPainType='ASY', RestingBP=138, Cholesterol=214, FastingBS=0, RestingECG='Normal', MaxHR=108, ExerciseAngina='Y', Oldpeak=1.5, ST_Slope='Flat', HeartDisease=1),\n",
              " Row(Age=54, Sex='M', ChestPainType='NAP', RestingBP=150, Cholesterol=195, FastingBS=0, RestingECG='Normal', MaxHR=122, ExerciseAngina='N', Oldpeak=0.0, ST_Slope='Up', HeartDisease=0),\n",
              " Row(Age=39, Sex='M', ChestPainType='NAP', RestingBP=120, Cholesterol=339, FastingBS=0, RestingECG='Normal', MaxHR=170, ExerciseAngina='N', Oldpeak=0.0, ST_Slope='Up', HeartDisease=0),\n",
              " Row(Age=45, Sex='F', ChestPainType='ATA', RestingBP=130, Cholesterol=237, FastingBS=0, RestingECG='Normal', MaxHR=170, ExerciseAngina='N', Oldpeak=0.0, ST_Slope='Up', HeartDisease=0),\n",
              " Row(Age=54, Sex='M', ChestPainType='ATA', RestingBP=110, Cholesterol=208, FastingBS=0, RestingECG='Normal', MaxHR=142, ExerciseAngina='N', Oldpeak=0.0, ST_Slope='Up', HeartDisease=0),\n",
              " Row(Age=37, Sex='M', ChestPainType='ASY', RestingBP=140, Cholesterol=207, FastingBS=0, RestingECG='Normal', MaxHR=130, ExerciseAngina='Y', Oldpeak=1.5, ST_Slope='Flat', HeartDisease=1),\n",
              " Row(Age=48, Sex='F', ChestPainType='ATA', RestingBP=120, Cholesterol=284, FastingBS=0, RestingECG='Normal', MaxHR=120, ExerciseAngina='N', Oldpeak=0.0, ST_Slope='Up', HeartDisease=0),\n",
              " Row(Age=37, Sex='F', ChestPainType='NAP', RestingBP=130, Cholesterol=211, FastingBS=0, RestingECG='Normal', MaxHR=142, ExerciseAngina='N', Oldpeak=0.0, ST_Slope='Up', HeartDisease=0),\n",
              " Row(Age=58, Sex='M', ChestPainType='ATA', RestingBP=136, Cholesterol=164, FastingBS=0, RestingECG='ST', MaxHR=99, ExerciseAngina='Y', Oldpeak=2.0, ST_Slope='Flat', HeartDisease=1),\n",
              " Row(Age=39, Sex='M', ChestPainType='ATA', RestingBP=120, Cholesterol=204, FastingBS=0, RestingECG='Normal', MaxHR=145, ExerciseAngina='N', Oldpeak=0.0, ST_Slope='Up', HeartDisease=0),\n",
              " Row(Age=49, Sex='M', ChestPainType='ASY', RestingBP=140, Cholesterol=234, FastingBS=0, RestingECG='Normal', MaxHR=140, ExerciseAngina='Y', Oldpeak=1.0, ST_Slope='Flat', HeartDisease=1),\n",
              " Row(Age=42, Sex='F', ChestPainType='NAP', RestingBP=115, Cholesterol=211, FastingBS=0, RestingECG='ST', MaxHR=137, ExerciseAngina='N', Oldpeak=0.0, ST_Slope='Up', HeartDisease=0),\n",
              " Row(Age=54, Sex='F', ChestPainType='ATA', RestingBP=120, Cholesterol=273, FastingBS=0, RestingECG='Normal', MaxHR=150, ExerciseAngina='N', Oldpeak=1.5, ST_Slope='Flat', HeartDisease=0),\n",
              " Row(Age=38, Sex='M', ChestPainType='ASY', RestingBP=110, Cholesterol=196, FastingBS=0, RestingECG='Normal', MaxHR=166, ExerciseAngina='N', Oldpeak=0.0, ST_Slope='Flat', HeartDisease=1),\n",
              " Row(Age=43, Sex='F', ChestPainType='ATA', RestingBP=120, Cholesterol=201, FastingBS=0, RestingECG='Normal', MaxHR=165, ExerciseAngina='N', Oldpeak=0.0, ST_Slope='Up', HeartDisease=0),\n",
              " Row(Age=60, Sex='M', ChestPainType='ASY', RestingBP=100, Cholesterol=248, FastingBS=0, RestingECG='Normal', MaxHR=125, ExerciseAngina='N', Oldpeak=1.0, ST_Slope='Flat', HeartDisease=1),\n",
              " Row(Age=36, Sex='M', ChestPainType='ATA', RestingBP=120, Cholesterol=267, FastingBS=0, RestingECG='Normal', MaxHR=160, ExerciseAngina='N', Oldpeak=3.0, ST_Slope='Flat', HeartDisease=1),\n",
              " Row(Age=43, Sex='F', ChestPainType='TA', RestingBP=100, Cholesterol=223, FastingBS=0, RestingECG='Normal', MaxHR=142, ExerciseAngina='N', Oldpeak=0.0, ST_Slope='Up', HeartDisease=0),\n",
              " Row(Age=44, Sex='M', ChestPainType='ATA', RestingBP=120, Cholesterol=184, FastingBS=0, RestingECG='Normal', MaxHR=142, ExerciseAngina='N', Oldpeak=1.0, ST_Slope='Flat', HeartDisease=0),\n",
              " Row(Age=49, Sex='F', ChestPainType='ATA', RestingBP=124, Cholesterol=201, FastingBS=0, RestingECG='Normal', MaxHR=164, ExerciseAngina='N', Oldpeak=0.0, ST_Slope='Up', HeartDisease=0),\n",
              " Row(Age=44, Sex='M', ChestPainType='ATA', RestingBP=150, Cholesterol=288, FastingBS=0, RestingECG='Normal', MaxHR=150, ExerciseAngina='Y', Oldpeak=3.0, ST_Slope='Flat', HeartDisease=1),\n",
              " Row(Age=40, Sex='M', ChestPainType='NAP', RestingBP=130, Cholesterol=215, FastingBS=0, RestingECG='Normal', MaxHR=138, ExerciseAngina='N', Oldpeak=0.0, ST_Slope='Up', HeartDisease=0),\n",
              " Row(Age=36, Sex='M', ChestPainType='NAP', RestingBP=130, Cholesterol=209, FastingBS=0, RestingECG='Normal', MaxHR=178, ExerciseAngina='N', Oldpeak=0.0, ST_Slope='Up', HeartDisease=0),\n",
              " Row(Age=53, Sex='M', ChestPainType='ASY', RestingBP=124, Cholesterol=260, FastingBS=0, RestingECG='ST', MaxHR=112, ExerciseAngina='Y', Oldpeak=3.0, ST_Slope='Flat', HeartDisease=0),\n",
              " Row(Age=52, Sex='M', ChestPainType='ATA', RestingBP=120, Cholesterol=284, FastingBS=0, RestingECG='Normal', MaxHR=118, ExerciseAngina='N', Oldpeak=0.0, ST_Slope='Up', HeartDisease=0),\n",
              " Row(Age=53, Sex='F', ChestPainType='ATA', RestingBP=113, Cholesterol=468, FastingBS=0, RestingECG='Normal', MaxHR=127, ExerciseAngina='N', Oldpeak=0.0, ST_Slope='Up', HeartDisease=0),\n",
              " Row(Age=51, Sex='M', ChestPainType='ATA', RestingBP=125, Cholesterol=188, FastingBS=0, RestingECG='Normal', MaxHR=145, ExerciseAngina='N', Oldpeak=0.0, ST_Slope='Up', HeartDisease=0),\n",
              " Row(Age=53, Sex='M', ChestPainType='NAP', RestingBP=145, Cholesterol=518, FastingBS=0, RestingECG='Normal', MaxHR=130, ExerciseAngina='N', Oldpeak=0.0, ST_Slope='Flat', HeartDisease=1),\n",
              " Row(Age=56, Sex='M', ChestPainType='NAP', RestingBP=130, Cholesterol=167, FastingBS=0, RestingECG='Normal', MaxHR=114, ExerciseAngina='N', Oldpeak=0.0, ST_Slope='Up', HeartDisease=0),\n",
              " Row(Age=54, Sex='M', ChestPainType='ASY', RestingBP=125, Cholesterol=224, FastingBS=0, RestingECG='Normal', MaxHR=122, ExerciseAngina='N', Oldpeak=2.0, ST_Slope='Flat', HeartDisease=1),\n",
              " Row(Age=41, Sex='M', ChestPainType='ASY', RestingBP=130, Cholesterol=172, FastingBS=0, RestingECG='ST', MaxHR=130, ExerciseAngina='N', Oldpeak=2.0, ST_Slope='Flat', HeartDisease=1),\n",
              " Row(Age=43, Sex='F', ChestPainType='ATA', RestingBP=150, Cholesterol=186, FastingBS=0, RestingECG='Normal', MaxHR=154, ExerciseAngina='N', Oldpeak=0.0, ST_Slope='Up', HeartDisease=0),\n",
              " Row(Age=32, Sex='M', ChestPainType='ATA', RestingBP=125, Cholesterol=254, FastingBS=0, RestingECG='Normal', MaxHR=155, ExerciseAngina='N', Oldpeak=0.0, ST_Slope='Up', HeartDisease=0),\n",
              " Row(Age=65, Sex='M', ChestPainType='ASY', RestingBP=140, Cholesterol=306, FastingBS=1, RestingECG='Normal', MaxHR=87, ExerciseAngina='Y', Oldpeak=1.5, ST_Slope='Flat', HeartDisease=1),\n",
              " Row(Age=41, Sex='F', ChestPainType='ATA', RestingBP=110, Cholesterol=250, FastingBS=0, RestingECG='ST', MaxHR=142, ExerciseAngina='N', Oldpeak=0.0, ST_Slope='Up', HeartDisease=0),\n",
              " Row(Age=48, Sex='F', ChestPainType='ATA', RestingBP=120, Cholesterol=177, FastingBS=1, RestingECG='ST', MaxHR=148, ExerciseAngina='N', Oldpeak=0.0, ST_Slope='Up', HeartDisease=0),\n",
              " Row(Age=48, Sex='F', ChestPainType='ASY', RestingBP=150, Cholesterol=227, FastingBS=0, RestingECG='Normal', MaxHR=130, ExerciseAngina='Y', Oldpeak=1.0, ST_Slope='Flat', HeartDisease=0),\n",
              " Row(Age=54, Sex='F', ChestPainType='ATA', RestingBP=150, Cholesterol=230, FastingBS=0, RestingECG='Normal', MaxHR=130, ExerciseAngina='N', Oldpeak=0.0, ST_Slope='Up', HeartDisease=0),\n",
              " Row(Age=54, Sex='F', ChestPainType='NAP', RestingBP=130, Cholesterol=294, FastingBS=0, RestingECG='ST', MaxHR=100, ExerciseAngina='Y', Oldpeak=0.0, ST_Slope='Flat', HeartDisease=1),\n",
              " Row(Age=35, Sex='M', ChestPainType='ATA', RestingBP=150, Cholesterol=264, FastingBS=0, RestingECG='Normal', MaxHR=168, ExerciseAngina='N', Oldpeak=0.0, ST_Slope='Up', HeartDisease=0),\n",
              " Row(Age=52, Sex='M', ChestPainType='NAP', RestingBP=140, Cholesterol=259, FastingBS=0, RestingECG='ST', MaxHR=170, ExerciseAngina='N', Oldpeak=0.0, ST_Slope='Up', HeartDisease=0),\n",
              " Row(Age=43, Sex='M', ChestPainType='ASY', RestingBP=120, Cholesterol=175, FastingBS=0, RestingECG='Normal', MaxHR=120, ExerciseAngina='Y', Oldpeak=1.0, ST_Slope='Flat', HeartDisease=1),\n",
              " Row(Age=59, Sex='M', ChestPainType='NAP', RestingBP=130, Cholesterol=318, FastingBS=0, RestingECG='Normal', MaxHR=120, ExerciseAngina='Y', Oldpeak=1.0, ST_Slope='Flat', HeartDisease=0),\n",
              " Row(Age=37, Sex='M', ChestPainType='ASY', RestingBP=120, Cholesterol=223, FastingBS=0, RestingECG='Normal', MaxHR=168, ExerciseAngina='N', Oldpeak=0.0, ST_Slope='Up', HeartDisease=0),\n",
              " Row(Age=50, Sex='M', ChestPainType='ATA', RestingBP=140, Cholesterol=216, FastingBS=0, RestingECG='Normal', MaxHR=170, ExerciseAngina='N', Oldpeak=0.0, ST_Slope='Up', HeartDisease=0),\n",
              " Row(Age=36, Sex='M', ChestPainType='NAP', RestingBP=112, Cholesterol=340, FastingBS=0, RestingECG='Normal', MaxHR=184, ExerciseAngina='N', Oldpeak=1.0, ST_Slope='Flat', HeartDisease=0),\n",
              " Row(Age=41, Sex='M', ChestPainType='ASY', RestingBP=110, Cholesterol=289, FastingBS=0, RestingECG='Normal', MaxHR=170, ExerciseAngina='N', Oldpeak=0.0, ST_Slope='Flat', HeartDisease=1),\n",
              " Row(Age=50, Sex='M', ChestPainType='ASY', RestingBP=130, Cholesterol=233, FastingBS=0, RestingECG='Normal', MaxHR=121, ExerciseAngina='Y', Oldpeak=2.0, ST_Slope='Flat', HeartDisease=1),\n",
              " Row(Age=47, Sex='F', ChestPainType='ASY', RestingBP=120, Cholesterol=205, FastingBS=0, RestingECG='Normal', MaxHR=98, ExerciseAngina='Y', Oldpeak=2.0, ST_Slope='Flat', HeartDisease=1),\n",
              " Row(Age=45, Sex='M', ChestPainType='ATA', RestingBP=140, Cholesterol=224, FastingBS=1, RestingECG='Normal', MaxHR=122, ExerciseAngina='N', Oldpeak=0.0, ST_Slope='Up', HeartDisease=0),\n",
              " Row(Age=41, Sex='F', ChestPainType='ATA', RestingBP=130, Cholesterol=245, FastingBS=0, RestingECG='Normal', MaxHR=150, ExerciseAngina='N', Oldpeak=0.0, ST_Slope='Up', HeartDisease=0),\n",
              " Row(Age=52, Sex='F', ChestPainType='ASY', RestingBP=130, Cholesterol=180, FastingBS=0, RestingECG='Normal', MaxHR=140, ExerciseAngina='Y', Oldpeak=1.5, ST_Slope='Flat', HeartDisease=0),\n",
              " Row(Age=51, Sex='F', ChestPainType='ATA', RestingBP=160, Cholesterol=194, FastingBS=0, RestingECG='Normal', MaxHR=170, ExerciseAngina='N', Oldpeak=0.0, ST_Slope='Up', HeartDisease=0),\n",
              " Row(Age=31, Sex='M', ChestPainType='ASY', RestingBP=120, Cholesterol=270, FastingBS=0, RestingECG='Normal', MaxHR=153, ExerciseAngina='Y', Oldpeak=1.5, ST_Slope='Flat', HeartDisease=1),\n",
              " Row(Age=58, Sex='M', ChestPainType='NAP', RestingBP=130, Cholesterol=213, FastingBS=0, RestingECG='ST', MaxHR=140, ExerciseAngina='N', Oldpeak=0.0, ST_Slope='Flat', HeartDisease=1),\n",
              " Row(Age=54, Sex='M', ChestPainType='ASY', RestingBP=150, Cholesterol=365, FastingBS=0, RestingECG='ST', MaxHR=134, ExerciseAngina='N', Oldpeak=1.0, ST_Slope='Up', HeartDisease=0),\n",
              " Row(Age=52, Sex='M', ChestPainType='ASY', RestingBP=112, Cholesterol=342, FastingBS=0, RestingECG='ST', MaxHR=96, ExerciseAngina='Y', Oldpeak=1.0, ST_Slope='Flat', HeartDisease=1),\n",
              " Row(Age=49, Sex='M', ChestPainType='ATA', RestingBP=100, Cholesterol=253, FastingBS=0, RestingECG='Normal', MaxHR=174, ExerciseAngina='N', Oldpeak=0.0, ST_Slope='Up', HeartDisease=0),\n",
              " Row(Age=43, Sex='F', ChestPainType='NAP', RestingBP=150, Cholesterol=254, FastingBS=0, RestingECG='Normal', MaxHR=175, ExerciseAngina='N', Oldpeak=0.0, ST_Slope='Up', HeartDisease=0),\n",
              " Row(Age=45, Sex='M', ChestPainType='ASY', RestingBP=140, Cholesterol=224, FastingBS=0, RestingECG='Normal', MaxHR=144, ExerciseAngina='N', Oldpeak=0.0, ST_Slope='Up', HeartDisease=0),\n",
              " Row(Age=46, Sex='M', ChestPainType='ASY', RestingBP=120, Cholesterol=277, FastingBS=0, RestingECG='Normal', MaxHR=125, ExerciseAngina='Y', Oldpeak=1.0, ST_Slope='Flat', HeartDisease=1),\n",
              " Row(Age=50, Sex='F', ChestPainType='ATA', RestingBP=110, Cholesterol=202, FastingBS=0, RestingECG='Normal', MaxHR=145, ExerciseAngina='N', Oldpeak=0.0, ST_Slope='Up', HeartDisease=0),\n",
              " Row(Age=37, Sex='F', ChestPainType='ATA', RestingBP=120, Cholesterol=260, FastingBS=0, RestingECG='Normal', MaxHR=130, ExerciseAngina='N', Oldpeak=0.0, ST_Slope='Up', HeartDisease=0),\n",
              " Row(Age=45, Sex='F', ChestPainType='ASY', RestingBP=132, Cholesterol=297, FastingBS=0, RestingECG='Normal', MaxHR=144, ExerciseAngina='N', Oldpeak=0.0, ST_Slope='Up', HeartDisease=0),\n",
              " Row(Age=32, Sex='M', ChestPainType='ATA', RestingBP=110, Cholesterol=225, FastingBS=0, RestingECG='Normal', MaxHR=184, ExerciseAngina='N', Oldpeak=0.0, ST_Slope='Up', HeartDisease=0),\n",
              " Row(Age=52, Sex='M', ChestPainType='ASY', RestingBP=160, Cholesterol=246, FastingBS=0, RestingECG='ST', MaxHR=82, ExerciseAngina='Y', Oldpeak=4.0, ST_Slope='Flat', HeartDisease=1),\n",
              " Row(Age=44, Sex='M', ChestPainType='ASY', RestingBP=150, Cholesterol=412, FastingBS=0, RestingECG='Normal', MaxHR=170, ExerciseAngina='N', Oldpeak=0.0, ST_Slope='Up', HeartDisease=0),\n",
              " Row(Age=57, Sex='M', ChestPainType='ATA', RestingBP=140, Cholesterol=265, FastingBS=0, RestingECG='ST', MaxHR=145, ExerciseAngina='Y', Oldpeak=1.0, ST_Slope='Flat', HeartDisease=1),\n",
              " Row(Age=44, Sex='M', ChestPainType='ATA', RestingBP=130, Cholesterol=215, FastingBS=0, RestingECG='Normal', MaxHR=135, ExerciseAngina='N', Oldpeak=0.0, ST_Slope='Up', HeartDisease=0),\n",
              " Row(Age=52, Sex='M', ChestPainType='ASY', RestingBP=120, Cholesterol=182, FastingBS=0, RestingECG='Normal', MaxHR=150, ExerciseAngina='N', Oldpeak=0.0, ST_Slope='Flat', HeartDisease=1),\n",
              " Row(Age=44, Sex='F', ChestPainType='ASY', RestingBP=120, Cholesterol=218, FastingBS=0, RestingECG='ST', MaxHR=115, ExerciseAngina='N', Oldpeak=0.0, ST_Slope='Up', HeartDisease=0),\n",
              " Row(Age=55, Sex='M', ChestPainType='ASY', RestingBP=140, Cholesterol=268, FastingBS=0, RestingECG='Normal', MaxHR=128, ExerciseAngina='Y', Oldpeak=1.5, ST_Slope='Flat', HeartDisease=1),\n",
              " Row(Age=46, Sex='M', ChestPainType='NAP', RestingBP=150, Cholesterol=163, FastingBS=0, RestingECG='Normal', MaxHR=116, ExerciseAngina='N', Oldpeak=0.0, ST_Slope='Up', HeartDisease=0),\n",
              " Row(Age=32, Sex='M', ChestPainType='ASY', RestingBP=118, Cholesterol=529, FastingBS=0, RestingECG='Normal', MaxHR=130, ExerciseAngina='N', Oldpeak=0.0, ST_Slope='Flat', HeartDisease=1),\n",
              " Row(Age=35, Sex='F', ChestPainType='ASY', RestingBP=140, Cholesterol=167, FastingBS=0, RestingECG='Normal', MaxHR=150, ExerciseAngina='N', Oldpeak=0.0, ST_Slope='Up', HeartDisease=0),\n",
              " Row(Age=52, Sex='M', ChestPainType='ATA', RestingBP=140, Cholesterol=100, FastingBS=0, RestingECG='Normal', MaxHR=138, ExerciseAngina='Y', Oldpeak=0.0, ST_Slope='Up', HeartDisease=0),\n",
              " Row(Age=49, Sex='M', ChestPainType='ASY', RestingBP=130, Cholesterol=206, FastingBS=0, RestingECG='Normal', MaxHR=170, ExerciseAngina='N', Oldpeak=0.0, ST_Slope='Flat', HeartDisease=1),\n",
              " Row(Age=55, Sex='M', ChestPainType='NAP', RestingBP=110, Cholesterol=277, FastingBS=0, RestingECG='Normal', MaxHR=160, ExerciseAngina='N', Oldpeak=0.0, ST_Slope='Up', HeartDisease=0),\n",
              " Row(Age=54, Sex='M', ChestPainType='ATA', RestingBP=120, Cholesterol=238, FastingBS=0, RestingECG='Normal', MaxHR=154, ExerciseAngina='N', Oldpeak=0.0, ST_Slope='Up', HeartDisease=0),\n",
              " Row(Age=63, Sex='M', ChestPainType='ASY', RestingBP=150, Cholesterol=223, FastingBS=0, RestingECG='Normal', MaxHR=115, ExerciseAngina='N', Oldpeak=0.0, ST_Slope='Flat', HeartDisease=1),\n",
              " Row(Age=52, Sex='M', ChestPainType='ATA', RestingBP=160, Cholesterol=196, FastingBS=0, RestingECG='Normal', MaxHR=165, ExerciseAngina='N', Oldpeak=0.0, ST_Slope='Up', HeartDisease=0),\n",
              " Row(Age=56, Sex='M', ChestPainType='ASY', RestingBP=150, Cholesterol=213, FastingBS=1, RestingECG='Normal', MaxHR=125, ExerciseAngina='Y', Oldpeak=1.0, ST_Slope='Flat', HeartDisease=1),\n",
              " Row(Age=66, Sex='M', ChestPainType='ASY', RestingBP=140, Cholesterol=139, FastingBS=0, RestingECG='Normal', MaxHR=94, ExerciseAngina='Y', Oldpeak=1.0, ST_Slope='Flat', HeartDisease=1),\n",
              " Row(Age=65, Sex='M', ChestPainType='ASY', RestingBP=170, Cholesterol=263, FastingBS=1, RestingECG='Normal', MaxHR=112, ExerciseAngina='Y', Oldpeak=2.0, ST_Slope='Flat', HeartDisease=1),\n",
              " Row(Age=53, Sex='F', ChestPainType='ATA', RestingBP=140, Cholesterol=216, FastingBS=0, RestingECG='Normal', MaxHR=142, ExerciseAngina='Y', Oldpeak=2.0, ST_Slope='Flat', HeartDisease=0),\n",
              " Row(Age=43, Sex='M', ChestPainType='TA', RestingBP=120, Cholesterol=291, FastingBS=0, RestingECG='ST', MaxHR=155, ExerciseAngina='N', Oldpeak=0.0, ST_Slope='Flat', HeartDisease=1),\n",
              " Row(Age=55, Sex='M', ChestPainType='ASY', RestingBP=140, Cholesterol=229, FastingBS=0, RestingECG='Normal', MaxHR=110, ExerciseAngina='Y', Oldpeak=0.5, ST_Slope='Flat', HeartDisease=0),\n",
              " Row(Age=49, Sex='F', ChestPainType='ATA', RestingBP=110, Cholesterol=208, FastingBS=0, RestingECG='Normal', MaxHR=160, ExerciseAngina='N', Oldpeak=0.0, ST_Slope='Up', HeartDisease=0),\n",
              " Row(Age=39, Sex='M', ChestPainType='ASY', RestingBP=130, Cholesterol=307, FastingBS=0, RestingECG='Normal', MaxHR=140, ExerciseAngina='N', Oldpeak=0.0, ST_Slope='Up', HeartDisease=0),\n",
              " Row(Age=52, Sex='F', ChestPainType='ATA', RestingBP=120, Cholesterol=210, FastingBS=0, RestingECG='Normal', MaxHR=148, ExerciseAngina='N', Oldpeak=0.0, ST_Slope='Up', HeartDisease=0),\n",
              " Row(Age=48, Sex='M', ChestPainType='ASY', RestingBP=160, Cholesterol=329, FastingBS=0, RestingECG='Normal', MaxHR=92, ExerciseAngina='Y', Oldpeak=1.5, ST_Slope='Flat', HeartDisease=1),\n",
              " Row(Age=39, Sex='F', ChestPainType='NAP', RestingBP=110, Cholesterol=182, FastingBS=0, RestingECG='ST', MaxHR=180, ExerciseAngina='N', Oldpeak=0.0, ST_Slope='Up', HeartDisease=0),\n",
              " Row(Age=58, Sex='M', ChestPainType='ASY', RestingBP=130, Cholesterol=263, FastingBS=0, RestingECG='Normal', MaxHR=140, ExerciseAngina='Y', Oldpeak=2.0, ST_Slope='Flat', HeartDisease=1),\n",
              " Row(Age=43, Sex='M', ChestPainType='ATA', RestingBP=142, Cholesterol=207, FastingBS=0, RestingECG='Normal', MaxHR=138, ExerciseAngina='N', Oldpeak=0.0, ST_Slope='Up', HeartDisease=0),\n",
              " Row(Age=39, Sex='M', ChestPainType='NAP', RestingBP=160, Cholesterol=147, FastingBS=1, RestingECG='Normal', MaxHR=160, ExerciseAngina='N', Oldpeak=0.0, ST_Slope='Up', HeartDisease=0),\n",
              " Row(Age=56, Sex='M', ChestPainType='ASY', RestingBP=120, Cholesterol=85, FastingBS=0, RestingECG='Normal', MaxHR=140, ExerciseAngina='N', Oldpeak=0.0, ST_Slope='Up', HeartDisease=0),\n",
              " Row(Age=41, Sex='M', ChestPainType='ATA', RestingBP=125, Cholesterol=269, FastingBS=0, RestingECG='Normal', MaxHR=144, ExerciseAngina='N', Oldpeak=0.0, ST_Slope='Up', HeartDisease=0),\n",
              " Row(Age=65, Sex='M', ChestPainType='ASY', RestingBP=130, Cholesterol=275, FastingBS=0, RestingECG='ST', MaxHR=115, ExerciseAngina='Y', Oldpeak=1.0, ST_Slope='Flat', HeartDisease=1),\n",
              " Row(Age=51, Sex='M', ChestPainType='ASY', RestingBP=130, Cholesterol=179, FastingBS=0, RestingECG='Normal', MaxHR=100, ExerciseAngina='N', Oldpeak=0.0, ST_Slope='Up', HeartDisease=0),\n",
              " Row(Age=40, Sex='F', ChestPainType='ASY', RestingBP=150, Cholesterol=392, FastingBS=0, RestingECG='Normal', MaxHR=130, ExerciseAngina='N', Oldpeak=2.0, ST_Slope='Flat', HeartDisease=1),\n",
              " Row(Age=40, Sex='M', ChestPainType='ASY', RestingBP=120, Cholesterol=466, FastingBS=1, RestingECG='Normal', MaxHR=152, ExerciseAngina='Y', Oldpeak=1.0, ST_Slope='Flat', HeartDisease=1),\n",
              " Row(Age=46, Sex='M', ChestPainType='ASY', RestingBP=118, Cholesterol=186, FastingBS=0, RestingECG='Normal', MaxHR=124, ExerciseAngina='N', Oldpeak=0.0, ST_Slope='Flat', HeartDisease=1),\n",
              " Row(Age=57, Sex='M', ChestPainType='ATA', RestingBP=140, Cholesterol=260, FastingBS=1, RestingECG='Normal', MaxHR=140, ExerciseAngina='N', Oldpeak=0.0, ST_Slope='Up', HeartDisease=0),\n",
              " Row(Age=48, Sex='F', ChestPainType='ASY', RestingBP=120, Cholesterol=254, FastingBS=0, RestingECG='ST', MaxHR=110, ExerciseAngina='N', Oldpeak=0.0, ST_Slope='Up', HeartDisease=0),\n",
              " Row(Age=34, Sex='M', ChestPainType='ATA', RestingBP=150, Cholesterol=214, FastingBS=0, RestingECG='ST', MaxHR=168, ExerciseAngina='N', Oldpeak=0.0, ST_Slope='Up', HeartDisease=0),\n",
              " Row(Age=50, Sex='M', ChestPainType='ASY', RestingBP=140, Cholesterol=129, FastingBS=0, RestingECG='Normal', MaxHR=135, ExerciseAngina='N', Oldpeak=0.0, ST_Slope='Up', HeartDisease=0),\n",
              " Row(Age=39, Sex='M', ChestPainType='ATA', RestingBP=190, Cholesterol=241, FastingBS=0, RestingECG='Normal', MaxHR=106, ExerciseAngina='N', Oldpeak=0.0, ST_Slope='Up', HeartDisease=0),\n",
              " Row(Age=59, Sex='F', ChestPainType='ATA', RestingBP=130, Cholesterol=188, FastingBS=0, RestingECG='Normal', MaxHR=124, ExerciseAngina='N', Oldpeak=1.0, ST_Slope='Flat', HeartDisease=0),\n",
              " Row(Age=57, Sex='M', ChestPainType='ASY', RestingBP=150, Cholesterol=255, FastingBS=0, RestingECG='Normal', MaxHR=92, ExerciseAngina='Y', Oldpeak=3.0, ST_Slope='Flat', HeartDisease=1),\n",
              " Row(Age=47, Sex='M', ChestPainType='ASY', RestingBP=140, Cholesterol=276, FastingBS=1, RestingECG='Normal', MaxHR=125, ExerciseAngina='Y', Oldpeak=0.0, ST_Slope='Up', HeartDisease=0),\n",
              " Row(Age=38, Sex='M', ChestPainType='ATA', RestingBP=140, Cholesterol=297, FastingBS=0, RestingECG='Normal', MaxHR=150, ExerciseAngina='N', Oldpeak=0.0, ST_Slope='Up', HeartDisease=0),\n",
              " Row(Age=49, Sex='F', ChestPainType='NAP', RestingBP=130, Cholesterol=207, FastingBS=0, RestingECG='ST', MaxHR=135, ExerciseAngina='N', Oldpeak=0.0, ST_Slope='Up', HeartDisease=0),\n",
              " Row(Age=33, Sex='F', ChestPainType='ASY', RestingBP=100, Cholesterol=246, FastingBS=0, RestingECG='Normal', MaxHR=150, ExerciseAngina='Y', Oldpeak=1.0, ST_Slope='Flat', HeartDisease=1),\n",
              " Row(Age=38, Sex='M', ChestPainType='ASY', RestingBP=120, Cholesterol=282, FastingBS=0, RestingECG='Normal', MaxHR=170, ExerciseAngina='N', Oldpeak=0.0, ST_Slope='Flat', HeartDisease=1),\n",
              " Row(Age=59, Sex='F', ChestPainType='ASY', RestingBP=130, Cholesterol=338, FastingBS=1, RestingECG='ST', MaxHR=130, ExerciseAngina='Y', Oldpeak=1.5, ST_Slope='Flat', HeartDisease=1),\n",
              " Row(Age=35, Sex='F', ChestPainType='TA', RestingBP=120, Cholesterol=160, FastingBS=0, RestingECG='ST', MaxHR=185, ExerciseAngina='N', Oldpeak=0.0, ST_Slope='Up', HeartDisease=0),\n",
              " Row(Age=34, Sex='M', ChestPainType='TA', RestingBP=140, Cholesterol=156, FastingBS=0, RestingECG='Normal', MaxHR=180, ExerciseAngina='N', Oldpeak=0.0, ST_Slope='Flat', HeartDisease=1),\n",
              " Row(Age=47, Sex='F', ChestPainType='NAP', RestingBP=135, Cholesterol=248, FastingBS=1, RestingECG='Normal', MaxHR=170, ExerciseAngina='N', Oldpeak=0.0, ST_Slope='Flat', HeartDisease=1),\n",
              " Row(Age=52, Sex='F', ChestPainType='NAP', RestingBP=125, Cholesterol=272, FastingBS=0, RestingECG='Normal', MaxHR=139, ExerciseAngina='N', Oldpeak=0.0, ST_Slope='Up', HeartDisease=0),\n",
              " Row(Age=46, Sex='M', ChestPainType='ASY', RestingBP=110, Cholesterol=240, FastingBS=0, RestingECG='ST', MaxHR=140, ExerciseAngina='N', Oldpeak=0.0, ST_Slope='Up', HeartDisease=0),\n",
              " Row(Age=58, Sex='F', ChestPainType='ATA', RestingBP=180, Cholesterol=393, FastingBS=0, RestingECG='Normal', MaxHR=110, ExerciseAngina='Y', Oldpeak=1.0, ST_Slope='Flat', HeartDisease=1),\n",
              " Row(Age=58, Sex='M', ChestPainType='ATA', RestingBP=130, Cholesterol=230, FastingBS=0, RestingECG='Normal', MaxHR=150, ExerciseAngina='N', Oldpeak=0.0, ST_Slope='Up', HeartDisease=0),\n",
              " Row(Age=54, Sex='M', ChestPainType='ATA', RestingBP=120, Cholesterol=246, FastingBS=0, RestingECG='Normal', MaxHR=110, ExerciseAngina='N', Oldpeak=0.0, ST_Slope='Up', HeartDisease=0),\n",
              " Row(Age=34, Sex='F', ChestPainType='ATA', RestingBP=130, Cholesterol=161, FastingBS=0, RestingECG='Normal', MaxHR=190, ExerciseAngina='N', Oldpeak=0.0, ST_Slope='Up', HeartDisease=0),\n",
              " Row(Age=48, Sex='F', ChestPainType='ASY', RestingBP=108, Cholesterol=163, FastingBS=0, RestingECG='Normal', MaxHR=175, ExerciseAngina='N', Oldpeak=2.0, ST_Slope='Up', HeartDisease=0),\n",
              " Row(Age=54, Sex='F', ChestPainType='ATA', RestingBP=120, Cholesterol=230, FastingBS=1, RestingECG='Normal', MaxHR=140, ExerciseAngina='N', Oldpeak=0.0, ST_Slope='Up', HeartDisease=0),\n",
              " Row(Age=42, Sex='M', ChestPainType='NAP', RestingBP=120, Cholesterol=228, FastingBS=0, RestingECG='Normal', MaxHR=152, ExerciseAngina='Y', Oldpeak=1.5, ST_Slope='Flat', HeartDisease=0),\n",
              " Row(Age=38, Sex='M', ChestPainType='NAP', RestingBP=145, Cholesterol=292, FastingBS=0, RestingECG='Normal', MaxHR=130, ExerciseAngina='N', Oldpeak=0.0, ST_Slope='Up', HeartDisease=0),\n",
              " Row(Age=46, Sex='M', ChestPainType='ASY', RestingBP=110, Cholesterol=202, FastingBS=0, RestingECG='Normal', MaxHR=150, ExerciseAngina='Y', Oldpeak=0.0, ST_Slope='Flat', HeartDisease=1),\n",
              " Row(Age=56, Sex='M', ChestPainType='ASY', RestingBP=170, Cholesterol=388, FastingBS=0, RestingECG='ST', MaxHR=122, ExerciseAngina='Y', Oldpeak=2.0, ST_Slope='Flat', HeartDisease=1),\n",
              " Row(Age=56, Sex='M', ChestPainType='ASY', RestingBP=150, Cholesterol=230, FastingBS=0, RestingECG='ST', MaxHR=124, ExerciseAngina='Y', Oldpeak=1.5, ST_Slope='Flat', HeartDisease=1),\n",
              " Row(Age=61, Sex='F', ChestPainType='ASY', RestingBP=130, Cholesterol=294, FastingBS=0, RestingECG='ST', MaxHR=120, ExerciseAngina='Y', Oldpeak=1.0, ST_Slope='Flat', HeartDisease=0),\n",
              " Row(Age=49, Sex='M', ChestPainType='NAP', RestingBP=115, Cholesterol=265, FastingBS=0, RestingECG='Normal', MaxHR=175, ExerciseAngina='N', Oldpeak=0.0, ST_Slope='Flat', HeartDisease=1),\n",
              " Row(Age=43, Sex='F', ChestPainType='ATA', RestingBP=120, Cholesterol=215, FastingBS=0, RestingECG='ST', MaxHR=175, ExerciseAngina='N', Oldpeak=0.0, ST_Slope='Up', HeartDisease=0),\n",
              " Row(Age=39, Sex='M', ChestPainType='ATA', RestingBP=120, Cholesterol=241, FastingBS=0, RestingECG='ST', MaxHR=146, ExerciseAngina='N', Oldpeak=2.0, ST_Slope='Up', HeartDisease=0),\n",
              " Row(Age=54, Sex='M', ChestPainType='ASY', RestingBP=140, Cholesterol=166, FastingBS=0, RestingECG='Normal', MaxHR=118, ExerciseAngina='Y', Oldpeak=0.0, ST_Slope='Flat', HeartDisease=1),\n",
              " Row(Age=43, Sex='M', ChestPainType='ASY', RestingBP=150, Cholesterol=247, FastingBS=0, RestingECG='Normal', MaxHR=130, ExerciseAngina='Y', Oldpeak=2.0, ST_Slope='Flat', HeartDisease=1),\n",
              " Row(Age=52, Sex='M', ChestPainType='ASY', RestingBP=160, Cholesterol=331, FastingBS=0, RestingECG='Normal', MaxHR=94, ExerciseAngina='Y', Oldpeak=2.5, ST_Slope='Flat', HeartDisease=1),\n",
              " Row(Age=50, Sex='M', ChestPainType='ASY', RestingBP=140, Cholesterol=341, FastingBS=0, RestingECG='ST', MaxHR=125, ExerciseAngina='Y', Oldpeak=2.5, ST_Slope='Flat', HeartDisease=1),\n",
              " Row(Age=47, Sex='M', ChestPainType='ASY', RestingBP=160, Cholesterol=291, FastingBS=0, RestingECG='ST', MaxHR=158, ExerciseAngina='Y', Oldpeak=3.0, ST_Slope='Flat', HeartDisease=1),\n",
              " Row(Age=53, Sex='M', ChestPainType='ASY', RestingBP=140, Cholesterol=243, FastingBS=0, RestingECG='Normal', MaxHR=155, ExerciseAngina='N', Oldpeak=0.0, ST_Slope='Up', HeartDisease=0),\n",
              " Row(Age=56, Sex='F', ChestPainType='ATA', RestingBP=120, Cholesterol=279, FastingBS=0, RestingECG='Normal', MaxHR=150, ExerciseAngina='N', Oldpeak=1.0, ST_Slope='Flat', HeartDisease=1),\n",
              " Row(Age=39, Sex='M', ChestPainType='ASY', RestingBP=110, Cholesterol=273, FastingBS=0, RestingECG='Normal', MaxHR=132, ExerciseAngina='N', Oldpeak=0.0, ST_Slope='Up', HeartDisease=0),\n",
              " Row(Age=42, Sex='M', ChestPainType='ATA', RestingBP=120, Cholesterol=198, FastingBS=0, RestingECG='Normal', MaxHR=155, ExerciseAngina='N', Oldpeak=0.0, ST_Slope='Up', HeartDisease=0),\n",
              " Row(Age=43, Sex='F', ChestPainType='ATA', RestingBP=120, Cholesterol=249, FastingBS=0, RestingECG='ST', MaxHR=176, ExerciseAngina='N', Oldpeak=0.0, ST_Slope='Up', HeartDisease=0),\n",
              " Row(Age=50, Sex='M', ChestPainType='ATA', RestingBP=120, Cholesterol=168, FastingBS=0, RestingECG='Normal', MaxHR=160, ExerciseAngina='N', Oldpeak=0.0, ST_Slope='Up', HeartDisease=0),\n",
              " Row(Age=54, Sex='M', ChestPainType='ASY', RestingBP=130, Cholesterol=603, FastingBS=1, RestingECG='Normal', MaxHR=125, ExerciseAngina='Y', Oldpeak=1.0, ST_Slope='Flat', HeartDisease=1),\n",
              " Row(Age=39, Sex='M', ChestPainType='ATA', RestingBP=130, Cholesterol=215, FastingBS=0, RestingECG='Normal', MaxHR=120, ExerciseAngina='N', Oldpeak=0.0, ST_Slope='Up', HeartDisease=0),\n",
              " Row(Age=48, Sex='M', ChestPainType='ATA', RestingBP=100, Cholesterol=159, FastingBS=0, RestingECG='Normal', MaxHR=100, ExerciseAngina='N', Oldpeak=0.0, ST_Slope='Up', HeartDisease=0),\n",
              " Row(Age=40, Sex='M', ChestPainType='ATA', RestingBP=130, Cholesterol=275, FastingBS=0, RestingECG='Normal', MaxHR=150, ExerciseAngina='N', Oldpeak=0.0, ST_Slope='Up', HeartDisease=0),\n",
              " Row(Age=55, Sex='M', ChestPainType='ASY', RestingBP=120, Cholesterol=270, FastingBS=0, RestingECG='Normal', MaxHR=140, ExerciseAngina='N', Oldpeak=0.0, ST_Slope='Up', HeartDisease=0),\n",
              " Row(Age=41, Sex='M', ChestPainType='ATA', RestingBP=120, Cholesterol=291, FastingBS=0, RestingECG='ST', MaxHR=160, ExerciseAngina='N', Oldpeak=0.0, ST_Slope='Up', HeartDisease=0),\n",
              " Row(Age=56, Sex='M', ChestPainType='ASY', RestingBP=155, Cholesterol=342, FastingBS=1, RestingECG='Normal', MaxHR=150, ExerciseAngina='Y', Oldpeak=3.0, ST_Slope='Flat', HeartDisease=1),\n",
              " Row(Age=38, Sex='M', ChestPainType='ASY', RestingBP=110, Cholesterol=190, FastingBS=0, RestingECG='Normal', MaxHR=150, ExerciseAngina='Y', Oldpeak=1.0, ST_Slope='Flat', HeartDisease=1),\n",
              " Row(Age=49, Sex='M', ChestPainType='ASY', RestingBP=140, Cholesterol=185, FastingBS=0, RestingECG='Normal', MaxHR=130, ExerciseAngina='N', Oldpeak=0.0, ST_Slope='Up', HeartDisease=0),\n",
              " Row(Age=44, Sex='M', ChestPainType='ASY', RestingBP=130, Cholesterol=290, FastingBS=0, RestingECG='Normal', MaxHR=100, ExerciseAngina='Y', Oldpeak=2.0, ST_Slope='Flat', HeartDisease=1),\n",
              " Row(Age=54, Sex='M', ChestPainType='ATA', RestingBP=160, Cholesterol=195, FastingBS=0, RestingECG='ST', MaxHR=130, ExerciseAngina='N', Oldpeak=1.0, ST_Slope='Up', HeartDisease=0),\n",
              " Row(Age=59, Sex='M', ChestPainType='ASY', RestingBP=140, Cholesterol=264, FastingBS=1, RestingECG='LVH', MaxHR=119, ExerciseAngina='Y', Oldpeak=0.0, ST_Slope='Flat', HeartDisease=1),\n",
              " Row(Age=49, Sex='M', ChestPainType='ASY', RestingBP=128, Cholesterol=212, FastingBS=0, RestingECG='Normal', MaxHR=96, ExerciseAngina='Y', Oldpeak=0.0, ST_Slope='Flat', HeartDisease=1),\n",
              " Row(Age=47, Sex='M', ChestPainType='ATA', RestingBP=160, Cholesterol=263, FastingBS=0, RestingECG='Normal', MaxHR=174, ExerciseAngina='N', Oldpeak=0.0, ST_Slope='Up', HeartDisease=0),\n",
              " Row(Age=42, Sex='M', ChestPainType='ATA', RestingBP=120, Cholesterol=196, FastingBS=0, RestingECG='Normal', MaxHR=150, ExerciseAngina='N', Oldpeak=0.0, ST_Slope='Up', HeartDisease=0),\n",
              " Row(Age=52, Sex='F', ChestPainType='ATA', RestingBP=140, Cholesterol=225, FastingBS=0, RestingECG='Normal', MaxHR=140, ExerciseAngina='N', Oldpeak=0.0, ST_Slope='Up', HeartDisease=0),\n",
              " Row(Age=46, Sex='M', ChestPainType='TA', RestingBP=140, Cholesterol=272, FastingBS=1, RestingECG='Normal', MaxHR=175, ExerciseAngina='N', Oldpeak=2.0, ST_Slope='Flat', HeartDisease=1),\n",
              " Row(Age=50, Sex='M', ChestPainType='ASY', RestingBP=140, Cholesterol=231, FastingBS=0, RestingECG='ST', MaxHR=140, ExerciseAngina='Y', Oldpeak=5.0, ST_Slope='Flat', HeartDisease=1),\n",
              " Row(Age=48, Sex='M', ChestPainType='ATA', RestingBP=140, Cholesterol=238, FastingBS=0, RestingECG='Normal', MaxHR=118, ExerciseAngina='N', Oldpeak=0.0, ST_Slope='Up', HeartDisease=0),\n",
              " Row(Age=58, Sex='M', ChestPainType='ASY', RestingBP=135, Cholesterol=222, FastingBS=0, RestingECG='Normal', MaxHR=100, ExerciseAngina='N', Oldpeak=0.0, ST_Slope='Up', HeartDisease=0),\n",
              " Row(Age=58, Sex='M', ChestPainType='NAP', RestingBP=140, Cholesterol=179, FastingBS=0, RestingECG='Normal', MaxHR=160, ExerciseAngina='N', Oldpeak=0.0, ST_Slope='Up', HeartDisease=0),\n",
              " Row(Age=29, Sex='M', ChestPainType='ATA', RestingBP=120, Cholesterol=243, FastingBS=0, RestingECG='Normal', MaxHR=160, ExerciseAngina='N', Oldpeak=0.0, ST_Slope='Up', HeartDisease=0),\n",
              " Row(Age=40, Sex='M', ChestPainType='NAP', RestingBP=140, Cholesterol=235, FastingBS=0, RestingECG='Normal', MaxHR=188, ExerciseAngina='N', Oldpeak=0.0, ST_Slope='Up', HeartDisease=0),\n",
              " Row(Age=53, Sex='M', ChestPainType='ATA', RestingBP=140, Cholesterol=320, FastingBS=0, RestingECG='Normal', MaxHR=162, ExerciseAngina='N', Oldpeak=0.0, ST_Slope='Up', HeartDisease=0),\n",
              " Row(Age=49, Sex='M', ChestPainType='NAP', RestingBP=140, Cholesterol=187, FastingBS=0, RestingECG='Normal', MaxHR=172, ExerciseAngina='N', Oldpeak=0.0, ST_Slope='Up', HeartDisease=0),\n",
              " Row(Age=52, Sex='M', ChestPainType='ASY', RestingBP=140, Cholesterol=266, FastingBS=0, RestingECG='Normal', MaxHR=134, ExerciseAngina='Y', Oldpeak=2.0, ST_Slope='Flat', HeartDisease=1),\n",
              " Row(Age=43, Sex='M', ChestPainType='ASY', RestingBP=140, Cholesterol=288, FastingBS=0, RestingECG='Normal', MaxHR=135, ExerciseAngina='Y', Oldpeak=2.0, ST_Slope='Flat', HeartDisease=1),\n",
              " Row(Age=54, Sex='M', ChestPainType='ASY', RestingBP=140, Cholesterol=216, FastingBS=0, RestingECG='Normal', MaxHR=105, ExerciseAngina='N', Oldpeak=1.5, ST_Slope='Flat', HeartDisease=1),\n",
              " Row(Age=59, Sex='M', ChestPainType='ATA', RestingBP=140, Cholesterol=287, FastingBS=0, RestingECG='Normal', MaxHR=150, ExerciseAngina='N', Oldpeak=0.0, ST_Slope='Up', HeartDisease=0),\n",
              " Row(Age=37, Sex='M', ChestPainType='NAP', RestingBP=130, Cholesterol=194, FastingBS=0, RestingECG='Normal', MaxHR=150, ExerciseAngina='N', Oldpeak=0.0, ST_Slope='Up', HeartDisease=0),\n",
              " Row(Age=46, Sex='F', ChestPainType='ASY', RestingBP=130, Cholesterol=238, FastingBS=0, RestingECG='Normal', MaxHR=90, ExerciseAngina='N', Oldpeak=0.0, ST_Slope='Up', HeartDisease=0),\n",
              " Row(Age=52, Sex='M', ChestPainType='ASY', RestingBP=130, Cholesterol=225, FastingBS=0, RestingECG='Normal', MaxHR=120, ExerciseAngina='Y', Oldpeak=2.0, ST_Slope='Flat', HeartDisease=1),\n",
              " Row(Age=51, Sex='M', ChestPainType='ATA', RestingBP=130, Cholesterol=224, FastingBS=0, RestingECG='Normal', MaxHR=150, ExerciseAngina='N', Oldpeak=0.0, ST_Slope='Up', HeartDisease=0),\n",
              " Row(Age=52, Sex='M', ChestPainType='ASY', RestingBP=140, Cholesterol=404, FastingBS=0, RestingECG='Normal', MaxHR=124, ExerciseAngina='Y', Oldpeak=2.0, ST_Slope='Flat', HeartDisease=1),\n",
              " Row(Age=46, Sex='M', ChestPainType='ASY', RestingBP=110, Cholesterol=238, FastingBS=0, RestingECG='ST', MaxHR=140, ExerciseAngina='Y', Oldpeak=1.0, ST_Slope='Flat', HeartDisease=0),\n",
              " Row(Age=54, Sex='F', ChestPainType='ATA', RestingBP=160, Cholesterol=312, FastingBS=0, RestingECG='Normal', MaxHR=130, ExerciseAngina='N', Oldpeak=0.0, ST_Slope='Up', HeartDisease=0),\n",
              " Row(Age=58, Sex='M', ChestPainType='NAP', RestingBP=160, Cholesterol=211, FastingBS=1, RestingECG='ST', MaxHR=92, ExerciseAngina='N', Oldpeak=0.0, ST_Slope='Flat', HeartDisease=1),\n",
              " Row(Age=58, Sex='M', ChestPainType='ATA', RestingBP=130, Cholesterol=251, FastingBS=0, RestingECG='Normal', MaxHR=110, ExerciseAngina='N', Oldpeak=0.0, ST_Slope='Up', HeartDisease=0),\n",
              " Row(Age=41, Sex='M', ChestPainType='ASY', RestingBP=120, Cholesterol=237, FastingBS=1, RestingECG='Normal', MaxHR=138, ExerciseAngina='Y', Oldpeak=1.0, ST_Slope='Flat', HeartDisease=1),\n",
              " Row(Age=50, Sex='F', ChestPainType='ASY', RestingBP=120, Cholesterol=328, FastingBS=0, RestingECG='Normal', MaxHR=110, ExerciseAngina='Y', Oldpeak=1.0, ST_Slope='Flat', HeartDisease=0),\n",
              " Row(Age=53, Sex='M', ChestPainType='ASY', RestingBP=180, Cholesterol=285, FastingBS=0, RestingECG='ST', MaxHR=120, ExerciseAngina='Y', Oldpeak=1.5, ST_Slope='Flat', HeartDisease=1),\n",
              " Row(Age=46, Sex='M', ChestPainType='ASY', RestingBP=180, Cholesterol=280, FastingBS=0, RestingECG='ST', MaxHR=120, ExerciseAngina='N', Oldpeak=0.0, ST_Slope='Up', HeartDisease=0),\n",
              " Row(Age=50, Sex='M', ChestPainType='ATA', RestingBP=170, Cholesterol=209, FastingBS=0, RestingECG='ST', MaxHR=116, ExerciseAngina='N', Oldpeak=0.0, ST_Slope='Up', HeartDisease=0),\n",
              " Row(Age=48, Sex='M', ChestPainType='ATA', RestingBP=130, Cholesterol=245, FastingBS=0, RestingECG='Normal', MaxHR=160, ExerciseAngina='N', Oldpeak=0.0, ST_Slope='Up', HeartDisease=0),\n",
              " Row(Age=45, Sex='M', ChestPainType='NAP', RestingBP=135, Cholesterol=192, FastingBS=0, RestingECG='Normal', MaxHR=110, ExerciseAngina='N', Oldpeak=0.0, ST_Slope='Up', HeartDisease=0),\n",
              " Row(Age=41, Sex='F', ChestPainType='ATA', RestingBP=125, Cholesterol=184, FastingBS=0, RestingECG='Normal', MaxHR=180, ExerciseAngina='N', Oldpeak=0.0, ST_Slope='Up', HeartDisease=0),\n",
              " Row(Age=62, Sex='F', ChestPainType='TA', RestingBP=160, Cholesterol=193, FastingBS=0, RestingECG='Normal', MaxHR=116, ExerciseAngina='N', Oldpeak=0.0, ST_Slope='Up', HeartDisease=0),\n",
              " Row(Age=49, Sex='M', ChestPainType='ASY', RestingBP=120, Cholesterol=297, FastingBS=0, RestingECG='Normal', MaxHR=132, ExerciseAngina='N', Oldpeak=1.0, ST_Slope='Flat', HeartDisease=0),\n",
              " Row(Age=42, Sex='M', ChestPainType='ATA', RestingBP=150, Cholesterol=268, FastingBS=0, RestingECG='Normal', MaxHR=136, ExerciseAngina='N', Oldpeak=0.0, ST_Slope='Up', HeartDisease=0),\n",
              " Row(Age=53, Sex='M', ChestPainType='ASY', RestingBP=120, Cholesterol=246, FastingBS=0, RestingECG='Normal', MaxHR=116, ExerciseAngina='Y', Oldpeak=0.0, ST_Slope='Flat', HeartDisease=1),\n",
              " Row(Age=57, Sex='F', ChestPainType='TA', RestingBP=130, Cholesterol=308, FastingBS=0, RestingECG='Normal', MaxHR=98, ExerciseAngina='N', Oldpeak=1.0, ST_Slope='Flat', HeartDisease=0),\n",
              " Row(Age=47, Sex='M', ChestPainType='TA', RestingBP=110, Cholesterol=249, FastingBS=0, RestingECG='Normal', MaxHR=150, ExerciseAngina='N', Oldpeak=0.0, ST_Slope='Up', HeartDisease=0),\n",
              " Row(Age=46, Sex='M', ChestPainType='NAP', RestingBP=120, Cholesterol=230, FastingBS=0, RestingECG='Normal', MaxHR=150, ExerciseAngina='N', Oldpeak=0.0, ST_Slope='Up', HeartDisease=0),\n",
              " Row(Age=42, Sex='M', ChestPainType='NAP', RestingBP=160, Cholesterol=147, FastingBS=0, RestingECG='Normal', MaxHR=146, ExerciseAngina='N', Oldpeak=0.0, ST_Slope='Up', HeartDisease=0),\n",
              " Row(Age=31, Sex='F', ChestPainType='ATA', RestingBP=100, Cholesterol=219, FastingBS=0, RestingECG='ST', MaxHR=150, ExerciseAngina='N', Oldpeak=0.0, ST_Slope='Up', HeartDisease=0),\n",
              " Row(Age=56, Sex='M', ChestPainType='ATA', RestingBP=130, Cholesterol=184, FastingBS=0, RestingECG='Normal', MaxHR=100, ExerciseAngina='N', Oldpeak=0.0, ST_Slope='Up', HeartDisease=0),\n",
              " Row(Age=50, Sex='M', ChestPainType='ASY', RestingBP=150, Cholesterol=215, FastingBS=0, RestingECG='Normal', MaxHR=140, ExerciseAngina='Y', Oldpeak=0.0, ST_Slope='Up', HeartDisease=0),\n",
              " Row(Age=35, Sex='M', ChestPainType='ATA', RestingBP=120, Cholesterol=308, FastingBS=0, RestingECG='LVH', MaxHR=180, ExerciseAngina='N', Oldpeak=0.0, ST_Slope='Up', HeartDisease=0),\n",
              " Row(Age=35, Sex='M', ChestPainType='ATA', RestingBP=110, Cholesterol=257, FastingBS=0, RestingECG='Normal', MaxHR=140, ExerciseAngina='N', Oldpeak=0.0, ST_Slope='Flat', HeartDisease=1),\n",
              " Row(Age=28, Sex='M', ChestPainType='ATA', RestingBP=130, Cholesterol=132, FastingBS=0, RestingECG='LVH', MaxHR=185, ExerciseAngina='N', Oldpeak=0.0, ST_Slope='Up', HeartDisease=0),\n",
              " Row(Age=54, Sex='M', ChestPainType='ASY', RestingBP=125, Cholesterol=216, FastingBS=0, RestingECG='Normal', MaxHR=140, ExerciseAngina='N', Oldpeak=0.0, ST_Slope='Flat', HeartDisease=1),\n",
              " Row(Age=48, Sex='M', ChestPainType='ASY', RestingBP=106, Cholesterol=263, FastingBS=1, RestingECG='Normal', MaxHR=110, ExerciseAngina='N', Oldpeak=0.0, ST_Slope='Flat', HeartDisease=1),\n",
              " Row(Age=50, Sex='F', ChestPainType='NAP', RestingBP=140, Cholesterol=288, FastingBS=0, RestingECG='Normal', MaxHR=140, ExerciseAngina='Y', Oldpeak=0.0, ST_Slope='Flat', HeartDisease=1),\n",
              " Row(Age=56, Sex='M', ChestPainType='NAP', RestingBP=130, Cholesterol=276, FastingBS=0, RestingECG='Normal', MaxHR=128, ExerciseAngina='Y', Oldpeak=1.0, ST_Slope='Up', HeartDisease=0),\n",
              " Row(Age=56, Sex='F', ChestPainType='NAP', RestingBP=130, Cholesterol=219, FastingBS=0, RestingECG='ST', MaxHR=164, ExerciseAngina='N', Oldpeak=0.0, ST_Slope='Up', HeartDisease=0),\n",
              " Row(Age=47, Sex='M', ChestPainType='ASY', RestingBP=150, Cholesterol=226, FastingBS=0, RestingECG='Normal', MaxHR=98, ExerciseAngina='Y', Oldpeak=1.5, ST_Slope='Flat', HeartDisease=1),\n",
              " Row(Age=30, Sex='F', ChestPainType='TA', RestingBP=170, Cholesterol=237, FastingBS=0, RestingECG='ST', MaxHR=170, ExerciseAngina='N', Oldpeak=0.0, ST_Slope='Up', HeartDisease=0),\n",
              " Row(Age=39, Sex='M', ChestPainType='ASY', RestingBP=110, Cholesterol=280, FastingBS=0, RestingECG='Normal', MaxHR=150, ExerciseAngina='N', Oldpeak=0.0, ST_Slope='Flat', HeartDisease=1),\n",
              " Row(Age=54, Sex='M', ChestPainType='NAP', RestingBP=120, Cholesterol=217, FastingBS=0, RestingECG='Normal', MaxHR=137, ExerciseAngina='N', Oldpeak=0.0, ST_Slope='Up', HeartDisease=0),\n",
              " Row(Age=55, Sex='M', ChestPainType='ATA', RestingBP=140, Cholesterol=196, FastingBS=0, RestingECG='Normal', MaxHR=150, ExerciseAngina='N', Oldpeak=0.0, ST_Slope='Up', HeartDisease=0),\n",
              " Row(Age=29, Sex='M', ChestPainType='ATA', RestingBP=140, Cholesterol=263, FastingBS=0, RestingECG='Normal', MaxHR=170, ExerciseAngina='N', Oldpeak=0.0, ST_Slope='Up', HeartDisease=0),\n",
              " Row(Age=46, Sex='M', ChestPainType='ASY', RestingBP=130, Cholesterol=222, FastingBS=0, RestingECG='Normal', MaxHR=112, ExerciseAngina='N', Oldpeak=0.0, ST_Slope='Flat', HeartDisease=1),\n",
              " Row(Age=51, Sex='F', ChestPainType='ASY', RestingBP=160, Cholesterol=303, FastingBS=0, RestingECG='Normal', MaxHR=150, ExerciseAngina='Y', Oldpeak=1.0, ST_Slope='Flat', HeartDisease=1),\n",
              " Row(Age=48, Sex='F', ChestPainType='NAP', RestingBP=120, Cholesterol=195, FastingBS=0, RestingECG='Normal', MaxHR=125, ExerciseAngina='N', Oldpeak=0.0, ST_Slope='Up', HeartDisease=0),\n",
              " Row(Age=33, Sex='M', ChestPainType='NAP', RestingBP=120, Cholesterol=298, FastingBS=0, RestingECG='Normal', MaxHR=185, ExerciseAngina='N', Oldpeak=0.0, ST_Slope='Up', HeartDisease=0),\n",
              " Row(Age=55, Sex='M', ChestPainType='ATA', RestingBP=120, Cholesterol=256, FastingBS=1, RestingECG='Normal', MaxHR=137, ExerciseAngina='N', Oldpeak=0.0, ST_Slope='Up', HeartDisease=0),\n",
              " Row(Age=50, Sex='M', ChestPainType='ASY', RestingBP=145, Cholesterol=264, FastingBS=0, RestingECG='Normal', MaxHR=150, ExerciseAngina='N', Oldpeak=0.0, ST_Slope='Flat', HeartDisease=1),\n",
              " Row(Age=53, Sex='M', ChestPainType='NAP', RestingBP=120, Cholesterol=195, FastingBS=0, RestingECG='Normal', MaxHR=140, ExerciseAngina='N', Oldpeak=0.0, ST_Slope='Up', HeartDisease=0),\n",
              " Row(Age=38, Sex='M', ChestPainType='ASY', RestingBP=92, Cholesterol=117, FastingBS=0, RestingECG='Normal', MaxHR=134, ExerciseAngina='Y', Oldpeak=2.5, ST_Slope='Flat', HeartDisease=1),\n",
              " Row(Age=41, Sex='M', ChestPainType='ATA', RestingBP=120, Cholesterol=295, FastingBS=0, RestingECG='Normal', MaxHR=170, ExerciseAngina='N', Oldpeak=0.0, ST_Slope='Up', HeartDisease=0),\n",
              " Row(Age=37, Sex='F', ChestPainType='ASY', RestingBP=130, Cholesterol=173, FastingBS=0, RestingECG='ST', MaxHR=184, ExerciseAngina='N', Oldpeak=0.0, ST_Slope='Up', HeartDisease=0),\n",
              " Row(Age=37, Sex='M', ChestPainType='ASY', RestingBP=130, Cholesterol=315, FastingBS=0, RestingECG='Normal', MaxHR=158, ExerciseAngina='N', Oldpeak=0.0, ST_Slope='Up', HeartDisease=0),\n",
              " Row(Age=40, Sex='M', ChestPainType='NAP', RestingBP=130, Cholesterol=281, FastingBS=0, RestingECG='Normal', MaxHR=167, ExerciseAngina='N', Oldpeak=0.0, ST_Slope='Up', HeartDisease=0),\n",
              " Row(Age=38, Sex='F', ChestPainType='ATA', RestingBP=120, Cholesterol=275, FastingBS=0, RestingECG='Normal', MaxHR=129, ExerciseAngina='N', Oldpeak=0.0, ST_Slope='Up', HeartDisease=0),\n",
              " Row(Age=41, Sex='M', ChestPainType='ASY', RestingBP=112, Cholesterol=250, FastingBS=0, RestingECG='Normal', MaxHR=142, ExerciseAngina='N', Oldpeak=0.0, ST_Slope='Up', HeartDisease=0),\n",
              " Row(Age=54, Sex='F', ChestPainType='ATA', RestingBP=140, Cholesterol=309, FastingBS=0, RestingECG='ST', MaxHR=140, ExerciseAngina='N', Oldpeak=0.0, ST_Slope='Up', HeartDisease=0),\n",
              " Row(Age=39, Sex='M', ChestPainType='ATA', RestingBP=120, Cholesterol=200, FastingBS=0, RestingECG='Normal', MaxHR=160, ExerciseAngina='Y', Oldpeak=1.0, ST_Slope='Flat', HeartDisease=0),\n",
              " Row(Age=41, Sex='M', ChestPainType='ASY', RestingBP=120, Cholesterol=336, FastingBS=0, RestingECG='Normal', MaxHR=118, ExerciseAngina='Y', Oldpeak=3.0, ST_Slope='Flat', HeartDisease=1),\n",
              " Row(Age=55, Sex='M', ChestPainType='TA', RestingBP=140, Cholesterol=295, FastingBS=0, RestingECG='Normal', MaxHR=136, ExerciseAngina='N', Oldpeak=0.0, ST_Slope='Flat', HeartDisease=1),\n",
              " Row(Age=48, Sex='M', ChestPainType='ASY', RestingBP=160, Cholesterol=355, FastingBS=0, RestingECG='Normal', MaxHR=99, ExerciseAngina='Y', Oldpeak=2.0, ST_Slope='Flat', HeartDisease=1),\n",
              " Row(Age=48, Sex='M', ChestPainType='ASY', RestingBP=160, Cholesterol=193, FastingBS=0, RestingECG='Normal', MaxHR=102, ExerciseAngina='Y', Oldpeak=3.0, ST_Slope='Flat', HeartDisease=1),\n",
              " Row(Age=55, Sex='M', ChestPainType='ATA', RestingBP=145, Cholesterol=326, FastingBS=0, RestingECG='Normal', MaxHR=155, ExerciseAngina='N', Oldpeak=0.0, ST_Slope='Up', HeartDisease=0),\n",
              " Row(Age=54, Sex='M', ChestPainType='ASY', RestingBP=200, Cholesterol=198, FastingBS=0, RestingECG='Normal', MaxHR=142, ExerciseAngina='Y', Oldpeak=2.0, ST_Slope='Flat', HeartDisease=1),\n",
              " Row(Age=55, Sex='M', ChestPainType='ATA', RestingBP=160, Cholesterol=292, FastingBS=1, RestingECG='Normal', MaxHR=143, ExerciseAngina='Y', Oldpeak=2.0, ST_Slope='Flat', HeartDisease=1),\n",
              " Row(Age=43, Sex='F', ChestPainType='ATA', RestingBP=120, Cholesterol=266, FastingBS=0, RestingECG='Normal', MaxHR=118, ExerciseAngina='N', Oldpeak=0.0, ST_Slope='Up', HeartDisease=0),\n",
              " Row(Age=48, Sex='M', ChestPainType='ASY', RestingBP=160, Cholesterol=268, FastingBS=0, RestingECG='Normal', MaxHR=103, ExerciseAngina='Y', Oldpeak=1.0, ST_Slope='Flat', HeartDisease=1),\n",
              " Row(Age=54, Sex='M', ChestPainType='TA', RestingBP=120, Cholesterol=171, FastingBS=0, RestingECG='Normal', MaxHR=137, ExerciseAngina='N', Oldpeak=2.0, ST_Slope='Up', HeartDisease=0),\n",
              " Row(Age=54, Sex='M', ChestPainType='NAP', RestingBP=120, Cholesterol=237, FastingBS=0, RestingECG='Normal', MaxHR=150, ExerciseAngina='Y', Oldpeak=1.5, ST_Slope='Flat', HeartDisease=1),\n",
              " Row(Age=48, Sex='M', ChestPainType='ASY', RestingBP=122, Cholesterol=275, FastingBS=1, RestingECG='ST', MaxHR=150, ExerciseAngina='Y', Oldpeak=2.0, ST_Slope='Down', HeartDisease=1),\n",
              " Row(Age=45, Sex='M', ChestPainType='ASY', RestingBP=130, Cholesterol=219, FastingBS=0, RestingECG='ST', MaxHR=130, ExerciseAngina='Y', Oldpeak=1.0, ST_Slope='Flat', HeartDisease=1),\n",
              " Row(Age=49, Sex='M', ChestPainType='ASY', RestingBP=130, Cholesterol=341, FastingBS=0, RestingECG='Normal', MaxHR=120, ExerciseAngina='Y', Oldpeak=1.0, ST_Slope='Flat', HeartDisease=1),\n",
              " Row(Age=44, Sex='M', ChestPainType='ASY', RestingBP=135, Cholesterol=491, FastingBS=0, RestingECG='Normal', MaxHR=135, ExerciseAngina='N', Oldpeak=0.0, ST_Slope='Flat', HeartDisease=1),\n",
              " Row(Age=48, Sex='M', ChestPainType='ASY', RestingBP=120, Cholesterol=260, FastingBS=0, RestingECG='Normal', MaxHR=115, ExerciseAngina='N', Oldpeak=2.0, ST_Slope='Flat', HeartDisease=1),\n",
              " Row(Age=61, Sex='M', ChestPainType='ASY', RestingBP=125, Cholesterol=292, FastingBS=0, RestingECG='ST', MaxHR=115, ExerciseAngina='Y', Oldpeak=0.0, ST_Slope='Up', HeartDisease=0),\n",
              " Row(Age=62, Sex='M', ChestPainType='ATA', RestingBP=140, Cholesterol=271, FastingBS=0, RestingECG='Normal', MaxHR=152, ExerciseAngina='N', Oldpeak=1.0, ST_Slope='Up', HeartDisease=0),\n",
              " Row(Age=55, Sex='M', ChestPainType='ASY', RestingBP=145, Cholesterol=248, FastingBS=0, RestingECG='Normal', MaxHR=96, ExerciseAngina='Y', Oldpeak=2.0, ST_Slope='Flat', HeartDisease=1),\n",
              " Row(Age=53, Sex='F', ChestPainType='NAP', RestingBP=120, Cholesterol=274, FastingBS=0, RestingECG='Normal', MaxHR=130, ExerciseAngina='N', Oldpeak=0.0, ST_Slope='Up', HeartDisease=0),\n",
              " Row(Age=55, Sex='F', ChestPainType='ATA', RestingBP=130, Cholesterol=394, FastingBS=0, RestingECG='LVH', MaxHR=150, ExerciseAngina='N', Oldpeak=0.0, ST_Slope='Up', HeartDisease=0),\n",
              " Row(Age=36, Sex='M', ChestPainType='NAP', RestingBP=150, Cholesterol=160, FastingBS=0, RestingECG='Normal', MaxHR=172, ExerciseAngina='N', Oldpeak=0.0, ST_Slope='Up', HeartDisease=0),\n",
              " Row(Age=51, Sex='F', ChestPainType='NAP', RestingBP=150, Cholesterol=200, FastingBS=0, RestingECG='Normal', MaxHR=120, ExerciseAngina='N', Oldpeak=0.5, ST_Slope='Up', HeartDisease=0),\n",
              " Row(Age=55, Sex='F', ChestPainType='ATA', RestingBP=122, Cholesterol=320, FastingBS=0, RestingECG='Normal', MaxHR=155, ExerciseAngina='N', Oldpeak=0.0, ST_Slope='Up', HeartDisease=0),\n",
              " Row(Age=46, Sex='M', ChestPainType='ATA', RestingBP=140, Cholesterol=275, FastingBS=0, RestingECG='Normal', MaxHR=165, ExerciseAngina='Y', Oldpeak=0.0, ST_Slope='Up', HeartDisease=0),\n",
              " Row(Age=54, Sex='F', ChestPainType='ATA', RestingBP=120, Cholesterol=221, FastingBS=0, RestingECG='Normal', MaxHR=138, ExerciseAngina='N', Oldpeak=1.0, ST_Slope='Up', HeartDisease=0),\n",
              " Row(Age=46, Sex='M', ChestPainType='ASY', RestingBP=120, Cholesterol=231, FastingBS=0, RestingECG='Normal', MaxHR=115, ExerciseAngina='Y', Oldpeak=0.0, ST_Slope='Flat', HeartDisease=1),\n",
              " Row(Age=59, Sex='M', ChestPainType='ASY', RestingBP=130, Cholesterol=126, FastingBS=0, RestingECG='Normal', MaxHR=125, ExerciseAngina='N', Oldpeak=0.0, ST_Slope='Flat', HeartDisease=1),\n",
              " Row(Age=47, Sex='M', ChestPainType='NAP', RestingBP=140, Cholesterol=193, FastingBS=0, RestingECG='Normal', MaxHR=145, ExerciseAngina='Y', Oldpeak=1.0, ST_Slope='Flat', HeartDisease=1),\n",
              " Row(Age=54, Sex='M', ChestPainType='ATA', RestingBP=160, Cholesterol=305, FastingBS=0, RestingECG='Normal', MaxHR=175, ExerciseAngina='N', Oldpeak=0.0, ST_Slope='Up', HeartDisease=0),\n",
              " Row(Age=52, Sex='M', ChestPainType='ASY', RestingBP=130, Cholesterol=298, FastingBS=0, RestingECG='Normal', MaxHR=110, ExerciseAngina='Y', Oldpeak=1.0, ST_Slope='Flat', HeartDisease=1),\n",
              " Row(Age=34, Sex='M', ChestPainType='ATA', RestingBP=98, Cholesterol=220, FastingBS=0, RestingECG='Normal', MaxHR=150, ExerciseAngina='N', Oldpeak=0.0, ST_Slope='Up', HeartDisease=0),\n",
              " Row(Age=54, Sex='M', ChestPainType='ASY', RestingBP=130, Cholesterol=242, FastingBS=0, RestingECG='Normal', MaxHR=91, ExerciseAngina='Y', Oldpeak=1.0, ST_Slope='Flat', HeartDisease=1),\n",
              " Row(Age=47, Sex='F', ChestPainType='NAP', RestingBP=130, Cholesterol=235, FastingBS=0, RestingECG='Normal', MaxHR=145, ExerciseAngina='N', Oldpeak=2.0, ST_Slope='Flat', HeartDisease=0),\n",
              " Row(Age=45, Sex='M', ChestPainType='ASY', RestingBP=120, Cholesterol=225, FastingBS=0, RestingECG='Normal', MaxHR=140, ExerciseAngina='N', Oldpeak=0.0, ST_Slope='Up', HeartDisease=0),\n",
              " Row(Age=32, Sex='F', ChestPainType='ATA', RestingBP=105, Cholesterol=198, FastingBS=0, RestingECG='Normal', MaxHR=165, ExerciseAngina='N', Oldpeak=0.0, ST_Slope='Up', HeartDisease=0),\n",
              " Row(Age=55, Sex='M', ChestPainType='ASY', RestingBP=140, Cholesterol=201, FastingBS=0, RestingECG='Normal', MaxHR=130, ExerciseAngina='Y', Oldpeak=3.0, ST_Slope='Flat', HeartDisease=1),\n",
              " Row(Age=55, Sex='M', ChestPainType='NAP', RestingBP=120, Cholesterol=220, FastingBS=0, RestingECG='LVH', MaxHR=134, ExerciseAngina='N', Oldpeak=0.0, ST_Slope='Up', HeartDisease=0),\n",
              " Row(Age=45, Sex='F', ChestPainType='ATA', RestingBP=180, Cholesterol=295, FastingBS=0, RestingECG='Normal', MaxHR=180, ExerciseAngina='N', Oldpeak=0.0, ST_Slope='Up', HeartDisease=0),\n",
              " Row(Age=59, Sex='M', ChestPainType='NAP', RestingBP=180, Cholesterol=213, FastingBS=0, RestingECG='Normal', MaxHR=100, ExerciseAngina='N', Oldpeak=0.0, ST_Slope='Up', HeartDisease=0),\n",
              " Row(Age=51, Sex='M', ChestPainType='NAP', RestingBP=135, Cholesterol=160, FastingBS=0, RestingECG='Normal', MaxHR=150, ExerciseAngina='N', Oldpeak=2.0, ST_Slope='Flat', HeartDisease=1),\n",
              " Row(Age=52, Sex='M', ChestPainType='ASY', RestingBP=170, Cholesterol=223, FastingBS=0, RestingECG='Normal', MaxHR=126, ExerciseAngina='Y', Oldpeak=1.5, ST_Slope='Flat', HeartDisease=1),\n",
              " Row(Age=57, Sex='F', ChestPainType='ASY', RestingBP=180, Cholesterol=347, FastingBS=0, RestingECG='ST', MaxHR=126, ExerciseAngina='Y', Oldpeak=0.8, ST_Slope='Flat', HeartDisease=0),\n",
              " Row(Age=54, Sex='F', ChestPainType='ATA', RestingBP=130, Cholesterol=253, FastingBS=0, RestingECG='ST', MaxHR=155, ExerciseAngina='N', Oldpeak=0.0, ST_Slope='Up', HeartDisease=0),\n",
              " Row(Age=60, Sex='M', ChestPainType='NAP', RestingBP=120, Cholesterol=246, FastingBS=0, RestingECG='LVH', MaxHR=135, ExerciseAngina='N', Oldpeak=0.0, ST_Slope='Up', HeartDisease=0),\n",
              " Row(Age=49, Sex='M', ChestPainType='ASY', RestingBP=150, Cholesterol=222, FastingBS=0, RestingECG='Normal', MaxHR=122, ExerciseAngina='N', Oldpeak=2.0, ST_Slope='Flat', HeartDisease=1),\n",
              " Row(Age=51, Sex='F', ChestPainType='NAP', RestingBP=130, Cholesterol=220, FastingBS=0, RestingECG='Normal', MaxHR=160, ExerciseAngina='Y', Oldpeak=2.0, ST_Slope='Up', HeartDisease=0),\n",
              " Row(Age=55, Sex='F', ChestPainType='ATA', RestingBP=110, Cholesterol=344, FastingBS=0, RestingECG='ST', MaxHR=160, ExerciseAngina='N', Oldpeak=0.0, ST_Slope='Up', HeartDisease=0),\n",
              " Row(Age=42, Sex='M', ChestPainType='ASY', RestingBP=140, Cholesterol=358, FastingBS=0, RestingECG='Normal', MaxHR=170, ExerciseAngina='N', Oldpeak=0.0, ST_Slope='Up', HeartDisease=0),\n",
              " Row(Age=51, Sex='F', ChestPainType='NAP', RestingBP=110, Cholesterol=190, FastingBS=0, RestingECG='Normal', MaxHR=120, ExerciseAngina='N', Oldpeak=0.0, ST_Slope='Up', HeartDisease=0),\n",
              " Row(Age=59, Sex='M', ChestPainType='ASY', RestingBP=140, Cholesterol=169, FastingBS=0, RestingECG='Normal', MaxHR=140, ExerciseAngina='N', Oldpeak=0.0, ST_Slope='Up', HeartDisease=0),\n",
              " Row(Age=53, Sex='M', ChestPainType='ATA', RestingBP=120, Cholesterol=181, FastingBS=0, RestingECG='Normal', MaxHR=132, ExerciseAngina='N', Oldpeak=0.0, ST_Slope='Up', HeartDisease=0),\n",
              " Row(Age=48, Sex='F', ChestPainType='ATA', RestingBP=133, Cholesterol=308, FastingBS=0, RestingECG='ST', MaxHR=156, ExerciseAngina='N', Oldpeak=2.0, ST_Slope='Up', HeartDisease=0),\n",
              " Row(Age=36, Sex='M', ChestPainType='ATA', RestingBP=120, Cholesterol=166, FastingBS=0, RestingECG='Normal', MaxHR=180, ExerciseAngina='N', Oldpeak=0.0, ST_Slope='Up', HeartDisease=0),\n",
              " Row(Age=48, Sex='M', ChestPainType='NAP', RestingBP=110, Cholesterol=211, FastingBS=0, RestingECG='Normal', MaxHR=138, ExerciseAngina='N', Oldpeak=0.0, ST_Slope='Up', HeartDisease=0),\n",
              " Row(Age=47, Sex='F', ChestPainType='ATA', RestingBP=140, Cholesterol=257, FastingBS=0, RestingECG='Normal', MaxHR=135, ExerciseAngina='N', Oldpeak=1.0, ST_Slope='Up', HeartDisease=0),\n",
              " Row(Age=53, Sex='M', ChestPainType='ASY', RestingBP=130, Cholesterol=182, FastingBS=0, RestingECG='Normal', MaxHR=148, ExerciseAngina='N', Oldpeak=0.0, ST_Slope='Up', HeartDisease=0),\n",
              " Row(Age=65, Sex='M', ChestPainType='ASY', RestingBP=115, Cholesterol=0, FastingBS=0, RestingECG='Normal', MaxHR=93, ExerciseAngina='Y', Oldpeak=0.0, ST_Slope='Flat', HeartDisease=1),\n",
              " Row(Age=32, Sex='M', ChestPainType='TA', RestingBP=95, Cholesterol=0, FastingBS=1, RestingECG='Normal', MaxHR=127, ExerciseAngina='N', Oldpeak=0.7, ST_Slope='Up', HeartDisease=1),\n",
              " Row(Age=61, Sex='M', ChestPainType='ASY', RestingBP=105, Cholesterol=0, FastingBS=1, RestingECG='Normal', MaxHR=110, ExerciseAngina='Y', Oldpeak=1.5, ST_Slope='Up', HeartDisease=1),\n",
              " Row(Age=50, Sex='M', ChestPainType='ASY', RestingBP=145, Cholesterol=0, FastingBS=1, RestingECG='Normal', MaxHR=139, ExerciseAngina='Y', Oldpeak=0.7, ST_Slope='Flat', HeartDisease=1),\n",
              " Row(Age=57, Sex='M', ChestPainType='ASY', RestingBP=110, Cholesterol=0, FastingBS=1, RestingECG='ST', MaxHR=131, ExerciseAngina='Y', Oldpeak=1.4, ST_Slope='Up', HeartDisease=1),\n",
              " Row(Age=51, Sex='M', ChestPainType='ASY', RestingBP=110, Cholesterol=0, FastingBS=1, RestingECG='Normal', MaxHR=92, ExerciseAngina='N', Oldpeak=0.0, ST_Slope='Flat', HeartDisease=1),\n",
              " Row(Age=47, Sex='M', ChestPainType='ASY', RestingBP=110, Cholesterol=0, FastingBS=1, RestingECG='ST', MaxHR=149, ExerciseAngina='N', Oldpeak=2.1, ST_Slope='Up', HeartDisease=1),\n",
              " Row(Age=60, Sex='M', ChestPainType='ASY', RestingBP=160, Cholesterol=0, FastingBS=1, RestingECG='Normal', MaxHR=149, ExerciseAngina='N', Oldpeak=0.4, ST_Slope='Flat', HeartDisease=1),\n",
              " Row(Age=55, Sex='M', ChestPainType='ATA', RestingBP=140, Cholesterol=0, FastingBS=0, RestingECG='ST', MaxHR=150, ExerciseAngina='N', Oldpeak=0.2, ST_Slope='Up', HeartDisease=0),\n",
              " Row(Age=53, Sex='M', ChestPainType='ASY', RestingBP=125, Cholesterol=0, FastingBS=1, RestingECG='Normal', MaxHR=120, ExerciseAngina='N', Oldpeak=1.5, ST_Slope='Up', HeartDisease=1),\n",
              " Row(Age=62, Sex='F', ChestPainType='ASY', RestingBP=120, Cholesterol=0, FastingBS=1, RestingECG='ST', MaxHR=123, ExerciseAngina='Y', Oldpeak=1.7, ST_Slope='Down', HeartDisease=1),\n",
              " Row(Age=51, Sex='M', ChestPainType='ASY', RestingBP=95, Cholesterol=0, FastingBS=1, RestingECG='Normal', MaxHR=126, ExerciseAngina='N', Oldpeak=2.2, ST_Slope='Flat', HeartDisease=1),\n",
              " Row(Age=51, Sex='F', ChestPainType='ASY', RestingBP=120, Cholesterol=0, FastingBS=1, RestingECG='Normal', MaxHR=127, ExerciseAngina='Y', Oldpeak=1.5, ST_Slope='Up', HeartDisease=1),\n",
              " Row(Age=55, Sex='M', ChestPainType='ASY', RestingBP=115, Cholesterol=0, FastingBS=1, RestingECG='Normal', MaxHR=155, ExerciseAngina='N', Oldpeak=0.1, ST_Slope='Flat', HeartDisease=1),\n",
              " Row(Age=53, Sex='M', ChestPainType='ATA', RestingBP=130, Cholesterol=0, FastingBS=0, RestingECG='ST', MaxHR=120, ExerciseAngina='N', Oldpeak=0.7, ST_Slope='Down', HeartDisease=0),\n",
              " Row(Age=58, Sex='M', ChestPainType='ASY', RestingBP=115, Cholesterol=0, FastingBS=1, RestingECG='Normal', MaxHR=138, ExerciseAngina='N', Oldpeak=0.5, ST_Slope='Up', HeartDisease=1),\n",
              " Row(Age=57, Sex='M', ChestPainType='ASY', RestingBP=95, Cholesterol=0, FastingBS=1, RestingECG='Normal', MaxHR=182, ExerciseAngina='N', Oldpeak=0.7, ST_Slope='Down', HeartDisease=1),\n",
              " Row(Age=65, Sex='M', ChestPainType='ASY', RestingBP=155, Cholesterol=0, FastingBS=0, RestingECG='Normal', MaxHR=154, ExerciseAngina='N', Oldpeak=1.0, ST_Slope='Up', HeartDisease=0),\n",
              " Row(Age=60, Sex='M', ChestPainType='ASY', RestingBP=125, Cholesterol=0, FastingBS=1, RestingECG='Normal', MaxHR=110, ExerciseAngina='N', Oldpeak=0.1, ST_Slope='Up', HeartDisease=1),\n",
              " Row(Age=41, Sex='M', ChestPainType='ASY', RestingBP=125, Cholesterol=0, FastingBS=1, RestingECG='Normal', MaxHR=176, ExerciseAngina='N', Oldpeak=1.6, ST_Slope='Up', HeartDisease=1),\n",
              " Row(Age=34, Sex='M', ChestPainType='ASY', RestingBP=115, Cholesterol=0, FastingBS=1, RestingECG='Normal', MaxHR=154, ExerciseAngina='N', Oldpeak=0.2, ST_Slope='Up', HeartDisease=1),\n",
              " Row(Age=53, Sex='M', ChestPainType='ASY', RestingBP=80, Cholesterol=0, FastingBS=0, RestingECG='Normal', MaxHR=141, ExerciseAngina='Y', Oldpeak=2.0, ST_Slope='Down', HeartDisease=0),\n",
              " Row(Age=74, Sex='M', ChestPainType='ATA', RestingBP=145, Cholesterol=0, FastingBS=1, RestingECG='ST', MaxHR=123, ExerciseAngina='N', Oldpeak=1.3, ST_Slope='Up', HeartDisease=1),\n",
              " Row(Age=57, Sex='M', ChestPainType='NAP', RestingBP=105, Cholesterol=0, FastingBS=1, RestingECG='Normal', MaxHR=148, ExerciseAngina='N', Oldpeak=0.3, ST_Slope='Flat', HeartDisease=1),\n",
              " Row(Age=56, Sex='M', ChestPainType='ASY', RestingBP=140, Cholesterol=0, FastingBS=1, RestingECG='Normal', MaxHR=121, ExerciseAngina='Y', Oldpeak=1.8, ST_Slope='Up', HeartDisease=1),\n",
              " Row(Age=61, Sex='M', ChestPainType='ASY', RestingBP=130, Cholesterol=0, FastingBS=1, RestingECG='Normal', MaxHR=77, ExerciseAngina='N', Oldpeak=2.5, ST_Slope='Flat', HeartDisease=1),\n",
              " Row(Age=68, Sex='M', ChestPainType='ASY', RestingBP=145, Cholesterol=0, FastingBS=1, RestingECG='Normal', MaxHR=136, ExerciseAngina='N', Oldpeak=1.8, ST_Slope='Up', HeartDisease=1),\n",
              " Row(Age=59, Sex='M', ChestPainType='NAP', RestingBP=125, Cholesterol=0, FastingBS=1, RestingECG='Normal', MaxHR=175, ExerciseAngina='N', Oldpeak=2.6, ST_Slope='Flat', HeartDisease=1),\n",
              " Row(Age=63, Sex='M', ChestPainType='ASY', RestingBP=100, Cholesterol=0, FastingBS=1, RestingECG='Normal', MaxHR=109, ExerciseAngina='N', Oldpeak=-0.9, ST_Slope='Flat', HeartDisease=1),\n",
              " Row(Age=38, Sex='F', ChestPainType='ASY', RestingBP=105, Cholesterol=0, FastingBS=1, RestingECG='Normal', MaxHR=166, ExerciseAngina='N', Oldpeak=2.8, ST_Slope='Up', HeartDisease=1),\n",
              " Row(Age=62, Sex='M', ChestPainType='ASY', RestingBP=115, Cholesterol=0, FastingBS=1, RestingECG='Normal', MaxHR=128, ExerciseAngina='Y', Oldpeak=2.5, ST_Slope='Down', HeartDisease=1),\n",
              " Row(Age=46, Sex='M', ChestPainType='ASY', RestingBP=100, Cholesterol=0, FastingBS=1, RestingECG='ST', MaxHR=133, ExerciseAngina='N', Oldpeak=-2.6, ST_Slope='Flat', HeartDisease=1),\n",
              " Row(Age=42, Sex='M', ChestPainType='ASY', RestingBP=105, Cholesterol=0, FastingBS=1, RestingECG='Normal', MaxHR=128, ExerciseAngina='Y', Oldpeak=-1.5, ST_Slope='Down', HeartDisease=1),\n",
              " Row(Age=45, Sex='M', ChestPainType='NAP', RestingBP=110, Cholesterol=0, FastingBS=0, RestingECG='Normal', MaxHR=138, ExerciseAngina='N', Oldpeak=-0.1, ST_Slope='Up', HeartDisease=0),\n",
              " Row(Age=59, Sex='M', ChestPainType='ASY', RestingBP=125, Cholesterol=0, FastingBS=1, RestingECG='Normal', MaxHR=119, ExerciseAngina='Y', Oldpeak=0.9, ST_Slope='Up', HeartDisease=1),\n",
              " Row(Age=52, Sex='M', ChestPainType='ASY', RestingBP=95, Cholesterol=0, FastingBS=1, RestingECG='Normal', MaxHR=82, ExerciseAngina='Y', Oldpeak=0.8, ST_Slope='Flat', HeartDisease=1),\n",
              " Row(Age=60, Sex='M', ChestPainType='ASY', RestingBP=130, Cholesterol=0, FastingBS=1, RestingECG='ST', MaxHR=130, ExerciseAngina='Y', Oldpeak=1.1, ST_Slope='Down', HeartDisease=1),\n",
              " Row(Age=60, Sex='M', ChestPainType='NAP', RestingBP=115, Cholesterol=0, FastingBS=1, RestingECG='Normal', MaxHR=143, ExerciseAngina='N', Oldpeak=2.4, ST_Slope='Up', HeartDisease=1),\n",
              " Row(Age=56, Sex='M', ChestPainType='ASY', RestingBP=115, Cholesterol=0, FastingBS=1, RestingECG='ST', MaxHR=82, ExerciseAngina='N', Oldpeak=-1.0, ST_Slope='Up', HeartDisease=1),\n",
              " Row(Age=38, Sex='M', ChestPainType='NAP', RestingBP=100, Cholesterol=0, FastingBS=0, RestingECG='Normal', MaxHR=179, ExerciseAngina='N', Oldpeak=-1.1, ST_Slope='Up', HeartDisease=0),\n",
              " Row(Age=40, Sex='M', ChestPainType='ASY', RestingBP=95, Cholesterol=0, FastingBS=1, RestingECG='ST', MaxHR=144, ExerciseAngina='N', Oldpeak=0.0, ST_Slope='Up', HeartDisease=1),\n",
              " Row(Age=51, Sex='M', ChestPainType='ASY', RestingBP=130, Cholesterol=0, FastingBS=1, RestingECG='Normal', MaxHR=170, ExerciseAngina='N', Oldpeak=-0.7, ST_Slope='Up', HeartDisease=1),\n",
              " Row(Age=62, Sex='M', ChestPainType='TA', RestingBP=120, Cholesterol=0, FastingBS=1, RestingECG='LVH', MaxHR=134, ExerciseAngina='N', Oldpeak=-0.8, ST_Slope='Flat', HeartDisease=1),\n",
              " Row(Age=72, Sex='M', ChestPainType='NAP', RestingBP=160, Cholesterol=0, FastingBS=0, RestingECG='LVH', MaxHR=114, ExerciseAngina='N', Oldpeak=1.6, ST_Slope='Flat', HeartDisease=0),\n",
              " Row(Age=63, Sex='M', ChestPainType='ASY', RestingBP=150, Cholesterol=0, FastingBS=1, RestingECG='ST', MaxHR=154, ExerciseAngina='N', Oldpeak=3.7, ST_Slope='Up', HeartDisease=1),\n",
              " Row(Age=63, Sex='M', ChestPainType='ASY', RestingBP=140, Cholesterol=0, FastingBS=1, RestingECG='LVH', MaxHR=149, ExerciseAngina='N', Oldpeak=2.0, ST_Slope='Up', HeartDisease=1),\n",
              " Row(Age=64, Sex='F', ChestPainType='ASY', RestingBP=95, Cholesterol=0, FastingBS=1, RestingECG='Normal', MaxHR=145, ExerciseAngina='N', Oldpeak=1.1, ST_Slope='Down', HeartDisease=1),\n",
              " Row(Age=43, Sex='M', ChestPainType='ASY', RestingBP=100, Cholesterol=0, FastingBS=1, RestingECG='Normal', MaxHR=122, ExerciseAngina='N', Oldpeak=1.5, ST_Slope='Down', HeartDisease=1),\n",
              " Row(Age=64, Sex='M', ChestPainType='ASY', RestingBP=110, Cholesterol=0, FastingBS=1, RestingECG='Normal', MaxHR=114, ExerciseAngina='Y', Oldpeak=1.3, ST_Slope='Down', HeartDisease=1),\n",
              " Row(Age=61, Sex='M', ChestPainType='ASY', RestingBP=110, Cholesterol=0, FastingBS=1, RestingECG='Normal', MaxHR=113, ExerciseAngina='N', Oldpeak=1.4, ST_Slope='Flat', HeartDisease=1),\n",
              " Row(Age=52, Sex='M', ChestPainType='ASY', RestingBP=130, Cholesterol=0, FastingBS=1, RestingECG='Normal', MaxHR=120, ExerciseAngina='N', Oldpeak=0.0, ST_Slope='Flat', HeartDisease=1),\n",
              " Row(Age=51, Sex='M', ChestPainType='ASY', RestingBP=120, Cholesterol=0, FastingBS=1, RestingECG='Normal', MaxHR=104, ExerciseAngina='N', Oldpeak=0.0, ST_Slope='Flat', HeartDisease=1),\n",
              " Row(Age=69, Sex='M', ChestPainType='ASY', RestingBP=135, Cholesterol=0, FastingBS=0, RestingECG='Normal', MaxHR=130, ExerciseAngina='N', Oldpeak=0.0, ST_Slope='Flat', HeartDisease=1),\n",
              " Row(Age=59, Sex='M', ChestPainType='ASY', RestingBP=120, Cholesterol=0, FastingBS=0, RestingECG='Normal', MaxHR=115, ExerciseAngina='N', Oldpeak=0.0, ST_Slope='Flat', HeartDisease=1),\n",
              " Row(Age=48, Sex='M', ChestPainType='ASY', RestingBP=115, Cholesterol=0, FastingBS=1, RestingECG='Normal', MaxHR=128, ExerciseAngina='N', Oldpeak=0.0, ST_Slope='Flat', HeartDisease=1),\n",
              " Row(Age=69, Sex='M', ChestPainType='ASY', RestingBP=137, Cholesterol=0, FastingBS=0, RestingECG='ST', MaxHR=104, ExerciseAngina='Y', Oldpeak=1.6, ST_Slope='Flat', HeartDisease=1),\n",
              " Row(Age=36, Sex='M', ChestPainType='ASY', RestingBP=110, Cholesterol=0, FastingBS=1, RestingECG='Normal', MaxHR=125, ExerciseAngina='Y', Oldpeak=1.0, ST_Slope='Flat', HeartDisease=1),\n",
              " Row(Age=53, Sex='M', ChestPainType='ASY', RestingBP=120, Cholesterol=0, FastingBS=1, RestingECG='Normal', MaxHR=120, ExerciseAngina='N', Oldpeak=0.0, ST_Slope='Flat', HeartDisease=1),\n",
              " Row(Age=43, Sex='M', ChestPainType='ASY', RestingBP=140, Cholesterol=0, FastingBS=0, RestingECG='ST', MaxHR=140, ExerciseAngina='Y', Oldpeak=0.5, ST_Slope='Up', HeartDisease=1),\n",
              " Row(Age=56, Sex='M', ChestPainType='ASY', RestingBP=120, Cholesterol=0, FastingBS=0, RestingECG='ST', MaxHR=100, ExerciseAngina='Y', Oldpeak=-1.0, ST_Slope='Down', HeartDisease=1),\n",
              " Row(Age=58, Sex='M', ChestPainType='ASY', RestingBP=130, Cholesterol=0, FastingBS=0, RestingECG='ST', MaxHR=100, ExerciseAngina='Y', Oldpeak=1.0, ST_Slope='Flat', HeartDisease=1),\n",
              " Row(Age=55, Sex='M', ChestPainType='ASY', RestingBP=120, Cholesterol=0, FastingBS=0, RestingECG='ST', MaxHR=92, ExerciseAngina='N', Oldpeak=0.3, ST_Slope='Up', HeartDisease=1),\n",
              " Row(Age=67, Sex='M', ChestPainType='TA', RestingBP=145, Cholesterol=0, FastingBS=0, RestingECG='LVH', MaxHR=125, ExerciseAngina='N', Oldpeak=0.0, ST_Slope='Flat', HeartDisease=1),\n",
              " Row(Age=46, Sex='M', ChestPainType='ASY', RestingBP=115, Cholesterol=0, FastingBS=0, RestingECG='Normal', MaxHR=113, ExerciseAngina='Y', Oldpeak=1.5, ST_Slope='Flat', HeartDisease=1),\n",
              " Row(Age=53, Sex='M', ChestPainType='ATA', RestingBP=120, Cholesterol=0, FastingBS=0, RestingECG='Normal', MaxHR=95, ExerciseAngina='N', Oldpeak=0.0, ST_Slope='Flat', HeartDisease=1),\n",
              " Row(Age=38, Sex='M', ChestPainType='NAP', RestingBP=115, Cholesterol=0, FastingBS=0, RestingECG='Normal', MaxHR=128, ExerciseAngina='Y', Oldpeak=0.0, ST_Slope='Flat', HeartDisease=1),\n",
              " Row(Age=53, Sex='M', ChestPainType='NAP', RestingBP=105, Cholesterol=0, FastingBS=0, RestingECG='Normal', MaxHR=115, ExerciseAngina='N', Oldpeak=0.0, ST_Slope='Flat', HeartDisease=1),\n",
              " Row(Age=62, Sex='M', ChestPainType='NAP', RestingBP=160, Cholesterol=0, FastingBS=0, RestingECG='Normal', MaxHR=72, ExerciseAngina='Y', Oldpeak=0.0, ST_Slope='Flat', HeartDisease=1),\n",
              " Row(Age=47, Sex='M', ChestPainType='ASY', RestingBP=160, Cholesterol=0, FastingBS=0, RestingECG='Normal', MaxHR=124, ExerciseAngina='Y', Oldpeak=0.0, ST_Slope='Flat', HeartDisease=1),\n",
              " Row(Age=56, Sex='M', ChestPainType='NAP', RestingBP=155, Cholesterol=0, FastingBS=0, RestingECG='ST', MaxHR=99, ExerciseAngina='N', Oldpeak=0.0, ST_Slope='Flat', HeartDisease=1),\n",
              " Row(Age=56, Sex='M', ChestPainType='ASY', RestingBP=120, Cholesterol=0, FastingBS=0, RestingECG='ST', MaxHR=148, ExerciseAngina='N', Oldpeak=0.0, ST_Slope='Flat', HeartDisease=1),\n",
              " Row(Age=56, Sex='M', ChestPainType='NAP', RestingBP=120, Cholesterol=0, FastingBS=0, RestingECG='Normal', MaxHR=97, ExerciseAngina='N', Oldpeak=0.0, ST_Slope='Flat', HeartDisease=0),\n",
              " Row(Age=64, Sex='F', ChestPainType='ASY', RestingBP=200, Cholesterol=0, FastingBS=0, RestingECG='Normal', MaxHR=140, ExerciseAngina='Y', Oldpeak=1.0, ST_Slope='Flat', HeartDisease=1),\n",
              " Row(Age=61, Sex='M', ChestPainType='ASY', RestingBP=150, Cholesterol=0, FastingBS=0, RestingECG='Normal', MaxHR=117, ExerciseAngina='Y', Oldpeak=2.0, ST_Slope='Flat', HeartDisease=1),\n",
              " Row(Age=68, Sex='M', ChestPainType='ASY', RestingBP=135, Cholesterol=0, FastingBS=0, RestingECG='ST', MaxHR=120, ExerciseAngina='Y', Oldpeak=0.0, ST_Slope='Up', HeartDisease=1),\n",
              " Row(Age=57, Sex='M', ChestPainType='ASY', RestingBP=140, Cholesterol=0, FastingBS=0, RestingECG='Normal', MaxHR=120, ExerciseAngina='Y', Oldpeak=2.0, ST_Slope='Flat', HeartDisease=1),\n",
              " Row(Age=63, Sex='M', ChestPainType='ASY', RestingBP=150, Cholesterol=0, FastingBS=0, RestingECG='Normal', MaxHR=86, ExerciseAngina='Y', Oldpeak=2.0, ST_Slope='Flat', HeartDisease=1),\n",
              " Row(Age=60, Sex='M', ChestPainType='ASY', RestingBP=135, Cholesterol=0, FastingBS=0, RestingECG='Normal', MaxHR=63, ExerciseAngina='Y', Oldpeak=0.5, ST_Slope='Up', HeartDisease=1),\n",
              " Row(Age=66, Sex='M', ChestPainType='ASY', RestingBP=150, Cholesterol=0, FastingBS=0, RestingECG='Normal', MaxHR=108, ExerciseAngina='Y', Oldpeak=2.0, ST_Slope='Flat', HeartDisease=1),\n",
              " Row(Age=63, Sex='M', ChestPainType='ASY', RestingBP=185, Cholesterol=0, FastingBS=0, RestingECG='Normal', MaxHR=98, ExerciseAngina='Y', Oldpeak=0.0, ST_Slope='Up', HeartDisease=1),\n",
              " Row(Age=59, Sex='M', ChestPainType='ASY', RestingBP=135, Cholesterol=0, FastingBS=0, RestingECG='Normal', MaxHR=115, ExerciseAngina='Y', Oldpeak=1.0, ST_Slope='Flat', HeartDisease=1),\n",
              " Row(Age=61, Sex='M', ChestPainType='ASY', RestingBP=125, Cholesterol=0, FastingBS=0, RestingECG='Normal', MaxHR=105, ExerciseAngina='Y', Oldpeak=0.0, ST_Slope='Down', HeartDisease=1),\n",
              " Row(Age=73, Sex='F', ChestPainType='NAP', RestingBP=160, Cholesterol=0, FastingBS=0, RestingECG='ST', MaxHR=121, ExerciseAngina='N', Oldpeak=0.0, ST_Slope='Up', HeartDisease=1),\n",
              " Row(Age=47, Sex='M', ChestPainType='NAP', RestingBP=155, Cholesterol=0, FastingBS=0, RestingECG='Normal', MaxHR=118, ExerciseAngina='Y', Oldpeak=1.0, ST_Slope='Flat', HeartDisease=1),\n",
              " Row(Age=65, Sex='M', ChestPainType='ASY', RestingBP=160, Cholesterol=0, FastingBS=1, RestingECG='ST', MaxHR=122, ExerciseAngina='N', Oldpeak=1.2, ST_Slope='Flat', HeartDisease=1),\n",
              " Row(Age=70, Sex='M', ChestPainType='ASY', RestingBP=140, Cholesterol=0, FastingBS=1, RestingECG='Normal', MaxHR=157, ExerciseAngina='Y', Oldpeak=2.0, ST_Slope='Flat', HeartDisease=1),\n",
              " Row(Age=50, Sex='M', ChestPainType='ASY', RestingBP=120, Cholesterol=0, FastingBS=0, RestingECG='ST', MaxHR=156, ExerciseAngina='Y', Oldpeak=0.0, ST_Slope='Up', HeartDisease=1),\n",
              " Row(Age=60, Sex='M', ChestPainType='ASY', RestingBP=160, Cholesterol=0, FastingBS=0, RestingECG='ST', MaxHR=99, ExerciseAngina='Y', Oldpeak=0.5, ST_Slope='Flat', HeartDisease=1),\n",
              " Row(Age=50, Sex='M', ChestPainType='ASY', RestingBP=115, Cholesterol=0, FastingBS=0, RestingECG='Normal', MaxHR=120, ExerciseAngina='Y', Oldpeak=0.5, ST_Slope='Flat', HeartDisease=1),\n",
              " Row(Age=43, Sex='M', ChestPainType='ASY', RestingBP=115, Cholesterol=0, FastingBS=0, RestingECG='Normal', MaxHR=145, ExerciseAngina='Y', Oldpeak=2.0, ST_Slope='Flat', HeartDisease=1),\n",
              " Row(Age=38, Sex='F', ChestPainType='ASY', RestingBP=110, Cholesterol=0, FastingBS=0, RestingECG='Normal', MaxHR=156, ExerciseAngina='N', Oldpeak=0.0, ST_Slope='Flat', HeartDisease=1),\n",
              " Row(Age=54, Sex='M', ChestPainType='ASY', RestingBP=120, Cholesterol=0, FastingBS=0, RestingECG='Normal', MaxHR=155, ExerciseAngina='N', Oldpeak=0.0, ST_Slope='Flat', HeartDisease=1),\n",
              " Row(Age=61, Sex='M', ChestPainType='ASY', RestingBP=150, Cholesterol=0, FastingBS=0, RestingECG='Normal', MaxHR=105, ExerciseAngina='Y', Oldpeak=0.0, ST_Slope='Flat', HeartDisease=1),\n",
              " Row(Age=42, Sex='M', ChestPainType='ASY', RestingBP=145, Cholesterol=0, FastingBS=0, RestingECG='Normal', MaxHR=99, ExerciseAngina='Y', Oldpeak=0.0, ST_Slope='Flat', HeartDisease=1),\n",
              " Row(Age=53, Sex='M', ChestPainType='ASY', RestingBP=130, Cholesterol=0, FastingBS=0, RestingECG='LVH', MaxHR=135, ExerciseAngina='Y', Oldpeak=1.0, ST_Slope='Flat', HeartDisease=1),\n",
              " Row(Age=55, Sex='M', ChestPainType='ASY', RestingBP=140, Cholesterol=0, FastingBS=0, RestingECG='Normal', MaxHR=83, ExerciseAngina='N', Oldpeak=0.0, ST_Slope='Flat', HeartDisease=1),\n",
              " Row(Age=61, Sex='M', ChestPainType='ASY', RestingBP=160, Cholesterol=0, FastingBS=1, RestingECG='ST', MaxHR=145, ExerciseAngina='N', Oldpeak=1.0, ST_Slope='Flat', HeartDisease=1),\n",
              " Row(Age=51, Sex='M', ChestPainType='ASY', RestingBP=140, Cholesterol=0, FastingBS=0, RestingECG='Normal', MaxHR=60, ExerciseAngina='N', Oldpeak=0.0, ST_Slope='Flat', HeartDisease=1),\n",
              " Row(Age=70, Sex='M', ChestPainType='ASY', RestingBP=115, Cholesterol=0, FastingBS=0, RestingECG='ST', MaxHR=92, ExerciseAngina='Y', Oldpeak=0.0, ST_Slope='Flat', HeartDisease=1),\n",
              " Row(Age=61, Sex='M', ChestPainType='ASY', RestingBP=130, Cholesterol=0, FastingBS=0, RestingECG='LVH', MaxHR=115, ExerciseAngina='N', Oldpeak=0.0, ST_Slope='Flat', HeartDisease=1),\n",
              " Row(Age=38, Sex='M', ChestPainType='ASY', RestingBP=150, Cholesterol=0, FastingBS=1, RestingECG='Normal', MaxHR=120, ExerciseAngina='Y', Oldpeak=0.7, ST_Slope='Flat', HeartDisease=1),\n",
              " Row(Age=57, Sex='M', ChestPainType='ASY', RestingBP=160, Cholesterol=0, FastingBS=1, RestingECG='Normal', MaxHR=98, ExerciseAngina='Y', Oldpeak=2.0, ST_Slope='Flat', HeartDisease=1),\n",
              " Row(Age=38, Sex='M', ChestPainType='ASY', RestingBP=135, Cholesterol=0, FastingBS=1, RestingECG='Normal', MaxHR=150, ExerciseAngina='N', Oldpeak=0.0, ST_Slope='Flat', HeartDisease=1),\n",
              " Row(Age=62, Sex='F', ChestPainType='TA', RestingBP=140, Cholesterol=0, FastingBS=1, RestingECG='Normal', MaxHR=143, ExerciseAngina='N', Oldpeak=0.0, ST_Slope='Flat', HeartDisease=1),\n",
              " Row(Age=58, Sex='M', ChestPainType='ASY', RestingBP=170, Cholesterol=0, FastingBS=1, RestingECG='ST', MaxHR=105, ExerciseAngina='Y', Oldpeak=0.0, ST_Slope='Flat', HeartDisease=1),\n",
              " Row(Age=52, Sex='M', ChestPainType='ASY', RestingBP=165, Cholesterol=0, FastingBS=1, RestingECG='Normal', MaxHR=122, ExerciseAngina='Y', Oldpeak=1.0, ST_Slope='Up', HeartDisease=1),\n",
              " Row(Age=61, Sex='M', ChestPainType='NAP', RestingBP=200, Cholesterol=0, FastingBS=1, RestingECG='ST', MaxHR=70, ExerciseAngina='N', Oldpeak=0.0, ST_Slope='Flat', HeartDisease=1),\n",
              " Row(Age=50, Sex='F', ChestPainType='ASY', RestingBP=160, Cholesterol=0, FastingBS=1, RestingECG='Normal', MaxHR=110, ExerciseAngina='N', Oldpeak=0.0, ST_Slope='Flat', HeartDisease=1),\n",
              " Row(Age=51, Sex='M', ChestPainType='ASY', RestingBP=130, Cholesterol=0, FastingBS=1, RestingECG='ST', MaxHR=163, ExerciseAngina='N', Oldpeak=0.0, ST_Slope='Flat', HeartDisease=1),\n",
              " Row(Age=65, Sex='M', ChestPainType='ASY', RestingBP=145, Cholesterol=0, FastingBS=1, RestingECG='ST', MaxHR=67, ExerciseAngina='N', Oldpeak=0.7, ST_Slope='Flat', HeartDisease=1),\n",
              " Row(Age=52, Sex='M', ChestPainType='ASY', RestingBP=135, Cholesterol=0, FastingBS=1, RestingECG='Normal', MaxHR=128, ExerciseAngina='Y', Oldpeak=2.0, ST_Slope='Flat', HeartDisease=1),\n",
              " Row(Age=47, Sex='M', ChestPainType='NAP', RestingBP=110, Cholesterol=0, FastingBS=1, RestingECG='Normal', MaxHR=120, ExerciseAngina='Y', Oldpeak=0.0, ST_Slope='Flat', HeartDisease=1),\n",
              " Row(Age=35, Sex='M', ChestPainType='ASY', RestingBP=120, Cholesterol=0, FastingBS=1, RestingECG='Normal', MaxHR=130, ExerciseAngina='Y', Oldpeak=1.2, ST_Slope='Flat', HeartDisease=1),\n",
              " Row(Age=57, Sex='M', ChestPainType='ASY', RestingBP=140, Cholesterol=0, FastingBS=1, RestingECG='Normal', MaxHR=100, ExerciseAngina='Y', Oldpeak=0.0, ST_Slope='Flat', HeartDisease=1),\n",
              " Row(Age=62, Sex='M', ChestPainType='ASY', RestingBP=115, Cholesterol=0, FastingBS=1, RestingECG='Normal', MaxHR=72, ExerciseAngina='Y', Oldpeak=-0.5, ST_Slope='Flat', HeartDisease=1),\n",
              " Row(Age=59, Sex='M', ChestPainType='ASY', RestingBP=110, Cholesterol=0, FastingBS=1, RestingECG='Normal', MaxHR=94, ExerciseAngina='N', Oldpeak=0.0, ST_Slope='Flat', HeartDisease=1),\n",
              " Row(Age=53, Sex='M', ChestPainType='NAP', RestingBP=160, Cholesterol=0, FastingBS=1, RestingECG='LVH', MaxHR=122, ExerciseAngina='Y', Oldpeak=0.0, ST_Slope='Flat', HeartDisease=1),\n",
              " Row(Age=62, Sex='M', ChestPainType='ASY', RestingBP=150, Cholesterol=0, FastingBS=1, RestingECG='ST', MaxHR=78, ExerciseAngina='N', Oldpeak=2.0, ST_Slope='Flat', HeartDisease=1),\n",
              " Row(Age=54, Sex='M', ChestPainType='ASY', RestingBP=180, Cholesterol=0, FastingBS=1, RestingECG='Normal', MaxHR=150, ExerciseAngina='N', Oldpeak=1.5, ST_Slope='Flat', HeartDisease=1),\n",
              " Row(Age=56, Sex='M', ChestPainType='ASY', RestingBP=125, Cholesterol=0, FastingBS=1, RestingECG='Normal', MaxHR=103, ExerciseAngina='Y', Oldpeak=1.0, ST_Slope='Flat', HeartDisease=1),\n",
              " Row(Age=56, Sex='M', ChestPainType='NAP', RestingBP=125, Cholesterol=0, FastingBS=1, RestingECG='Normal', MaxHR=98, ExerciseAngina='N', Oldpeak=-2.0, ST_Slope='Flat', HeartDisease=1),\n",
              " Row(Age=54, Sex='M', ChestPainType='ASY', RestingBP=130, Cholesterol=0, FastingBS=1, RestingECG='Normal', MaxHR=110, ExerciseAngina='Y', Oldpeak=3.0, ST_Slope='Flat', HeartDisease=1),\n",
              " Row(Age=66, Sex='F', ChestPainType='ASY', RestingBP=155, Cholesterol=0, FastingBS=1, RestingECG='Normal', MaxHR=90, ExerciseAngina='N', Oldpeak=0.0, ST_Slope='Flat', HeartDisease=1),\n",
              " Row(Age=63, Sex='M', ChestPainType='ASY', RestingBP=140, Cholesterol=260, FastingBS=0, RestingECG='ST', MaxHR=112, ExerciseAngina='Y', Oldpeak=3.0, ST_Slope='Flat', HeartDisease=1),\n",
              " Row(Age=44, Sex='M', ChestPainType='ASY', RestingBP=130, Cholesterol=209, FastingBS=0, RestingECG='ST', MaxHR=127, ExerciseAngina='N', Oldpeak=0.0, ST_Slope='Up', HeartDisease=0),\n",
              " Row(Age=60, Sex='M', ChestPainType='ASY', RestingBP=132, Cholesterol=218, FastingBS=0, RestingECG='ST', MaxHR=140, ExerciseAngina='Y', Oldpeak=1.5, ST_Slope='Down', HeartDisease=1),\n",
              " Row(Age=55, Sex='M', ChestPainType='ASY', RestingBP=142, Cholesterol=228, FastingBS=0, RestingECG='ST', MaxHR=149, ExerciseAngina='Y', Oldpeak=2.5, ST_Slope='Up', HeartDisease=1),\n",
              " Row(Age=66, Sex='M', ChestPainType='NAP', RestingBP=110, Cholesterol=213, FastingBS=1, RestingECG='LVH', MaxHR=99, ExerciseAngina='Y', Oldpeak=1.3, ST_Slope='Flat', HeartDisease=0),\n",
              " Row(Age=66, Sex='M', ChestPainType='NAP', RestingBP=120, Cholesterol=0, FastingBS=0, RestingECG='ST', MaxHR=120, ExerciseAngina='N', Oldpeak=-0.5, ST_Slope='Up', HeartDisease=0),\n",
              " Row(Age=65, Sex='M', ChestPainType='ASY', RestingBP=150, Cholesterol=236, FastingBS=1, RestingECG='ST', MaxHR=105, ExerciseAngina='Y', Oldpeak=0.0, ST_Slope='Flat', HeartDisease=1),\n",
              " Row(Age=60, Sex='M', ChestPainType='NAP', RestingBP=180, Cholesterol=0, FastingBS=0, RestingECG='ST', MaxHR=140, ExerciseAngina='Y', Oldpeak=1.5, ST_Slope='Flat', HeartDisease=0),\n",
              " Row(Age=60, Sex='M', ChestPainType='NAP', RestingBP=120, Cholesterol=0, FastingBS=1, RestingECG='Normal', MaxHR=141, ExerciseAngina='Y', Oldpeak=2.0, ST_Slope='Up', HeartDisease=1),\n",
              " Row(Age=60, Sex='M', ChestPainType='ATA', RestingBP=160, Cholesterol=267, FastingBS=1, RestingECG='ST', MaxHR=157, ExerciseAngina='N', Oldpeak=0.5, ST_Slope='Flat', HeartDisease=1),\n",
              " Row(Age=56, Sex='M', ChestPainType='ATA', RestingBP=126, Cholesterol=166, FastingBS=0, RestingECG='ST', MaxHR=140, ExerciseAngina='N', Oldpeak=0.0, ST_Slope='Up', HeartDisease=0),\n",
              " Row(Age=59, Sex='M', ChestPainType='ASY', RestingBP=140, Cholesterol=0, FastingBS=0, RestingECG='ST', MaxHR=117, ExerciseAngina='Y', Oldpeak=1.0, ST_Slope='Flat', HeartDisease=1),\n",
              " Row(Age=62, Sex='M', ChestPainType='ASY', RestingBP=110, Cholesterol=0, FastingBS=0, RestingECG='Normal', MaxHR=120, ExerciseAngina='Y', Oldpeak=0.5, ST_Slope='Flat', HeartDisease=1),\n",
              " Row(Age=63, Sex='M', ChestPainType='NAP', RestingBP=133, Cholesterol=0, FastingBS=0, RestingECG='LVH', MaxHR=120, ExerciseAngina='Y', Oldpeak=1.0, ST_Slope='Flat', HeartDisease=1),\n",
              " Row(Age=57, Sex='M', ChestPainType='ASY', RestingBP=128, Cholesterol=0, FastingBS=1, RestingECG='ST', MaxHR=148, ExerciseAngina='Y', Oldpeak=1.0, ST_Slope='Flat', HeartDisease=1),\n",
              " Row(Age=62, Sex='M', ChestPainType='ASY', RestingBP=120, Cholesterol=220, FastingBS=0, RestingECG='ST', MaxHR=86, ExerciseAngina='N', Oldpeak=0.0, ST_Slope='Up', HeartDisease=0),\n",
              " Row(Age=63, Sex='M', ChestPainType='ASY', RestingBP=170, Cholesterol=177, FastingBS=0, RestingECG='Normal', MaxHR=84, ExerciseAngina='Y', Oldpeak=2.5, ST_Slope='Down', HeartDisease=1),\n",
              " Row(Age=46, Sex='M', ChestPainType='ASY', RestingBP=110, Cholesterol=236, FastingBS=0, RestingECG='Normal', MaxHR=125, ExerciseAngina='Y', Oldpeak=2.0, ST_Slope='Flat', HeartDisease=1),\n",
              " Row(Age=63, Sex='M', ChestPainType='ASY', RestingBP=126, Cholesterol=0, FastingBS=0, RestingECG='ST', MaxHR=120, ExerciseAngina='N', Oldpeak=1.5, ST_Slope='Down', HeartDisease=0),\n",
              " Row(Age=60, Sex='M', ChestPainType='ASY', RestingBP=152, Cholesterol=0, FastingBS=0, RestingECG='ST', MaxHR=118, ExerciseAngina='Y', Oldpeak=0.0, ST_Slope='Up', HeartDisease=0),\n",
              " Row(Age=58, Sex='M', ChestPainType='ASY', RestingBP=116, Cholesterol=0, FastingBS=0, RestingECG='Normal', MaxHR=124, ExerciseAngina='N', Oldpeak=1.0, ST_Slope='Up', HeartDisease=1),\n",
              " Row(Age=64, Sex='M', ChestPainType='ASY', RestingBP=120, Cholesterol=0, FastingBS=1, RestingECG='ST', MaxHR=106, ExerciseAngina='N', Oldpeak=2.0, ST_Slope='Flat', HeartDisease=1),\n",
              " Row(Age=63, Sex='M', ChestPainType='NAP', RestingBP=130, Cholesterol=0, FastingBS=0, RestingECG='ST', MaxHR=111, ExerciseAngina='Y', Oldpeak=0.0, ST_Slope='Flat', HeartDisease=1),\n",
              " Row(Age=74, Sex='M', ChestPainType='NAP', RestingBP=138, Cholesterol=0, FastingBS=0, RestingECG='Normal', MaxHR=116, ExerciseAngina='N', Oldpeak=0.2, ST_Slope='Up', HeartDisease=0),\n",
              " Row(Age=52, Sex='M', ChestPainType='NAP', RestingBP=128, Cholesterol=0, FastingBS=0, RestingECG='ST', MaxHR=180, ExerciseAngina='N', Oldpeak=3.0, ST_Slope='Up', HeartDisease=1),\n",
              " Row(Age=69, Sex='M', ChestPainType='ASY', RestingBP=130, Cholesterol=0, FastingBS=1, RestingECG='ST', MaxHR=129, ExerciseAngina='N', Oldpeak=1.0, ST_Slope='Flat', HeartDisease=1),\n",
              " Row(Age=51, Sex='M', ChestPainType='ASY', RestingBP=128, Cholesterol=0, FastingBS=1, RestingECG='ST', MaxHR=125, ExerciseAngina='Y', Oldpeak=1.2, ST_Slope='Flat', HeartDisease=1),\n",
              " Row(Age=60, Sex='M', ChestPainType='ASY', RestingBP=130, Cholesterol=186, FastingBS=1, RestingECG='ST', MaxHR=140, ExerciseAngina='Y', Oldpeak=0.5, ST_Slope='Flat', HeartDisease=1),\n",
              " Row(Age=56, Sex='M', ChestPainType='ASY', RestingBP=120, Cholesterol=100, FastingBS=0, RestingECG='Normal', MaxHR=120, ExerciseAngina='Y', Oldpeak=1.5, ST_Slope='Flat', HeartDisease=1),\n",
              " Row(Age=55, Sex='M', ChestPainType='NAP', RestingBP=136, Cholesterol=228, FastingBS=0, RestingECG='ST', MaxHR=124, ExerciseAngina='Y', Oldpeak=1.6, ST_Slope='Flat', HeartDisease=1),\n",
              " Row(Age=54, Sex='M', ChestPainType='ASY', RestingBP=130, Cholesterol=0, FastingBS=0, RestingECG='ST', MaxHR=117, ExerciseAngina='Y', Oldpeak=1.4, ST_Slope='Flat', HeartDisease=1),\n",
              " Row(Age=77, Sex='M', ChestPainType='ASY', RestingBP=124, Cholesterol=171, FastingBS=0, RestingECG='ST', MaxHR=110, ExerciseAngina='Y', Oldpeak=2.0, ST_Slope='Up', HeartDisease=1),\n",
              " Row(Age=63, Sex='M', ChestPainType='ASY', RestingBP=160, Cholesterol=230, FastingBS=1, RestingECG='Normal', MaxHR=105, ExerciseAngina='Y', Oldpeak=1.0, ST_Slope='Flat', HeartDisease=1),\n",
              " Row(Age=55, Sex='M', ChestPainType='NAP', RestingBP=0, Cholesterol=0, FastingBS=0, RestingECG='Normal', MaxHR=155, ExerciseAngina='N', Oldpeak=1.5, ST_Slope='Flat', HeartDisease=1),\n",
              " Row(Age=52, Sex='M', ChestPainType='NAP', RestingBP=122, Cholesterol=0, FastingBS=0, RestingECG='Normal', MaxHR=110, ExerciseAngina='Y', Oldpeak=2.0, ST_Slope='Down', HeartDisease=1),\n",
              " Row(Age=64, Sex='M', ChestPainType='ASY', RestingBP=144, Cholesterol=0, FastingBS=0, RestingECG='ST', MaxHR=122, ExerciseAngina='Y', Oldpeak=1.0, ST_Slope='Flat', HeartDisease=1),\n",
              " Row(Age=60, Sex='M', ChestPainType='ASY', RestingBP=140, Cholesterol=281, FastingBS=0, RestingECG='ST', MaxHR=118, ExerciseAngina='Y', Oldpeak=1.5, ST_Slope='Flat', HeartDisease=1),\n",
              " Row(Age=60, Sex='M', ChestPainType='ASY', RestingBP=120, Cholesterol=0, FastingBS=0, RestingECG='Normal', MaxHR=133, ExerciseAngina='Y', Oldpeak=2.0, ST_Slope='Up', HeartDisease=0),\n",
              " Row(Age=58, Sex='M', ChestPainType='ASY', RestingBP=136, Cholesterol=203, FastingBS=1, RestingECG='Normal', MaxHR=123, ExerciseAngina='Y', Oldpeak=1.2, ST_Slope='Flat', HeartDisease=1),\n",
              " Row(Age=59, Sex='M', ChestPainType='ASY', RestingBP=154, Cholesterol=0, FastingBS=0, RestingECG='ST', MaxHR=131, ExerciseAngina='Y', Oldpeak=1.5, ST_Slope='Up', HeartDisease=0),\n",
              " Row(Age=61, Sex='M', ChestPainType='NAP', RestingBP=120, Cholesterol=0, FastingBS=0, RestingECG='Normal', MaxHR=80, ExerciseAngina='Y', Oldpeak=0.0, ST_Slope='Flat', HeartDisease=1),\n",
              " Row(Age=40, Sex='M', ChestPainType='ASY', RestingBP=125, Cholesterol=0, FastingBS=1, RestingECG='Normal', MaxHR=165, ExerciseAngina='N', Oldpeak=0.0, ST_Slope='Flat', HeartDisease=1),\n",
              " Row(Age=61, Sex='M', ChestPainType='ASY', RestingBP=134, Cholesterol=0, FastingBS=1, RestingECG='ST', MaxHR=86, ExerciseAngina='N', Oldpeak=1.5, ST_Slope='Flat', HeartDisease=1),\n",
              " Row(Age=41, Sex='M', ChestPainType='ASY', RestingBP=104, Cholesterol=0, FastingBS=0, RestingECG='ST', MaxHR=111, ExerciseAngina='N', Oldpeak=0.0, ST_Slope='Up', HeartDisease=0),\n",
              " Row(Age=57, Sex='M', ChestPainType='ASY', RestingBP=139, Cholesterol=277, FastingBS=1, RestingECG='ST', MaxHR=118, ExerciseAngina='Y', Oldpeak=1.9, ST_Slope='Flat', HeartDisease=1),\n",
              " Row(Age=63, Sex='M', ChestPainType='ASY', RestingBP=136, Cholesterol=0, FastingBS=0, RestingECG='Normal', MaxHR=84, ExerciseAngina='Y', Oldpeak=0.0, ST_Slope='Flat', HeartDisease=1),\n",
              " Row(Age=59, Sex='M', ChestPainType='ASY', RestingBP=122, Cholesterol=233, FastingBS=0, RestingECG='Normal', MaxHR=117, ExerciseAngina='Y', Oldpeak=1.3, ST_Slope='Down', HeartDisease=1),\n",
              " Row(Age=51, Sex='M', ChestPainType='ASY', RestingBP=128, Cholesterol=0, FastingBS=0, RestingECG='Normal', MaxHR=107, ExerciseAngina='N', Oldpeak=0.0, ST_Slope='Up', HeartDisease=0),\n",
              " Row(Age=59, Sex='M', ChestPainType='NAP', RestingBP=131, Cholesterol=0, FastingBS=0, RestingECG='Normal', MaxHR=128, ExerciseAngina='Y', Oldpeak=2.0, ST_Slope='Down', HeartDisease=1),\n",
              " Row(Age=42, Sex='M', ChestPainType='NAP', RestingBP=134, Cholesterol=240, FastingBS=0, RestingECG='Normal', MaxHR=160, ExerciseAngina='N', Oldpeak=0.0, ST_Slope='Up', HeartDisease=0),\n",
              " Row(Age=55, Sex='M', ChestPainType='NAP', RestingBP=120, Cholesterol=0, FastingBS=0, RestingECG='ST', MaxHR=125, ExerciseAngina='Y', Oldpeak=2.5, ST_Slope='Flat', HeartDisease=1),\n",
              " Row(Age=63, Sex='F', ChestPainType='ATA', RestingBP=132, Cholesterol=0, FastingBS=0, RestingECG='Normal', MaxHR=130, ExerciseAngina='N', Oldpeak=0.1, ST_Slope='Up', HeartDisease=0),\n",
              " Row(Age=62, Sex='M', ChestPainType='ASY', RestingBP=152, Cholesterol=153, FastingBS=0, RestingECG='ST', MaxHR=97, ExerciseAngina='Y', Oldpeak=1.6, ST_Slope='Up', HeartDisease=1),\n",
              " Row(Age=56, Sex='M', ChestPainType='ATA', RestingBP=124, Cholesterol=224, FastingBS=1, RestingECG='Normal', MaxHR=161, ExerciseAngina='N', Oldpeak=2.0, ST_Slope='Flat', HeartDisease=0),\n",
              " Row(Age=53, Sex='M', ChestPainType='ASY', RestingBP=126, Cholesterol=0, FastingBS=0, RestingECG='Normal', MaxHR=106, ExerciseAngina='N', Oldpeak=0.0, ST_Slope='Flat', HeartDisease=1),\n",
              " Row(Age=68, Sex='M', ChestPainType='ASY', RestingBP=138, Cholesterol=0, FastingBS=0, RestingECG='Normal', MaxHR=130, ExerciseAngina='Y', Oldpeak=3.0, ST_Slope='Flat', HeartDisease=1),\n",
              " Row(Age=53, Sex='M', ChestPainType='ASY', RestingBP=154, Cholesterol=0, FastingBS=1, RestingECG='ST', MaxHR=140, ExerciseAngina='Y', Oldpeak=1.5, ST_Slope='Flat', HeartDisease=1),\n",
              " Row(Age=60, Sex='M', ChestPainType='NAP', RestingBP=141, Cholesterol=316, FastingBS=1, RestingECG='ST', MaxHR=122, ExerciseAngina='Y', Oldpeak=1.7, ST_Slope='Flat', HeartDisease=1),\n",
              " Row(Age=62, Sex='M', ChestPainType='ATA', RestingBP=131, Cholesterol=0, FastingBS=0, RestingECG='Normal', MaxHR=130, ExerciseAngina='N', Oldpeak=0.1, ST_Slope='Up', HeartDisease=0),\n",
              " Row(Age=59, Sex='M', ChestPainType='ASY', RestingBP=178, Cholesterol=0, FastingBS=1, RestingECG='LVH', MaxHR=120, ExerciseAngina='Y', Oldpeak=0.0, ST_Slope='Flat', HeartDisease=1),\n",
              " Row(Age=51, Sex='M', ChestPainType='ASY', RestingBP=132, Cholesterol=218, FastingBS=1, RestingECG='LVH', MaxHR=139, ExerciseAngina='N', Oldpeak=0.1, ST_Slope='Up', HeartDisease=0),\n",
              " Row(Age=61, Sex='M', ChestPainType='ASY', RestingBP=110, Cholesterol=0, FastingBS=1, RestingECG='Normal', MaxHR=108, ExerciseAngina='Y', Oldpeak=2.0, ST_Slope='Down', HeartDisease=1),\n",
              " Row(Age=57, Sex='M', ChestPainType='ASY', RestingBP=130, Cholesterol=311, FastingBS=1, RestingECG='ST', MaxHR=148, ExerciseAngina='Y', Oldpeak=2.0, ST_Slope='Flat', HeartDisease=1),\n",
              " Row(Age=56, Sex='M', ChestPainType='NAP', RestingBP=170, Cholesterol=0, FastingBS=0, RestingECG='LVH', MaxHR=123, ExerciseAngina='Y', Oldpeak=2.5, ST_Slope='Flat', HeartDisease=1),\n",
              " Row(Age=58, Sex='M', ChestPainType='ATA', RestingBP=126, Cholesterol=0, FastingBS=1, RestingECG='Normal', MaxHR=110, ExerciseAngina='Y', Oldpeak=2.0, ST_Slope='Flat', HeartDisease=1),\n",
              " Row(Age=69, Sex='M', ChestPainType='NAP', RestingBP=140, Cholesterol=0, FastingBS=1, RestingECG='ST', MaxHR=118, ExerciseAngina='N', Oldpeak=2.5, ST_Slope='Down', HeartDisease=1),\n",
              " Row(Age=67, Sex='M', ChestPainType='TA', RestingBP=142, Cholesterol=270, FastingBS=1, RestingECG='Normal', MaxHR=125, ExerciseAngina='N', Oldpeak=2.5, ST_Slope='Up', HeartDisease=1),\n",
              " Row(Age=58, Sex='M', ChestPainType='ASY', RestingBP=120, Cholesterol=0, FastingBS=0, RestingECG='LVH', MaxHR=106, ExerciseAngina='Y', Oldpeak=1.5, ST_Slope='Down', HeartDisease=1),\n",
              " Row(Age=65, Sex='M', ChestPainType='ASY', RestingBP=134, Cholesterol=0, FastingBS=0, RestingECG='Normal', MaxHR=112, ExerciseAngina='Y', Oldpeak=1.1, ST_Slope='Flat', HeartDisease=1),\n",
              " Row(Age=63, Sex='M', ChestPainType='ATA', RestingBP=139, Cholesterol=217, FastingBS=1, RestingECG='ST', MaxHR=128, ExerciseAngina='Y', Oldpeak=1.2, ST_Slope='Flat', HeartDisease=1),\n",
              " Row(Age=55, Sex='M', ChestPainType='ATA', RestingBP=110, Cholesterol=214, FastingBS=1, RestingECG='ST', MaxHR=180, ExerciseAngina='N', Oldpeak=0.4, ST_Slope='Up', HeartDisease=0),\n",
              " Row(Age=57, Sex='M', ChestPainType='ASY', RestingBP=140, Cholesterol=214, FastingBS=0, RestingECG='ST', MaxHR=144, ExerciseAngina='Y', Oldpeak=2.0, ST_Slope='Flat', HeartDisease=1),\n",
              " Row(Age=65, Sex='M', ChestPainType='TA', RestingBP=140, Cholesterol=252, FastingBS=0, RestingECG='Normal', MaxHR=135, ExerciseAngina='N', Oldpeak=0.3, ST_Slope='Up', HeartDisease=0),\n",
              " Row(Age=54, Sex='M', ChestPainType='ASY', RestingBP=136, Cholesterol=220, FastingBS=0, RestingECG='Normal', MaxHR=140, ExerciseAngina='Y', Oldpeak=3.0, ST_Slope='Flat', HeartDisease=1),\n",
              " Row(Age=72, Sex='M', ChestPainType='NAP', RestingBP=120, Cholesterol=214, FastingBS=0, RestingECG='Normal', MaxHR=102, ExerciseAngina='Y', Oldpeak=1.0, ST_Slope='Flat', HeartDisease=1),\n",
              " Row(Age=75, Sex='M', ChestPainType='ASY', RestingBP=170, Cholesterol=203, FastingBS=1, RestingECG='ST', MaxHR=108, ExerciseAngina='N', Oldpeak=0.0, ST_Slope='Flat', HeartDisease=1),\n",
              " Row(Age=49, Sex='M', ChestPainType='TA', RestingBP=130, Cholesterol=0, FastingBS=0, RestingECG='ST', MaxHR=145, ExerciseAngina='N', Oldpeak=3.0, ST_Slope='Flat', HeartDisease=1),\n",
              " Row(Age=51, Sex='M', ChestPainType='NAP', RestingBP=137, Cholesterol=339, FastingBS=0, RestingECG='Normal', MaxHR=127, ExerciseAngina='Y', Oldpeak=1.7, ST_Slope='Flat', HeartDisease=1),\n",
              " Row(Age=60, Sex='M', ChestPainType='ASY', RestingBP=142, Cholesterol=216, FastingBS=0, RestingECG='Normal', MaxHR=110, ExerciseAngina='Y', Oldpeak=2.5, ST_Slope='Flat', HeartDisease=1),\n",
              " Row(Age=64, Sex='F', ChestPainType='ASY', RestingBP=142, Cholesterol=276, FastingBS=0, RestingECG='Normal', MaxHR=140, ExerciseAngina='Y', Oldpeak=1.0, ST_Slope='Flat', HeartDisease=1),\n",
              " Row(Age=58, Sex='M', ChestPainType='ASY', RestingBP=132, Cholesterol=458, FastingBS=1, RestingECG='Normal', MaxHR=69, ExerciseAngina='N', Oldpeak=1.0, ST_Slope='Down', HeartDisease=0),\n",
              " Row(Age=61, Sex='M', ChestPainType='ASY', RestingBP=146, Cholesterol=241, FastingBS=0, RestingECG='Normal', MaxHR=148, ExerciseAngina='Y', Oldpeak=3.0, ST_Slope='Down', HeartDisease=1),\n",
              " Row(Age=67, Sex='M', ChestPainType='ASY', RestingBP=160, Cholesterol=384, FastingBS=1, RestingECG='ST', MaxHR=130, ExerciseAngina='Y', Oldpeak=0.0, ST_Slope='Flat', HeartDisease=1),\n",
              " Row(Age=62, Sex='M', ChestPainType='ASY', RestingBP=135, Cholesterol=297, FastingBS=0, RestingECG='Normal', MaxHR=130, ExerciseAngina='Y', Oldpeak=1.0, ST_Slope='Flat', HeartDisease=1),\n",
              " Row(Age=65, Sex='M', ChestPainType='ASY', RestingBP=136, Cholesterol=248, FastingBS=0, RestingECG='Normal', MaxHR=140, ExerciseAngina='Y', Oldpeak=4.0, ST_Slope='Down', HeartDisease=1),\n",
              " Row(Age=63, Sex='M', ChestPainType='ASY', RestingBP=130, Cholesterol=308, FastingBS=0, RestingECG='Normal', MaxHR=138, ExerciseAngina='Y', Oldpeak=2.0, ST_Slope='Flat', HeartDisease=1),\n",
              " Row(Age=69, Sex='M', ChestPainType='ASY', RestingBP=140, Cholesterol=208, FastingBS=0, RestingECG='ST', MaxHR=140, ExerciseAngina='Y', Oldpeak=2.0, ST_Slope='Flat', HeartDisease=1),\n",
              " Row(Age=51, Sex='M', ChestPainType='ASY', RestingBP=132, Cholesterol=227, FastingBS=1, RestingECG='ST', MaxHR=138, ExerciseAngina='N', Oldpeak=0.2, ST_Slope='Up', HeartDisease=0),\n",
              " Row(Age=62, Sex='M', ChestPainType='ASY', RestingBP=158, Cholesterol=210, FastingBS=1, RestingECG='Normal', MaxHR=112, ExerciseAngina='Y', Oldpeak=3.0, ST_Slope='Down', HeartDisease=1),\n",
              " Row(Age=55, Sex='M', ChestPainType='NAP', RestingBP=136, Cholesterol=245, FastingBS=1, RestingECG='ST', MaxHR=131, ExerciseAngina='Y', Oldpeak=1.2, ST_Slope='Flat', HeartDisease=1),\n",
              " Row(Age=75, Sex='M', ChestPainType='ASY', RestingBP=136, Cholesterol=225, FastingBS=0, RestingECG='Normal', MaxHR=112, ExerciseAngina='Y', Oldpeak=3.0, ST_Slope='Flat', HeartDisease=1),\n",
              " Row(Age=40, Sex='M', ChestPainType='NAP', RestingBP=106, Cholesterol=240, FastingBS=0, RestingECG='Normal', MaxHR=80, ExerciseAngina='Y', Oldpeak=0.0, ST_Slope='Up', HeartDisease=0),\n",
              " Row(Age=67, Sex='M', ChestPainType='ASY', RestingBP=120, Cholesterol=0, FastingBS=1, RestingECG='Normal', MaxHR=150, ExerciseAngina='N', Oldpeak=1.5, ST_Slope='Down', HeartDisease=1),\n",
              " Row(Age=58, Sex='M', ChestPainType='ASY', RestingBP=110, Cholesterol=198, FastingBS=0, RestingECG='Normal', MaxHR=110, ExerciseAngina='N', Oldpeak=0.0, ST_Slope='Flat', HeartDisease=1),\n",
              " Row(Age=60, Sex='M', ChestPainType='ASY', RestingBP=136, Cholesterol=195, FastingBS=0, RestingECG='Normal', MaxHR=126, ExerciseAngina='N', Oldpeak=0.3, ST_Slope='Up', HeartDisease=0),\n",
              " Row(Age=63, Sex='M', ChestPainType='ASY', RestingBP=160, Cholesterol=267, FastingBS=1, RestingECG='ST', MaxHR=88, ExerciseAngina='Y', Oldpeak=2.0, ST_Slope='Flat', HeartDisease=1),\n",
              " Row(Age=35, Sex='M', ChestPainType='NAP', RestingBP=123, Cholesterol=161, FastingBS=0, RestingECG='ST', MaxHR=153, ExerciseAngina='N', Oldpeak=-0.1, ST_Slope='Up', HeartDisease=0),\n",
              " Row(Age=62, Sex='M', ChestPainType='TA', RestingBP=112, Cholesterol=258, FastingBS=0, RestingECG='ST', MaxHR=150, ExerciseAngina='Y', Oldpeak=1.3, ST_Slope='Flat', HeartDisease=1),\n",
              " Row(Age=43, Sex='M', ChestPainType='ASY', RestingBP=122, Cholesterol=0, FastingBS=0, RestingECG='Normal', MaxHR=120, ExerciseAngina='N', Oldpeak=0.5, ST_Slope='Up', HeartDisease=1),\n",
              " Row(Age=63, Sex='M', ChestPainType='NAP', RestingBP=130, Cholesterol=0, FastingBS=1, RestingECG='ST', MaxHR=160, ExerciseAngina='N', Oldpeak=3.0, ST_Slope='Flat', HeartDisease=0),\n",
              " Row(Age=68, Sex='M', ChestPainType='NAP', RestingBP=150, Cholesterol=195, FastingBS=1, RestingECG='Normal', MaxHR=132, ExerciseAngina='N', Oldpeak=0.0, ST_Slope='Flat', HeartDisease=1),\n",
              " Row(Age=65, Sex='M', ChestPainType='ASY', RestingBP=150, Cholesterol=235, FastingBS=0, RestingECG='Normal', MaxHR=120, ExerciseAngina='Y', Oldpeak=1.5, ST_Slope='Flat', HeartDisease=1),\n",
              " Row(Age=48, Sex='M', ChestPainType='NAP', RestingBP=102, Cholesterol=0, FastingBS=1, RestingECG='ST', MaxHR=110, ExerciseAngina='Y', Oldpeak=1.0, ST_Slope='Down', HeartDisease=1),\n",
              " Row(Age=63, Sex='M', ChestPainType='ASY', RestingBP=96, Cholesterol=305, FastingBS=0, RestingECG='ST', MaxHR=121, ExerciseAngina='Y', Oldpeak=1.0, ST_Slope='Up', HeartDisease=1),\n",
              " Row(Age=64, Sex='M', ChestPainType='ASY', RestingBP=130, Cholesterol=223, FastingBS=0, RestingECG='ST', MaxHR=128, ExerciseAngina='N', Oldpeak=0.5, ST_Slope='Flat', HeartDisease=0),\n",
              " Row(Age=61, Sex='M', ChestPainType='ASY', RestingBP=120, Cholesterol=282, FastingBS=0, RestingECG='ST', MaxHR=135, ExerciseAngina='Y', Oldpeak=4.0, ST_Slope='Down', HeartDisease=1),\n",
              " Row(Age=50, Sex='M', ChestPainType='ASY', RestingBP=144, Cholesterol=349, FastingBS=0, RestingECG='LVH', MaxHR=120, ExerciseAngina='Y', Oldpeak=1.0, ST_Slope='Up', HeartDisease=1),\n",
              " Row(Age=59, Sex='M', ChestPainType='ASY', RestingBP=124, Cholesterol=160, FastingBS=0, RestingECG='Normal', MaxHR=117, ExerciseAngina='Y', Oldpeak=1.0, ST_Slope='Flat', HeartDisease=1),\n",
              " Row(Age=55, Sex='M', ChestPainType='ASY', RestingBP=150, Cholesterol=160, FastingBS=0, RestingECG='ST', MaxHR=150, ExerciseAngina='N', Oldpeak=0.0, ST_Slope='Up', HeartDisease=0),\n",
              " Row(Age=45, Sex='M', ChestPainType='NAP', RestingBP=130, Cholesterol=236, FastingBS=0, RestingECG='Normal', MaxHR=144, ExerciseAngina='N', Oldpeak=0.1, ST_Slope='Up', HeartDisease=0),\n",
              " Row(Age=65, Sex='M', ChestPainType='ASY', RestingBP=144, Cholesterol=312, FastingBS=0, RestingECG='LVH', MaxHR=113, ExerciseAngina='Y', Oldpeak=1.7, ST_Slope='Flat', HeartDisease=1),\n",
              " Row(Age=61, Sex='M', ChestPainType='ATA', RestingBP=139, Cholesterol=283, FastingBS=0, RestingECG='Normal', MaxHR=135, ExerciseAngina='N', Oldpeak=0.3, ST_Slope='Up', HeartDisease=0),\n",
              " Row(Age=49, Sex='M', ChestPainType='NAP', RestingBP=131, Cholesterol=142, FastingBS=0, RestingECG='Normal', MaxHR=127, ExerciseAngina='Y', Oldpeak=1.5, ST_Slope='Flat', HeartDisease=1),\n",
              " Row(Age=72, Sex='M', ChestPainType='ASY', RestingBP=143, Cholesterol=211, FastingBS=0, RestingECG='Normal', MaxHR=109, ExerciseAngina='Y', Oldpeak=1.4, ST_Slope='Flat', HeartDisease=1),\n",
              " Row(Age=50, Sex='M', ChestPainType='ASY', RestingBP=133, Cholesterol=218, FastingBS=0, RestingECG='Normal', MaxHR=128, ExerciseAngina='Y', Oldpeak=1.1, ST_Slope='Flat', HeartDisease=1),\n",
              " Row(Age=64, Sex='M', ChestPainType='ASY', RestingBP=143, Cholesterol=306, FastingBS=1, RestingECG='ST', MaxHR=115, ExerciseAngina='Y', Oldpeak=1.8, ST_Slope='Flat', HeartDisease=1),\n",
              " Row(Age=55, Sex='M', ChestPainType='ASY', RestingBP=116, Cholesterol=186, FastingBS=1, RestingECG='ST', MaxHR=102, ExerciseAngina='N', Oldpeak=0.0, ST_Slope='Flat', HeartDisease=1),\n",
              " Row(Age=63, Sex='M', ChestPainType='ASY', RestingBP=110, Cholesterol=252, FastingBS=0, RestingECG='ST', MaxHR=140, ExerciseAngina='Y', Oldpeak=2.0, ST_Slope='Flat', HeartDisease=1),\n",
              " Row(Age=59, Sex='M', ChestPainType='ASY', RestingBP=125, Cholesterol=222, FastingBS=0, RestingECG='Normal', MaxHR=135, ExerciseAngina='Y', Oldpeak=2.5, ST_Slope='Down', HeartDisease=1),\n",
              " Row(Age=56, Sex='M', ChestPainType='ASY', RestingBP=130, Cholesterol=0, FastingBS=0, RestingECG='LVH', MaxHR=122, ExerciseAngina='Y', Oldpeak=1.0, ST_Slope='Flat', HeartDisease=1),\n",
              " Row(Age=62, Sex='M', ChestPainType='NAP', RestingBP=133, Cholesterol=0, FastingBS=1, RestingECG='ST', MaxHR=119, ExerciseAngina='Y', Oldpeak=1.2, ST_Slope='Flat', HeartDisease=1),\n",
              " Row(Age=74, Sex='M', ChestPainType='ASY', RestingBP=150, Cholesterol=258, FastingBS=1, RestingECG='ST', MaxHR=130, ExerciseAngina='Y', Oldpeak=4.0, ST_Slope='Down', HeartDisease=1),\n",
              " Row(Age=54, Sex='M', ChestPainType='ASY', RestingBP=130, Cholesterol=202, FastingBS=1, RestingECG='Normal', MaxHR=112, ExerciseAngina='Y', Oldpeak=2.0, ST_Slope='Flat', HeartDisease=1),\n",
              " Row(Age=57, Sex='M', ChestPainType='ASY', RestingBP=110, Cholesterol=197, FastingBS=0, RestingECG='LVH', MaxHR=100, ExerciseAngina='N', Oldpeak=0.0, ST_Slope='Up', HeartDisease=0),\n",
              " Row(Age=62, Sex='M', ChestPainType='NAP', RestingBP=138, Cholesterol=204, FastingBS=0, RestingECG='ST', MaxHR=122, ExerciseAngina='Y', Oldpeak=1.2, ST_Slope='Flat', HeartDisease=1),\n",
              " Row(Age=76, Sex='M', ChestPainType='NAP', RestingBP=104, Cholesterol=113, FastingBS=0, RestingECG='LVH', MaxHR=120, ExerciseAngina='N', Oldpeak=3.5, ST_Slope='Down', HeartDisease=1),\n",
              " Row(Age=54, Sex='F', ChestPainType='ASY', RestingBP=138, Cholesterol=274, FastingBS=0, RestingECG='Normal', MaxHR=105, ExerciseAngina='Y', Oldpeak=1.5, ST_Slope='Flat', HeartDisease=1),\n",
              " Row(Age=70, Sex='M', ChestPainType='ASY', RestingBP=170, Cholesterol=192, FastingBS=0, RestingECG='ST', MaxHR=129, ExerciseAngina='Y', Oldpeak=3.0, ST_Slope='Down', HeartDisease=1),\n",
              " Row(Age=61, Sex='F', ChestPainType='ATA', RestingBP=140, Cholesterol=298, FastingBS=1, RestingECG='Normal', MaxHR=120, ExerciseAngina='Y', Oldpeak=0.0, ST_Slope='Up', HeartDisease=0),\n",
              " Row(Age=48, Sex='M', ChestPainType='ASY', RestingBP=132, Cholesterol=272, FastingBS=0, RestingECG='ST', MaxHR=139, ExerciseAngina='N', Oldpeak=0.2, ST_Slope='Up', HeartDisease=0),\n",
              " Row(Age=48, Sex='M', ChestPainType='NAP', RestingBP=132, Cholesterol=220, FastingBS=1, RestingECG='ST', MaxHR=162, ExerciseAngina='N', Oldpeak=0.0, ST_Slope='Flat', HeartDisease=1),\n",
              " Row(Age=61, Sex='M', ChestPainType='TA', RestingBP=142, Cholesterol=200, FastingBS=1, RestingECG='ST', MaxHR=100, ExerciseAngina='N', Oldpeak=1.5, ST_Slope='Down', HeartDisease=1),\n",
              " Row(Age=66, Sex='M', ChestPainType='ASY', RestingBP=112, Cholesterol=261, FastingBS=0, RestingECG='Normal', MaxHR=140, ExerciseAngina='N', Oldpeak=1.5, ST_Slope='Up', HeartDisease=1),\n",
              " Row(Age=68, Sex='M', ChestPainType='TA', RestingBP=139, Cholesterol=181, FastingBS=1, RestingECG='ST', MaxHR=135, ExerciseAngina='N', Oldpeak=0.2, ST_Slope='Up', HeartDisease=0),\n",
              " Row(Age=55, Sex='M', ChestPainType='ASY', RestingBP=172, Cholesterol=260, FastingBS=0, RestingECG='Normal', MaxHR=73, ExerciseAngina='N', Oldpeak=2.0, ST_Slope='Flat', HeartDisease=1),\n",
              " Row(Age=62, Sex='M', ChestPainType='NAP', RestingBP=120, Cholesterol=220, FastingBS=0, RestingECG='LVH', MaxHR=86, ExerciseAngina='N', Oldpeak=0.0, ST_Slope='Up', HeartDisease=0),\n",
              " Row(Age=71, Sex='M', ChestPainType='NAP', RestingBP=144, Cholesterol=221, FastingBS=0, RestingECG='Normal', MaxHR=108, ExerciseAngina='Y', Oldpeak=1.8, ST_Slope='Flat', HeartDisease=1),\n",
              " Row(Age=74, Sex='M', ChestPainType='TA', RestingBP=145, Cholesterol=216, FastingBS=1, RestingECG='Normal', MaxHR=116, ExerciseAngina='Y', Oldpeak=1.8, ST_Slope='Flat', HeartDisease=1),\n",
              " Row(Age=53, Sex='M', ChestPainType='NAP', RestingBP=155, Cholesterol=175, FastingBS=1, RestingECG='ST', MaxHR=160, ExerciseAngina='N', Oldpeak=0.3, ST_Slope='Up', HeartDisease=0),\n",
              " Row(Age=58, Sex='M', ChestPainType='NAP', RestingBP=150, Cholesterol=219, FastingBS=0, RestingECG='ST', MaxHR=118, ExerciseAngina='Y', Oldpeak=0.0, ST_Slope='Flat', HeartDisease=1),\n",
              " Row(Age=75, Sex='M', ChestPainType='ASY', RestingBP=160, Cholesterol=310, FastingBS=1, RestingECG='Normal', MaxHR=112, ExerciseAngina='Y', Oldpeak=2.0, ST_Slope='Down', HeartDisease=0),\n",
              " Row(Age=56, Sex='M', ChestPainType='NAP', RestingBP=137, Cholesterol=208, FastingBS=1, RestingECG='ST', MaxHR=122, ExerciseAngina='Y', Oldpeak=1.8, ST_Slope='Flat', HeartDisease=1),\n",
              " Row(Age=58, Sex='M', ChestPainType='NAP', RestingBP=137, Cholesterol=232, FastingBS=0, RestingECG='ST', MaxHR=124, ExerciseAngina='Y', Oldpeak=1.4, ST_Slope='Flat', HeartDisease=1),\n",
              " Row(Age=64, Sex='M', ChestPainType='ASY', RestingBP=134, Cholesterol=273, FastingBS=0, RestingECG='Normal', MaxHR=102, ExerciseAngina='Y', Oldpeak=4.0, ST_Slope='Down', HeartDisease=1),\n",
              " Row(Age=54, Sex='M', ChestPainType='NAP', RestingBP=133, Cholesterol=203, FastingBS=0, RestingECG='ST', MaxHR=137, ExerciseAngina='N', Oldpeak=0.2, ST_Slope='Up', HeartDisease=0),\n",
              " Row(Age=54, Sex='M', ChestPainType='ATA', RestingBP=132, Cholesterol=182, FastingBS=0, RestingECG='ST', MaxHR=141, ExerciseAngina='N', Oldpeak=0.1, ST_Slope='Up', HeartDisease=0),\n",
              " Row(Age=59, Sex='M', ChestPainType='ASY', RestingBP=140, Cholesterol=274, FastingBS=0, RestingECG='Normal', MaxHR=154, ExerciseAngina='Y', Oldpeak=2.0, ST_Slope='Flat', HeartDisease=0),\n",
              " Row(Age=55, Sex='M', ChestPainType='ASY', RestingBP=135, Cholesterol=204, FastingBS=1, RestingECG='ST', MaxHR=126, ExerciseAngina='Y', Oldpeak=1.1, ST_Slope='Flat', HeartDisease=1),\n",
              " Row(Age=57, Sex='M', ChestPainType='ASY', RestingBP=144, Cholesterol=270, FastingBS=1, RestingECG='ST', MaxHR=160, ExerciseAngina='Y', Oldpeak=2.0, ST_Slope='Flat', HeartDisease=1),\n",
              " Row(Age=61, Sex='M', ChestPainType='ASY', RestingBP=141, Cholesterol=292, FastingBS=0, RestingECG='ST', MaxHR=115, ExerciseAngina='Y', Oldpeak=1.7, ST_Slope='Flat', HeartDisease=1),\n",
              " Row(Age=41, Sex='M', ChestPainType='ASY', RestingBP=150, Cholesterol=171, FastingBS=0, RestingECG='Normal', MaxHR=128, ExerciseAngina='Y', Oldpeak=1.5, ST_Slope='Flat', HeartDisease=0),\n",
              " Row(Age=71, Sex='M', ChestPainType='ASY', RestingBP=130, Cholesterol=221, FastingBS=0, RestingECG='ST', MaxHR=115, ExerciseAngina='Y', Oldpeak=0.0, ST_Slope='Flat', HeartDisease=1),\n",
              " Row(Age=38, Sex='M', ChestPainType='ASY', RestingBP=110, Cholesterol=289, FastingBS=0, RestingECG='Normal', MaxHR=105, ExerciseAngina='Y', Oldpeak=1.5, ST_Slope='Down', HeartDisease=1),\n",
              " Row(Age=55, Sex='M', ChestPainType='ASY', RestingBP=158, Cholesterol=217, FastingBS=0, RestingECG='Normal', MaxHR=110, ExerciseAngina='Y', Oldpeak=2.5, ST_Slope='Flat', HeartDisease=1),\n",
              " Row(Age=56, Sex='M', ChestPainType='ASY', RestingBP=128, Cholesterol=223, FastingBS=0, RestingECG='ST', MaxHR=119, ExerciseAngina='Y', Oldpeak=2.0, ST_Slope='Down', HeartDisease=1),\n",
              " Row(Age=69, Sex='M', ChestPainType='ASY', RestingBP=140, Cholesterol=110, FastingBS=1, RestingECG='Normal', MaxHR=109, ExerciseAngina='Y', Oldpeak=1.5, ST_Slope='Flat', HeartDisease=1),\n",
              " Row(Age=64, Sex='M', ChestPainType='ASY', RestingBP=150, Cholesterol=193, FastingBS=0, RestingECG='ST', MaxHR=135, ExerciseAngina='Y', Oldpeak=0.5, ST_Slope='Flat', HeartDisease=1),\n",
              " Row(Age=72, Sex='M', ChestPainType='ASY', RestingBP=160, Cholesterol=123, FastingBS=1, RestingECG='LVH', MaxHR=130, ExerciseAngina='N', Oldpeak=1.5, ST_Slope='Flat', HeartDisease=1),\n",
              " Row(Age=69, Sex='M', ChestPainType='ASY', RestingBP=142, Cholesterol=210, FastingBS=1, RestingECG='ST', MaxHR=112, ExerciseAngina='Y', Oldpeak=1.5, ST_Slope='Flat', HeartDisease=1),\n",
              " Row(Age=56, Sex='M', ChestPainType='ASY', RestingBP=137, Cholesterol=282, FastingBS=1, RestingECG='Normal', MaxHR=126, ExerciseAngina='Y', Oldpeak=1.2, ST_Slope='Flat', HeartDisease=1),\n",
              " Row(Age=62, Sex='M', ChestPainType='ASY', RestingBP=139, Cholesterol=170, FastingBS=0, RestingECG='ST', MaxHR=120, ExerciseAngina='Y', Oldpeak=3.0, ST_Slope='Flat', HeartDisease=1),\n",
              " Row(Age=67, Sex='M', ChestPainType='ASY', RestingBP=146, Cholesterol=369, FastingBS=0, RestingECG='Normal', MaxHR=110, ExerciseAngina='Y', Oldpeak=1.9, ST_Slope='Flat', HeartDisease=1),\n",
              " Row(Age=57, Sex='M', ChestPainType='ASY', RestingBP=156, Cholesterol=173, FastingBS=0, RestingECG='LVH', MaxHR=119, ExerciseAngina='Y', Oldpeak=3.0, ST_Slope='Down', HeartDisease=1),\n",
              " Row(Age=69, Sex='M', ChestPainType='ASY', RestingBP=145, Cholesterol=289, FastingBS=1, RestingECG='ST', MaxHR=110, ExerciseAngina='Y', Oldpeak=1.8, ST_Slope='Flat', HeartDisease=1),\n",
              " Row(Age=51, Sex='M', ChestPainType='ASY', RestingBP=131, Cholesterol=152, FastingBS=1, RestingECG='LVH', MaxHR=130, ExerciseAngina='Y', Oldpeak=1.0, ST_Slope='Flat', HeartDisease=1),\n",
              " Row(Age=48, Sex='M', ChestPainType='ASY', RestingBP=140, Cholesterol=208, FastingBS=0, RestingECG='Normal', MaxHR=159, ExerciseAngina='Y', Oldpeak=1.5, ST_Slope='Up', HeartDisease=1),\n",
              " Row(Age=69, Sex='M', ChestPainType='ASY', RestingBP=122, Cholesterol=216, FastingBS=1, RestingECG='LVH', MaxHR=84, ExerciseAngina='Y', Oldpeak=0.0, ST_Slope='Flat', HeartDisease=1),\n",
              " Row(Age=69, Sex='M', ChestPainType='NAP', RestingBP=142, Cholesterol=271, FastingBS=0, RestingECG='LVH', MaxHR=126, ExerciseAngina='N', Oldpeak=0.3, ST_Slope='Up', HeartDisease=0),\n",
              " Row(Age=64, Sex='M', ChestPainType='ASY', RestingBP=141, Cholesterol=244, FastingBS=1, RestingECG='ST', MaxHR=116, ExerciseAngina='Y', Oldpeak=1.5, ST_Slope='Flat', HeartDisease=1),\n",
              " Row(Age=57, Sex='M', ChestPainType='ATA', RestingBP=180, Cholesterol=285, FastingBS=1, RestingECG='ST', MaxHR=120, ExerciseAngina='N', Oldpeak=0.8, ST_Slope='Flat', HeartDisease=1),\n",
              " Row(Age=53, Sex='M', ChestPainType='ASY', RestingBP=124, Cholesterol=243, FastingBS=0, RestingECG='Normal', MaxHR=122, ExerciseAngina='Y', Oldpeak=2.0, ST_Slope='Flat', HeartDisease=1),\n",
              " Row(Age=37, Sex='M', ChestPainType='NAP', RestingBP=118, Cholesterol=240, FastingBS=0, RestingECG='LVH', MaxHR=165, ExerciseAngina='N', Oldpeak=1.0, ST_Slope='Flat', HeartDisease=0),\n",
              " Row(Age=67, Sex='M', ChestPainType='ASY', RestingBP=140, Cholesterol=219, FastingBS=0, RestingECG='ST', MaxHR=122, ExerciseAngina='Y', Oldpeak=2.0, ST_Slope='Flat', HeartDisease=1),\n",
              " Row(Age=74, Sex='M', ChestPainType='NAP', RestingBP=140, Cholesterol=237, FastingBS=1, RestingECG='Normal', MaxHR=94, ExerciseAngina='N', Oldpeak=0.0, ST_Slope='Flat', HeartDisease=1),\n",
              " Row(Age=63, Sex='M', ChestPainType='ATA', RestingBP=136, Cholesterol=165, FastingBS=0, RestingECG='ST', MaxHR=133, ExerciseAngina='N', Oldpeak=0.2, ST_Slope='Up', HeartDisease=0),\n",
              " Row(Age=58, Sex='M', ChestPainType='ASY', RestingBP=100, Cholesterol=213, FastingBS=0, RestingECG='ST', MaxHR=110, ExerciseAngina='N', Oldpeak=0.0, ST_Slope='Up', HeartDisease=0),\n",
              " Row(Age=61, Sex='M', ChestPainType='ASY', RestingBP=190, Cholesterol=287, FastingBS=1, RestingECG='LVH', MaxHR=150, ExerciseAngina='Y', Oldpeak=2.0, ST_Slope='Down', HeartDisease=1),\n",
              " Row(Age=64, Sex='M', ChestPainType='ASY', RestingBP=130, Cholesterol=258, FastingBS=1, RestingECG='LVH', MaxHR=130, ExerciseAngina='N', Oldpeak=0.0, ST_Slope='Flat', HeartDisease=1),\n",
              " Row(Age=58, Sex='M', ChestPainType='ASY', RestingBP=160, Cholesterol=256, FastingBS=1, RestingECG='LVH', MaxHR=113, ExerciseAngina='Y', Oldpeak=1.0, ST_Slope='Up', HeartDisease=1),\n",
              " Row(Age=60, Sex='M', ChestPainType='ASY', RestingBP=130, Cholesterol=186, FastingBS=1, RestingECG='LVH', MaxHR=140, ExerciseAngina='Y', Oldpeak=0.5, ST_Slope='Flat', HeartDisease=1),\n",
              " Row(Age=57, Sex='M', ChestPainType='ASY', RestingBP=122, Cholesterol=264, FastingBS=0, RestingECG='LVH', MaxHR=100, ExerciseAngina='N', Oldpeak=0.0, ST_Slope='Flat', HeartDisease=1),\n",
              " Row(Age=55, Sex='M', ChestPainType='NAP', RestingBP=133, Cholesterol=185, FastingBS=0, RestingECG='ST', MaxHR=136, ExerciseAngina='N', Oldpeak=0.2, ST_Slope='Up', HeartDisease=0),\n",
              " Row(Age=55, Sex='M', ChestPainType='ASY', RestingBP=120, Cholesterol=226, FastingBS=0, RestingECG='LVH', MaxHR=127, ExerciseAngina='Y', Oldpeak=1.7, ST_Slope='Down', HeartDisease=1),\n",
              " Row(Age=56, Sex='M', ChestPainType='ASY', RestingBP=130, Cholesterol=203, FastingBS=1, RestingECG='Normal', MaxHR=98, ExerciseAngina='N', Oldpeak=1.5, ST_Slope='Flat', HeartDisease=1),\n",
              " Row(Age=57, Sex='M', ChestPainType='ASY', RestingBP=130, Cholesterol=207, FastingBS=0, RestingECG='ST', MaxHR=96, ExerciseAngina='Y', Oldpeak=1.0, ST_Slope='Flat', HeartDisease=0),\n",
              " Row(Age=61, Sex='M', ChestPainType='NAP', RestingBP=140, Cholesterol=284, FastingBS=0, RestingECG='Normal', MaxHR=123, ExerciseAngina='Y', Oldpeak=1.3, ST_Slope='Flat', HeartDisease=1),\n",
              " Row(Age=61, Sex='M', ChestPainType='NAP', RestingBP=120, Cholesterol=337, FastingBS=0, RestingECG='Normal', MaxHR=98, ExerciseAngina='Y', Oldpeak=0.0, ST_Slope='Flat', HeartDisease=1),\n",
              " Row(Age=74, Sex='M', ChestPainType='ASY', RestingBP=155, Cholesterol=310, FastingBS=0, RestingECG='Normal', MaxHR=112, ExerciseAngina='Y', Oldpeak=1.5, ST_Slope='Down', HeartDisease=1),\n",
              " Row(Age=68, Sex='M', ChestPainType='NAP', RestingBP=134, Cholesterol=254, FastingBS=1, RestingECG='Normal', MaxHR=151, ExerciseAngina='Y', Oldpeak=0.0, ST_Slope='Up', HeartDisease=0),\n",
              " Row(Age=51, Sex='F', ChestPainType='ASY', RestingBP=114, Cholesterol=258, FastingBS=1, RestingECG='LVH', MaxHR=96, ExerciseAngina='N', Oldpeak=1.0, ST_Slope='Up', HeartDisease=0),\n",
              " Row(Age=62, Sex='M', ChestPainType='ASY', RestingBP=160, Cholesterol=254, FastingBS=1, RestingECG='ST', MaxHR=108, ExerciseAngina='Y', Oldpeak=3.0, ST_Slope='Flat', HeartDisease=1),\n",
              " Row(Age=53, Sex='M', ChestPainType='ASY', RestingBP=144, Cholesterol=300, FastingBS=1, RestingECG='ST', MaxHR=128, ExerciseAngina='Y', Oldpeak=1.5, ST_Slope='Flat', HeartDisease=1),\n",
              " Row(Age=62, Sex='M', ChestPainType='ASY', RestingBP=158, Cholesterol=170, FastingBS=0, RestingECG='ST', MaxHR=138, ExerciseAngina='Y', Oldpeak=0.0, ST_Slope='Flat', HeartDisease=1),\n",
              " Row(Age=46, Sex='M', ChestPainType='ASY', RestingBP=134, Cholesterol=310, FastingBS=0, RestingECG='Normal', MaxHR=126, ExerciseAngina='N', Oldpeak=0.0, ST_Slope='Flat', HeartDisease=1),\n",
              " Row(Age=54, Sex='F', ChestPainType='ASY', RestingBP=127, Cholesterol=333, FastingBS=1, RestingECG='ST', MaxHR=154, ExerciseAngina='N', Oldpeak=0.0, ST_Slope='Flat', HeartDisease=1),\n",
              " Row(Age=62, Sex='M', ChestPainType='TA', RestingBP=135, Cholesterol=139, FastingBS=0, RestingECG='ST', MaxHR=137, ExerciseAngina='N', Oldpeak=0.2, ST_Slope='Up', HeartDisease=0),\n",
              " Row(Age=55, Sex='M', ChestPainType='ASY', RestingBP=122, Cholesterol=223, FastingBS=1, RestingECG='ST', MaxHR=100, ExerciseAngina='N', Oldpeak=0.0, ST_Slope='Flat', HeartDisease=1),\n",
              " Row(Age=58, Sex='M', ChestPainType='ASY', RestingBP=140, Cholesterol=385, FastingBS=1, RestingECG='LVH', MaxHR=135, ExerciseAngina='N', Oldpeak=0.3, ST_Slope='Up', HeartDisease=0),\n",
              " Row(Age=62, Sex='M', ChestPainType='ATA', RestingBP=120, Cholesterol=254, FastingBS=0, RestingECG='LVH', MaxHR=93, ExerciseAngina='Y', Oldpeak=0.0, ST_Slope='Flat', HeartDisease=1),\n",
              " Row(Age=70, Sex='M', ChestPainType='ASY', RestingBP=130, Cholesterol=322, FastingBS=0, RestingECG='LVH', MaxHR=109, ExerciseAngina='N', Oldpeak=2.4, ST_Slope='Flat', HeartDisease=1),\n",
              " Row(Age=67, Sex='F', ChestPainType='NAP', RestingBP=115, Cholesterol=564, FastingBS=0, RestingECG='LVH', MaxHR=160, ExerciseAngina='N', Oldpeak=1.6, ST_Slope='Flat', HeartDisease=0),\n",
              " Row(Age=57, Sex='M', ChestPainType='ATA', RestingBP=124, Cholesterol=261, FastingBS=0, RestingECG='Normal', MaxHR=141, ExerciseAngina='N', Oldpeak=0.3, ST_Slope='Up', HeartDisease=1),\n",
              " Row(Age=64, Sex='M', ChestPainType='ASY', RestingBP=128, Cholesterol=263, FastingBS=0, RestingECG='Normal', MaxHR=105, ExerciseAngina='Y', Oldpeak=0.2, ST_Slope='Flat', HeartDisease=0),\n",
              " Row(Age=74, Sex='F', ChestPainType='ATA', RestingBP=120, Cholesterol=269, FastingBS=0, RestingECG='LVH', MaxHR=121, ExerciseAngina='Y', Oldpeak=0.2, ST_Slope='Up', HeartDisease=0),\n",
              " Row(Age=65, Sex='M', ChestPainType='ASY', RestingBP=120, Cholesterol=177, FastingBS=0, RestingECG='Normal', MaxHR=140, ExerciseAngina='N', Oldpeak=0.4, ST_Slope='Up', HeartDisease=0),\n",
              " Row(Age=56, Sex='M', ChestPainType='NAP', RestingBP=130, Cholesterol=256, FastingBS=1, RestingECG='LVH', MaxHR=142, ExerciseAngina='Y', Oldpeak=0.6, ST_Slope='Flat', HeartDisease=1),\n",
              " Row(Age=59, Sex='M', ChestPainType='ASY', RestingBP=110, Cholesterol=239, FastingBS=0, RestingECG='LVH', MaxHR=142, ExerciseAngina='Y', Oldpeak=1.2, ST_Slope='Flat', HeartDisease=1),\n",
              " Row(Age=60, Sex='M', ChestPainType='ASY', RestingBP=140, Cholesterol=293, FastingBS=0, RestingECG='LVH', MaxHR=170, ExerciseAngina='N', Oldpeak=1.2, ST_Slope='Flat', HeartDisease=1),\n",
              " Row(Age=63, Sex='F', ChestPainType='ASY', RestingBP=150, Cholesterol=407, FastingBS=0, RestingECG='LVH', MaxHR=154, ExerciseAngina='N', Oldpeak=4.0, ST_Slope='Flat', HeartDisease=1),\n",
              " Row(Age=59, Sex='M', ChestPainType='ASY', RestingBP=135, Cholesterol=234, FastingBS=0, RestingECG='Normal', MaxHR=161, ExerciseAngina='N', Oldpeak=0.5, ST_Slope='Flat', HeartDisease=0),\n",
              " Row(Age=53, Sex='M', ChestPainType='ASY', RestingBP=142, Cholesterol=226, FastingBS=0, RestingECG='LVH', MaxHR=111, ExerciseAngina='Y', Oldpeak=0.0, ST_Slope='Up', HeartDisease=0),\n",
              " Row(Age=44, Sex='M', ChestPainType='NAP', RestingBP=140, Cholesterol=235, FastingBS=0, RestingECG='LVH', MaxHR=180, ExerciseAngina='N', Oldpeak=0.0, ST_Slope='Up', HeartDisease=0),\n",
              " Row(Age=61, Sex='M', ChestPainType='TA', RestingBP=134, Cholesterol=234, FastingBS=0, RestingECG='Normal', MaxHR=145, ExerciseAngina='N', Oldpeak=2.6, ST_Slope='Flat', HeartDisease=1),\n",
              " Row(Age=57, Sex='F', ChestPainType='ASY', RestingBP=128, Cholesterol=303, FastingBS=0, RestingECG='LVH', MaxHR=159, ExerciseAngina='N', Oldpeak=0.0, ST_Slope='Up', HeartDisease=0),\n",
              " Row(Age=71, Sex='F', ChestPainType='ASY', RestingBP=112, Cholesterol=149, FastingBS=0, RestingECG='Normal', MaxHR=125, ExerciseAngina='N', Oldpeak=1.6, ST_Slope='Flat', HeartDisease=0),\n",
              " Row(Age=46, Sex='M', ChestPainType='ASY', RestingBP=140, Cholesterol=311, FastingBS=0, RestingECG='Normal', MaxHR=120, ExerciseAngina='Y', Oldpeak=1.8, ST_Slope='Flat', HeartDisease=1),\n",
              " Row(Age=53, Sex='M', ChestPainType='ASY', RestingBP=140, Cholesterol=203, FastingBS=1, RestingECG='LVH', MaxHR=155, ExerciseAngina='Y', Oldpeak=3.1, ST_Slope='Down', HeartDisease=1),\n",
              " Row(Age=64, Sex='M', ChestPainType='TA', RestingBP=110, Cholesterol=211, FastingBS=0, RestingECG='LVH', MaxHR=144, ExerciseAngina='Y', Oldpeak=1.8, ST_Slope='Flat', HeartDisease=0),\n",
              " Row(Age=40, Sex='M', ChestPainType='TA', RestingBP=140, Cholesterol=199, FastingBS=0, RestingECG='Normal', MaxHR=178, ExerciseAngina='Y', Oldpeak=1.4, ST_Slope='Up', HeartDisease=0),\n",
              " Row(Age=67, Sex='M', ChestPainType='ASY', RestingBP=120, Cholesterol=229, FastingBS=0, RestingECG='LVH', MaxHR=129, ExerciseAngina='Y', Oldpeak=2.6, ST_Slope='Flat', HeartDisease=1),\n",
              " Row(Age=48, Sex='M', ChestPainType='ATA', RestingBP=130, Cholesterol=245, FastingBS=0, RestingECG='LVH', MaxHR=180, ExerciseAngina='N', Oldpeak=0.2, ST_Slope='Flat', HeartDisease=0),\n",
              " Row(Age=43, Sex='M', ChestPainType='ASY', RestingBP=115, Cholesterol=303, FastingBS=0, RestingECG='Normal', MaxHR=181, ExerciseAngina='N', Oldpeak=1.2, ST_Slope='Flat', HeartDisease=0),\n",
              " Row(Age=47, Sex='M', ChestPainType='ASY', RestingBP=112, Cholesterol=204, FastingBS=0, RestingECG='Normal', MaxHR=143, ExerciseAngina='N', Oldpeak=0.1, ST_Slope='Up', HeartDisease=0),\n",
              " Row(Age=54, Sex='F', ChestPainType='ATA', RestingBP=132, Cholesterol=288, FastingBS=1, RestingECG='LVH', MaxHR=159, ExerciseAngina='Y', Oldpeak=0.0, ST_Slope='Up', HeartDisease=0),\n",
              " Row(Age=48, Sex='F', ChestPainType='NAP', RestingBP=130, Cholesterol=275, FastingBS=0, RestingECG='Normal', MaxHR=139, ExerciseAngina='N', Oldpeak=0.2, ST_Slope='Up', HeartDisease=0),\n",
              " Row(Age=46, Sex='F', ChestPainType='ASY', RestingBP=138, Cholesterol=243, FastingBS=0, RestingECG='LVH', MaxHR=152, ExerciseAngina='Y', Oldpeak=0.0, ST_Slope='Flat', HeartDisease=0),\n",
              " Row(Age=51, Sex='F', ChestPainType='NAP', RestingBP=120, Cholesterol=295, FastingBS=0, RestingECG='LVH', MaxHR=157, ExerciseAngina='N', Oldpeak=0.6, ST_Slope='Up', HeartDisease=0),\n",
              " Row(Age=58, Sex='M', ChestPainType='NAP', RestingBP=112, Cholesterol=230, FastingBS=0, RestingECG='LVH', MaxHR=165, ExerciseAngina='N', Oldpeak=2.5, ST_Slope='Flat', HeartDisease=1),\n",
              " Row(Age=71, Sex='F', ChestPainType='NAP', RestingBP=110, Cholesterol=265, FastingBS=1, RestingECG='LVH', MaxHR=130, ExerciseAngina='N', Oldpeak=0.0, ST_Slope='Up', HeartDisease=0),\n",
              " Row(Age=57, Sex='M', ChestPainType='NAP', RestingBP=128, Cholesterol=229, FastingBS=0, RestingECG='LVH', MaxHR=150, ExerciseAngina='N', Oldpeak=0.4, ST_Slope='Flat', HeartDisease=1),\n",
              " Row(Age=66, Sex='M', ChestPainType='ASY', RestingBP=160, Cholesterol=228, FastingBS=0, RestingECG='LVH', MaxHR=138, ExerciseAngina='N', Oldpeak=2.3, ST_Slope='Up', HeartDisease=0),\n",
              " Row(Age=37, Sex='F', ChestPainType='NAP', RestingBP=120, Cholesterol=215, FastingBS=0, RestingECG='Normal', MaxHR=170, ExerciseAngina='N', Oldpeak=0.0, ST_Slope='Up', HeartDisease=0),\n",
              " Row(Age=59, Sex='M', ChestPainType='ASY', RestingBP=170, Cholesterol=326, FastingBS=0, RestingECG='LVH', MaxHR=140, ExerciseAngina='Y', Oldpeak=3.4, ST_Slope='Down', HeartDisease=1),\n",
              " Row(Age=50, Sex='M', ChestPainType='ASY', RestingBP=144, Cholesterol=200, FastingBS=0, RestingECG='LVH', MaxHR=126, ExerciseAngina='Y', Oldpeak=0.9, ST_Slope='Flat', HeartDisease=1),\n",
              " Row(Age=48, Sex='M', ChestPainType='ASY', RestingBP=130, Cholesterol=256, FastingBS=1, RestingECG='LVH', MaxHR=150, ExerciseAngina='Y', Oldpeak=0.0, ST_Slope='Up', HeartDisease=1),\n",
              " Row(Age=61, Sex='M', ChestPainType='ASY', RestingBP=140, Cholesterol=207, FastingBS=0, RestingECG='LVH', MaxHR=138, ExerciseAngina='Y', Oldpeak=1.9, ST_Slope='Up', HeartDisease=1),\n",
              " Row(Age=59, Sex='M', ChestPainType='TA', RestingBP=160, Cholesterol=273, FastingBS=0, RestingECG='LVH', MaxHR=125, ExerciseAngina='N', Oldpeak=0.0, ST_Slope='Up', HeartDisease=1),\n",
              " Row(Age=42, Sex='M', ChestPainType='NAP', RestingBP=130, Cholesterol=180, FastingBS=0, RestingECG='Normal', MaxHR=150, ExerciseAngina='N', Oldpeak=0.0, ST_Slope='Up', HeartDisease=0),\n",
              " Row(Age=48, Sex='M', ChestPainType='ASY', RestingBP=122, Cholesterol=222, FastingBS=0, RestingECG='LVH', MaxHR=186, ExerciseAngina='N', Oldpeak=0.0, ST_Slope='Up', HeartDisease=0),\n",
              " Row(Age=40, Sex='M', ChestPainType='ASY', RestingBP=152, Cholesterol=223, FastingBS=0, RestingECG='Normal', MaxHR=181, ExerciseAngina='N', Oldpeak=0.0, ST_Slope='Up', HeartDisease=1),\n",
              " Row(Age=62, Sex='F', ChestPainType='ASY', RestingBP=124, Cholesterol=209, FastingBS=0, RestingECG='Normal', MaxHR=163, ExerciseAngina='N', Oldpeak=0.0, ST_Slope='Up', HeartDisease=0),\n",
              " Row(Age=44, Sex='M', ChestPainType='NAP', RestingBP=130, Cholesterol=233, FastingBS=0, RestingECG='Normal', MaxHR=179, ExerciseAngina='Y', Oldpeak=0.4, ST_Slope='Up', HeartDisease=0),\n",
              " Row(Age=46, Sex='M', ChestPainType='ATA', RestingBP=101, Cholesterol=197, FastingBS=1, RestingECG='Normal', MaxHR=156, ExerciseAngina='N', Oldpeak=0.0, ST_Slope='Up', HeartDisease=0),\n",
              " Row(Age=59, Sex='M', ChestPainType='NAP', RestingBP=126, Cholesterol=218, FastingBS=1, RestingECG='Normal', MaxHR=134, ExerciseAngina='N', Oldpeak=2.2, ST_Slope='Flat', HeartDisease=1),\n",
              " Row(Age=58, Sex='M', ChestPainType='NAP', RestingBP=140, Cholesterol=211, FastingBS=1, RestingECG='LVH', MaxHR=165, ExerciseAngina='N', Oldpeak=0.0, ST_Slope='Up', HeartDisease=0),\n",
              " Row(Age=49, Sex='M', ChestPainType='NAP', RestingBP=118, Cholesterol=149, FastingBS=0, RestingECG='LVH', MaxHR=126, ExerciseAngina='N', Oldpeak=0.8, ST_Slope='Up', HeartDisease=1),\n",
              " Row(Age=44, Sex='M', ChestPainType='ASY', RestingBP=110, Cholesterol=197, FastingBS=0, RestingECG='LVH', MaxHR=177, ExerciseAngina='N', Oldpeak=0.0, ST_Slope='Up', HeartDisease=1),\n",
              " Row(Age=66, Sex='M', ChestPainType='ATA', RestingBP=160, Cholesterol=246, FastingBS=0, RestingECG='Normal', MaxHR=120, ExerciseAngina='Y', Oldpeak=0.0, ST_Slope='Flat', HeartDisease=1),\n",
              " Row(Age=65, Sex='F', ChestPainType='ASY', RestingBP=150, Cholesterol=225, FastingBS=0, RestingECG='LVH', MaxHR=114, ExerciseAngina='N', Oldpeak=1.0, ST_Slope='Flat', HeartDisease=1),\n",
              " Row(Age=42, Sex='M', ChestPainType='ASY', RestingBP=136, Cholesterol=315, FastingBS=0, RestingECG='Normal', MaxHR=125, ExerciseAngina='Y', Oldpeak=1.8, ST_Slope='Flat', HeartDisease=1),\n",
              " Row(Age=52, Sex='M', ChestPainType='ATA', RestingBP=128, Cholesterol=205, FastingBS=1, RestingECG='Normal', MaxHR=184, ExerciseAngina='N', Oldpeak=0.0, ST_Slope='Up', HeartDisease=0),\n",
              " Row(Age=65, Sex='F', ChestPainType='NAP', RestingBP=140, Cholesterol=417, FastingBS=1, RestingECG='LVH', MaxHR=157, ExerciseAngina='N', Oldpeak=0.8, ST_Slope='Up', HeartDisease=0),\n",
              " Row(Age=63, Sex='F', ChestPainType='ATA', RestingBP=140, Cholesterol=195, FastingBS=0, RestingECG='Normal', MaxHR=179, ExerciseAngina='N', Oldpeak=0.0, ST_Slope='Up', HeartDisease=0),\n",
              " Row(Age=45, Sex='F', ChestPainType='ATA', RestingBP=130, Cholesterol=234, FastingBS=0, RestingECG='LVH', MaxHR=175, ExerciseAngina='N', Oldpeak=0.6, ST_Slope='Flat', HeartDisease=0),\n",
              " Row(Age=41, Sex='F', ChestPainType='ATA', RestingBP=105, Cholesterol=198, FastingBS=0, RestingECG='Normal', MaxHR=168, ExerciseAngina='N', Oldpeak=0.0, ST_Slope='Up', HeartDisease=0),\n",
              " Row(Age=61, Sex='M', ChestPainType='ASY', RestingBP=138, Cholesterol=166, FastingBS=0, RestingECG='LVH', MaxHR=125, ExerciseAngina='Y', Oldpeak=3.6, ST_Slope='Flat', HeartDisease=1),\n",
              " Row(Age=60, Sex='F', ChestPainType='NAP', RestingBP=120, Cholesterol=178, FastingBS=1, RestingECG='Normal', MaxHR=96, ExerciseAngina='N', Oldpeak=0.0, ST_Slope='Up', HeartDisease=0),\n",
              " Row(Age=59, Sex='F', ChestPainType='ASY', RestingBP=174, Cholesterol=249, FastingBS=0, RestingECG='Normal', MaxHR=143, ExerciseAngina='Y', Oldpeak=0.0, ST_Slope='Flat', HeartDisease=1),\n",
              " Row(Age=62, Sex='M', ChestPainType='ATA', RestingBP=120, Cholesterol=281, FastingBS=0, RestingECG='LVH', MaxHR=103, ExerciseAngina='N', Oldpeak=1.4, ST_Slope='Flat', HeartDisease=1),\n",
              " Row(Age=57, Sex='M', ChestPainType='NAP', RestingBP=150, Cholesterol=126, FastingBS=1, RestingECG='Normal', MaxHR=173, ExerciseAngina='N', Oldpeak=0.2, ST_Slope='Up', HeartDisease=0),\n",
              " Row(Age=51, Sex='F', ChestPainType='ASY', RestingBP=130, Cholesterol=305, FastingBS=0, RestingECG='Normal', MaxHR=142, ExerciseAngina='Y', Oldpeak=1.2, ST_Slope='Flat', HeartDisease=1),\n",
              " Row(Age=44, Sex='M', ChestPainType='NAP', RestingBP=120, Cholesterol=226, FastingBS=0, RestingECG='Normal', MaxHR=169, ExerciseAngina='N', Oldpeak=0.0, ST_Slope='Up', HeartDisease=0),\n",
              " Row(Age=60, Sex='F', ChestPainType='TA', RestingBP=150, Cholesterol=240, FastingBS=0, RestingECG='Normal', MaxHR=171, ExerciseAngina='N', Oldpeak=0.9, ST_Slope='Up', HeartDisease=0),\n",
              " Row(Age=63, Sex='M', ChestPainType='TA', RestingBP=145, Cholesterol=233, FastingBS=1, RestingECG='LVH', MaxHR=150, ExerciseAngina='N', Oldpeak=2.3, ST_Slope='Down', HeartDisease=0),\n",
              " Row(Age=57, Sex='M', ChestPainType='ASY', RestingBP=150, Cholesterol=276, FastingBS=0, RestingECG='LVH', MaxHR=112, ExerciseAngina='Y', Oldpeak=0.6, ST_Slope='Flat', HeartDisease=1),\n",
              " Row(Age=51, Sex='M', ChestPainType='ASY', RestingBP=140, Cholesterol=261, FastingBS=0, RestingECG='LVH', MaxHR=186, ExerciseAngina='Y', Oldpeak=0.0, ST_Slope='Up', HeartDisease=0),\n",
              " Row(Age=58, Sex='F', ChestPainType='ATA', RestingBP=136, Cholesterol=319, FastingBS=1, RestingECG='LVH', MaxHR=152, ExerciseAngina='N', Oldpeak=0.0, ST_Slope='Up', HeartDisease=1),\n",
              " Row(Age=44, Sex='F', ChestPainType='NAP', RestingBP=118, Cholesterol=242, FastingBS=0, RestingECG='Normal', MaxHR=149, ExerciseAngina='N', Oldpeak=0.3, ST_Slope='Flat', HeartDisease=0),\n",
              " Row(Age=47, Sex='M', ChestPainType='NAP', RestingBP=108, Cholesterol=243, FastingBS=0, RestingECG='Normal', MaxHR=152, ExerciseAngina='N', Oldpeak=0.0, ST_Slope='Up', HeartDisease=1),\n",
              " Row(Age=61, Sex='M', ChestPainType='ASY', RestingBP=120, Cholesterol=260, FastingBS=0, RestingECG='Normal', MaxHR=140, ExerciseAngina='Y', Oldpeak=3.6, ST_Slope='Flat', HeartDisease=1),\n",
              " Row(Age=57, Sex='F', ChestPainType='ASY', RestingBP=120, Cholesterol=354, FastingBS=0, RestingECG='Normal', MaxHR=163, ExerciseAngina='Y', Oldpeak=0.6, ST_Slope='Up', HeartDisease=0),\n",
              " Row(Age=70, Sex='M', ChestPainType='ATA', RestingBP=156, Cholesterol=245, FastingBS=0, RestingECG='LVH', MaxHR=143, ExerciseAngina='N', Oldpeak=0.0, ST_Slope='Up', HeartDisease=0),\n",
              " Row(Age=76, Sex='F', ChestPainType='NAP', RestingBP=140, Cholesterol=197, FastingBS=0, RestingECG='ST', MaxHR=116, ExerciseAngina='N', Oldpeak=1.1, ST_Slope='Flat', HeartDisease=0),\n",
              " Row(Age=67, Sex='F', ChestPainType='ASY', RestingBP=106, Cholesterol=223, FastingBS=0, RestingECG='Normal', MaxHR=142, ExerciseAngina='N', Oldpeak=0.3, ST_Slope='Up', HeartDisease=0),\n",
              " Row(Age=45, Sex='M', ChestPainType='ASY', RestingBP=142, Cholesterol=309, FastingBS=0, RestingECG='LVH', MaxHR=147, ExerciseAngina='Y', Oldpeak=0.0, ST_Slope='Flat', HeartDisease=1),\n",
              " Row(Age=45, Sex='M', ChestPainType='ASY', RestingBP=104, Cholesterol=208, FastingBS=0, RestingECG='LVH', MaxHR=148, ExerciseAngina='Y', Oldpeak=3.0, ST_Slope='Flat', HeartDisease=0),\n",
              " Row(Age=39, Sex='F', ChestPainType='NAP', RestingBP=94, Cholesterol=199, FastingBS=0, RestingECG='Normal', MaxHR=179, ExerciseAngina='N', Oldpeak=0.0, ST_Slope='Up', HeartDisease=0),\n",
              " Row(Age=42, Sex='F', ChestPainType='NAP', RestingBP=120, Cholesterol=209, FastingBS=0, RestingECG='Normal', MaxHR=173, ExerciseAngina='N', Oldpeak=0.0, ST_Slope='Flat', HeartDisease=0),\n",
              " Row(Age=56, Sex='M', ChestPainType='ATA', RestingBP=120, Cholesterol=236, FastingBS=0, RestingECG='Normal', MaxHR=178, ExerciseAngina='N', Oldpeak=0.8, ST_Slope='Up', HeartDisease=0),\n",
              " Row(Age=58, Sex='M', ChestPainType='ASY', RestingBP=146, Cholesterol=218, FastingBS=0, RestingECG='Normal', MaxHR=105, ExerciseAngina='N', Oldpeak=2.0, ST_Slope='Flat', HeartDisease=1),\n",
              " Row(Age=35, Sex='M', ChestPainType='ASY', RestingBP=120, Cholesterol=198, FastingBS=0, RestingECG='Normal', MaxHR=130, ExerciseAngina='Y', Oldpeak=1.6, ST_Slope='Flat', HeartDisease=1),\n",
              " Row(Age=58, Sex='M', ChestPainType='ASY', RestingBP=150, Cholesterol=270, FastingBS=0, RestingECG='LVH', MaxHR=111, ExerciseAngina='Y', Oldpeak=0.8, ST_Slope='Up', HeartDisease=1),\n",
              " Row(Age=41, Sex='M', ChestPainType='NAP', RestingBP=130, Cholesterol=214, FastingBS=0, RestingECG='LVH', MaxHR=168, ExerciseAngina='N', Oldpeak=2.0, ST_Slope='Flat', HeartDisease=0),\n",
              " Row(Age=57, Sex='M', ChestPainType='ASY', RestingBP=110, Cholesterol=201, FastingBS=0, RestingECG='Normal', MaxHR=126, ExerciseAngina='Y', Oldpeak=1.5, ST_Slope='Flat', HeartDisease=0),\n",
              " Row(Age=42, Sex='M', ChestPainType='TA', RestingBP=148, Cholesterol=244, FastingBS=0, RestingECG='LVH', MaxHR=178, ExerciseAngina='N', Oldpeak=0.8, ST_Slope='Up', HeartDisease=0),\n",
              " Row(Age=62, Sex='M', ChestPainType='ATA', RestingBP=128, Cholesterol=208, FastingBS=1, RestingECG='LVH', MaxHR=140, ExerciseAngina='N', Oldpeak=0.0, ST_Slope='Up', HeartDisease=0),\n",
              " Row(Age=59, Sex='M', ChestPainType='TA', RestingBP=178, Cholesterol=270, FastingBS=0, RestingECG='LVH', MaxHR=145, ExerciseAngina='N', Oldpeak=4.2, ST_Slope='Down', HeartDisease=0),\n",
              " Row(Age=41, Sex='F', ChestPainType='ATA', RestingBP=126, Cholesterol=306, FastingBS=0, RestingECG='Normal', MaxHR=163, ExerciseAngina='N', Oldpeak=0.0, ST_Slope='Up', HeartDisease=0),\n",
              " Row(Age=50, Sex='M', ChestPainType='ASY', RestingBP=150, Cholesterol=243, FastingBS=0, RestingECG='LVH', MaxHR=128, ExerciseAngina='N', Oldpeak=2.6, ST_Slope='Flat', HeartDisease=1),\n",
              " Row(Age=59, Sex='M', ChestPainType='ATA', RestingBP=140, Cholesterol=221, FastingBS=0, RestingECG='Normal', MaxHR=164, ExerciseAngina='Y', Oldpeak=0.0, ST_Slope='Up', HeartDisease=0),\n",
              " Row(Age=61, Sex='F', ChestPainType='ASY', RestingBP=130, Cholesterol=330, FastingBS=0, RestingECG='LVH', MaxHR=169, ExerciseAngina='N', Oldpeak=0.0, ST_Slope='Up', HeartDisease=1),\n",
              " Row(Age=54, Sex='M', ChestPainType='ASY', RestingBP=124, Cholesterol=266, FastingBS=0, RestingECG='LVH', MaxHR=109, ExerciseAngina='Y', Oldpeak=2.2, ST_Slope='Flat', HeartDisease=1),\n",
              " Row(Age=54, Sex='M', ChestPainType='ASY', RestingBP=110, Cholesterol=206, FastingBS=0, RestingECG='LVH', MaxHR=108, ExerciseAngina='Y', Oldpeak=0.0, ST_Slope='Flat', HeartDisease=1),\n",
              " Row(Age=52, Sex='M', ChestPainType='ASY', RestingBP=125, Cholesterol=212, FastingBS=0, RestingECG='Normal', MaxHR=168, ExerciseAngina='N', Oldpeak=1.0, ST_Slope='Up', HeartDisease=1),\n",
              " Row(Age=47, Sex='M', ChestPainType='ASY', RestingBP=110, Cholesterol=275, FastingBS=0, RestingECG='LVH', MaxHR=118, ExerciseAngina='Y', Oldpeak=1.0, ST_Slope='Flat', HeartDisease=1),\n",
              " Row(Age=66, Sex='M', ChestPainType='ASY', RestingBP=120, Cholesterol=302, FastingBS=0, RestingECG='LVH', MaxHR=151, ExerciseAngina='N', Oldpeak=0.4, ST_Slope='Flat', HeartDisease=0),\n",
              " Row(Age=58, Sex='M', ChestPainType='ASY', RestingBP=100, Cholesterol=234, FastingBS=0, RestingECG='Normal', MaxHR=156, ExerciseAngina='N', Oldpeak=0.1, ST_Slope='Up', HeartDisease=1),\n",
              " Row(Age=64, Sex='F', ChestPainType='NAP', RestingBP=140, Cholesterol=313, FastingBS=0, RestingECG='Normal', MaxHR=133, ExerciseAngina='N', Oldpeak=0.2, ST_Slope='Up', HeartDisease=0),\n",
              " Row(Age=50, Sex='F', ChestPainType='ATA', RestingBP=120, Cholesterol=244, FastingBS=0, RestingECG='Normal', MaxHR=162, ExerciseAngina='N', Oldpeak=1.1, ST_Slope='Up', HeartDisease=0),\n",
              " Row(Age=44, Sex='F', ChestPainType='NAP', RestingBP=108, Cholesterol=141, FastingBS=0, RestingECG='Normal', MaxHR=175, ExerciseAngina='N', Oldpeak=0.6, ST_Slope='Flat', HeartDisease=0),\n",
              " Row(Age=67, Sex='M', ChestPainType='ASY', RestingBP=120, Cholesterol=237, FastingBS=0, RestingECG='Normal', MaxHR=71, ExerciseAngina='N', Oldpeak=1.0, ST_Slope='Flat', HeartDisease=1),\n",
              " Row(Age=49, Sex='F', ChestPainType='ASY', RestingBP=130, Cholesterol=269, FastingBS=0, RestingECG='Normal', MaxHR=163, ExerciseAngina='N', Oldpeak=0.0, ST_Slope='Up', HeartDisease=0),\n",
              " Row(Age=57, Sex='M', ChestPainType='ASY', RestingBP=165, Cholesterol=289, FastingBS=1, RestingECG='LVH', MaxHR=124, ExerciseAngina='N', Oldpeak=1.0, ST_Slope='Flat', HeartDisease=1),\n",
              " Row(Age=63, Sex='M', ChestPainType='ASY', RestingBP=130, Cholesterol=254, FastingBS=0, RestingECG='LVH', MaxHR=147, ExerciseAngina='N', Oldpeak=1.4, ST_Slope='Flat', HeartDisease=1),\n",
              " Row(Age=48, Sex='M', ChestPainType='ASY', RestingBP=124, Cholesterol=274, FastingBS=0, RestingECG='LVH', MaxHR=166, ExerciseAngina='N', Oldpeak=0.5, ST_Slope='Flat', HeartDisease=1),\n",
              " Row(Age=51, Sex='M', ChestPainType='NAP', RestingBP=100, Cholesterol=222, FastingBS=0, RestingECG='Normal', MaxHR=143, ExerciseAngina='Y', Oldpeak=1.2, ST_Slope='Flat', HeartDisease=0),\n",
              " Row(Age=60, Sex='F', ChestPainType='ASY', RestingBP=150, Cholesterol=258, FastingBS=0, RestingECG='LVH', MaxHR=157, ExerciseAngina='N', Oldpeak=2.6, ST_Slope='Flat', HeartDisease=1),\n",
              " Row(Age=59, Sex='M', ChestPainType='ASY', RestingBP=140, Cholesterol=177, FastingBS=0, RestingECG='Normal', MaxHR=162, ExerciseAngina='Y', Oldpeak=0.0, ST_Slope='Up', HeartDisease=1),\n",
              " Row(Age=45, Sex='F', ChestPainType='ATA', RestingBP=112, Cholesterol=160, FastingBS=0, RestingECG='Normal', MaxHR=138, ExerciseAngina='N', Oldpeak=0.0, ST_Slope='Flat', HeartDisease=0),\n",
              " Row(Age=55, Sex='F', ChestPainType='ASY', RestingBP=180, Cholesterol=327, FastingBS=0, RestingECG='ST', MaxHR=117, ExerciseAngina='Y', Oldpeak=3.4, ST_Slope='Flat', HeartDisease=1),\n",
              " Row(Age=41, Sex='M', ChestPainType='ATA', RestingBP=110, Cholesterol=235, FastingBS=0, RestingECG='Normal', MaxHR=153, ExerciseAngina='N', Oldpeak=0.0, ST_Slope='Up', HeartDisease=0),\n",
              " Row(Age=60, Sex='F', ChestPainType='ASY', RestingBP=158, Cholesterol=305, FastingBS=0, RestingECG='LVH', MaxHR=161, ExerciseAngina='N', Oldpeak=0.0, ST_Slope='Up', HeartDisease=1),\n",
              " Row(Age=54, Sex='F', ChestPainType='NAP', RestingBP=135, Cholesterol=304, FastingBS=1, RestingECG='Normal', MaxHR=170, ExerciseAngina='N', Oldpeak=0.0, ST_Slope='Up', HeartDisease=0),\n",
              " Row(Age=42, Sex='M', ChestPainType='ATA', RestingBP=120, Cholesterol=295, FastingBS=0, RestingECG='Normal', MaxHR=162, ExerciseAngina='N', Oldpeak=0.0, ST_Slope='Up', HeartDisease=0),\n",
              " Row(Age=49, Sex='F', ChestPainType='ATA', RestingBP=134, Cholesterol=271, FastingBS=0, RestingECG='Normal', MaxHR=162, ExerciseAngina='N', Oldpeak=0.0, ST_Slope='Flat', HeartDisease=0),\n",
              " Row(Age=46, Sex='M', ChestPainType='ASY', RestingBP=120, Cholesterol=249, FastingBS=0, RestingECG='LVH', MaxHR=144, ExerciseAngina='N', Oldpeak=0.8, ST_Slope='Up', HeartDisease=1),\n",
              " Row(Age=56, Sex='F', ChestPainType='ASY', RestingBP=200, Cholesterol=288, FastingBS=1, RestingECG='LVH', MaxHR=133, ExerciseAngina='Y', Oldpeak=4.0, ST_Slope='Down', HeartDisease=1),\n",
              " Row(Age=66, Sex='F', ChestPainType='TA', RestingBP=150, Cholesterol=226, FastingBS=0, RestingECG='Normal', MaxHR=114, ExerciseAngina='N', Oldpeak=2.6, ST_Slope='Down', HeartDisease=0),\n",
              " Row(Age=56, Sex='M', ChestPainType='ASY', RestingBP=130, Cholesterol=283, FastingBS=1, RestingECG='LVH', MaxHR=103, ExerciseAngina='Y', Oldpeak=1.6, ST_Slope='Down', HeartDisease=1),\n",
              " Row(Age=49, Sex='M', ChestPainType='NAP', RestingBP=120, Cholesterol=188, FastingBS=0, RestingECG='Normal', MaxHR=139, ExerciseAngina='N', Oldpeak=2.0, ST_Slope='Flat', HeartDisease=1),\n",
              " Row(Age=54, Sex='M', ChestPainType='ASY', RestingBP=122, Cholesterol=286, FastingBS=0, RestingECG='LVH', MaxHR=116, ExerciseAngina='Y', Oldpeak=3.2, ST_Slope='Flat', HeartDisease=1),\n",
              " Row(Age=57, Sex='M', ChestPainType='ASY', RestingBP=152, Cholesterol=274, FastingBS=0, RestingECG='Normal', MaxHR=88, ExerciseAngina='Y', Oldpeak=1.2, ST_Slope='Flat', HeartDisease=1),\n",
              " Row(Age=65, Sex='F', ChestPainType='NAP', RestingBP=160, Cholesterol=360, FastingBS=0, RestingECG='LVH', MaxHR=151, ExerciseAngina='N', Oldpeak=0.8, ST_Slope='Up', HeartDisease=0),\n",
              " Row(Age=54, Sex='M', ChestPainType='NAP', RestingBP=125, Cholesterol=273, FastingBS=0, RestingECG='LVH', MaxHR=152, ExerciseAngina='N', Oldpeak=0.5, ST_Slope='Down', HeartDisease=0),\n",
              " Row(Age=54, Sex='F', ChestPainType='NAP', RestingBP=160, Cholesterol=201, FastingBS=0, RestingECG='Normal', MaxHR=163, ExerciseAngina='N', Oldpeak=0.0, ST_Slope='Up', HeartDisease=0),\n",
              " Row(Age=62, Sex='M', ChestPainType='ASY', RestingBP=120, Cholesterol=267, FastingBS=0, RestingECG='Normal', MaxHR=99, ExerciseAngina='Y', Oldpeak=1.8, ST_Slope='Flat', HeartDisease=1),\n",
              " Row(Age=52, Sex='F', ChestPainType='NAP', RestingBP=136, Cholesterol=196, FastingBS=0, RestingECG='LVH', MaxHR=169, ExerciseAngina='N', Oldpeak=0.1, ST_Slope='Flat', HeartDisease=0),\n",
              " Row(Age=52, Sex='M', ChestPainType='ATA', RestingBP=134, Cholesterol=201, FastingBS=0, RestingECG='Normal', MaxHR=158, ExerciseAngina='N', Oldpeak=0.8, ST_Slope='Up', HeartDisease=0),\n",
              " Row(Age=60, Sex='M', ChestPainType='ASY', RestingBP=117, Cholesterol=230, FastingBS=1, RestingECG='Normal', MaxHR=160, ExerciseAngina='Y', Oldpeak=1.4, ST_Slope='Up', HeartDisease=1),\n",
              " Row(Age=63, Sex='F', ChestPainType='ASY', RestingBP=108, Cholesterol=269, FastingBS=0, RestingECG='Normal', MaxHR=169, ExerciseAngina='Y', Oldpeak=1.8, ST_Slope='Flat', HeartDisease=1),\n",
              " Row(Age=66, Sex='M', ChestPainType='ASY', RestingBP=112, Cholesterol=212, FastingBS=0, RestingECG='LVH', MaxHR=132, ExerciseAngina='Y', Oldpeak=0.1, ST_Slope='Up', HeartDisease=1),\n",
              " Row(Age=42, Sex='M', ChestPainType='ASY', RestingBP=140, Cholesterol=226, FastingBS=0, RestingECG='Normal', MaxHR=178, ExerciseAngina='N', Oldpeak=0.0, ST_Slope='Up', HeartDisease=0),\n",
              " Row(Age=64, Sex='M', ChestPainType='ASY', RestingBP=120, Cholesterol=246, FastingBS=0, RestingECG='LVH', MaxHR=96, ExerciseAngina='Y', Oldpeak=2.2, ST_Slope='Down', HeartDisease=1),\n",
              " Row(Age=54, Sex='M', ChestPainType='NAP', RestingBP=150, Cholesterol=232, FastingBS=0, RestingECG='LVH', MaxHR=165, ExerciseAngina='N', Oldpeak=1.6, ST_Slope='Up', HeartDisease=0),\n",
              " Row(Age=46, Sex='F', ChestPainType='NAP', RestingBP=142, Cholesterol=177, FastingBS=0, RestingECG='LVH', MaxHR=160, ExerciseAngina='Y', Oldpeak=1.4, ST_Slope='Down', HeartDisease=0),\n",
              " Row(Age=67, Sex='F', ChestPainType='NAP', RestingBP=152, Cholesterol=277, FastingBS=0, RestingECG='Normal', MaxHR=172, ExerciseAngina='N', Oldpeak=0.0, ST_Slope='Up', HeartDisease=0),\n",
              " Row(Age=56, Sex='M', ChestPainType='ASY', RestingBP=125, Cholesterol=249, FastingBS=1, RestingECG='LVH', MaxHR=144, ExerciseAngina='Y', Oldpeak=1.2, ST_Slope='Flat', HeartDisease=1),\n",
              " Row(Age=34, Sex='F', ChestPainType='ATA', RestingBP=118, Cholesterol=210, FastingBS=0, RestingECG='Normal', MaxHR=192, ExerciseAngina='N', Oldpeak=0.7, ST_Slope='Up', HeartDisease=0),\n",
              " Row(Age=57, Sex='M', ChestPainType='ASY', RestingBP=132, Cholesterol=207, FastingBS=0, RestingECG='Normal', MaxHR=168, ExerciseAngina='Y', Oldpeak=0.0, ST_Slope='Up', HeartDisease=0),\n",
              " Row(Age=64, Sex='M', ChestPainType='ASY', RestingBP=145, Cholesterol=212, FastingBS=0, RestingECG='LVH', MaxHR=132, ExerciseAngina='N', Oldpeak=2.0, ST_Slope='Flat', HeartDisease=1),\n",
              " Row(Age=59, Sex='M', ChestPainType='ASY', RestingBP=138, Cholesterol=271, FastingBS=0, RestingECG='LVH', MaxHR=182, ExerciseAngina='N', Oldpeak=0.0, ST_Slope='Up', HeartDisease=0),\n",
              " Row(Age=50, Sex='M', ChestPainType='NAP', RestingBP=140, Cholesterol=233, FastingBS=0, RestingECG='Normal', MaxHR=163, ExerciseAngina='N', Oldpeak=0.6, ST_Slope='Flat', HeartDisease=1),\n",
              " Row(Age=51, Sex='M', ChestPainType='TA', RestingBP=125, Cholesterol=213, FastingBS=0, RestingECG='LVH', MaxHR=125, ExerciseAngina='Y', Oldpeak=1.4, ST_Slope='Up', HeartDisease=0),\n",
              " Row(Age=54, Sex='M', ChestPainType='ATA', RestingBP=192, Cholesterol=283, FastingBS=0, RestingECG='LVH', MaxHR=195, ExerciseAngina='N', Oldpeak=0.0, ST_Slope='Up', HeartDisease=1),\n",
              " Row(Age=53, Sex='M', ChestPainType='ASY', RestingBP=123, Cholesterol=282, FastingBS=0, RestingECG='Normal', MaxHR=95, ExerciseAngina='Y', Oldpeak=2.0, ST_Slope='Flat', HeartDisease=1),\n",
              " Row(Age=52, Sex='M', ChestPainType='ASY', RestingBP=112, Cholesterol=230, FastingBS=0, RestingECG='Normal', MaxHR=160, ExerciseAngina='N', Oldpeak=0.0, ST_Slope='Up', HeartDisease=1),\n",
              " Row(Age=40, Sex='M', ChestPainType='ASY', RestingBP=110, Cholesterol=167, FastingBS=0, RestingECG='LVH', MaxHR=114, ExerciseAngina='Y', Oldpeak=2.0, ST_Slope='Flat', HeartDisease=1),\n",
              " Row(Age=58, Sex='M', ChestPainType='NAP', RestingBP=132, Cholesterol=224, FastingBS=0, RestingECG='LVH', MaxHR=173, ExerciseAngina='N', Oldpeak=3.2, ST_Slope='Up', HeartDisease=1),\n",
              " Row(Age=41, Sex='F', ChestPainType='NAP', RestingBP=112, Cholesterol=268, FastingBS=0, RestingECG='LVH', MaxHR=172, ExerciseAngina='Y', Oldpeak=0.0, ST_Slope='Up', HeartDisease=0),\n",
              " Row(Age=41, Sex='M', ChestPainType='NAP', RestingBP=112, Cholesterol=250, FastingBS=0, RestingECG='Normal', MaxHR=179, ExerciseAngina='N', Oldpeak=0.0, ST_Slope='Up', HeartDisease=0),\n",
              " Row(Age=50, Sex='F', ChestPainType='NAP', RestingBP=120, Cholesterol=219, FastingBS=0, RestingECG='Normal', MaxHR=158, ExerciseAngina='N', Oldpeak=1.6, ST_Slope='Flat', HeartDisease=0),\n",
              " Row(Age=54, Sex='F', ChestPainType='NAP', RestingBP=108, Cholesterol=267, FastingBS=0, RestingECG='LVH', MaxHR=167, ExerciseAngina='N', Oldpeak=0.0, ST_Slope='Up', HeartDisease=0),\n",
              " Row(Age=64, Sex='F', ChestPainType='ASY', RestingBP=130, Cholesterol=303, FastingBS=0, RestingECG='Normal', MaxHR=122, ExerciseAngina='N', Oldpeak=2.0, ST_Slope='Flat', HeartDisease=0),\n",
              " Row(Age=51, Sex='F', ChestPainType='NAP', RestingBP=130, Cholesterol=256, FastingBS=0, RestingECG='LVH', MaxHR=149, ExerciseAngina='N', Oldpeak=0.5, ST_Slope='Up', HeartDisease=0),\n",
              " Row(Age=46, Sex='F', ChestPainType='ATA', RestingBP=105, Cholesterol=204, FastingBS=0, RestingECG='Normal', MaxHR=172, ExerciseAngina='N', Oldpeak=0.0, ST_Slope='Up', HeartDisease=0),\n",
              " Row(Age=55, Sex='M', ChestPainType='ASY', RestingBP=140, Cholesterol=217, FastingBS=0, RestingECG='Normal', MaxHR=111, ExerciseAngina='Y', Oldpeak=5.6, ST_Slope='Down', HeartDisease=1),\n",
              " Row(Age=45, Sex='M', ChestPainType='ATA', RestingBP=128, Cholesterol=308, FastingBS=0, RestingECG='LVH', MaxHR=170, ExerciseAngina='N', Oldpeak=0.0, ST_Slope='Up', HeartDisease=0),\n",
              " Row(Age=56, Sex='M', ChestPainType='TA', RestingBP=120, Cholesterol=193, FastingBS=0, RestingECG='LVH', MaxHR=162, ExerciseAngina='N', Oldpeak=1.9, ST_Slope='Flat', HeartDisease=0),\n",
              " Row(Age=66, Sex='F', ChestPainType='ASY', RestingBP=178, Cholesterol=228, FastingBS=1, RestingECG='Normal', MaxHR=165, ExerciseAngina='Y', Oldpeak=1.0, ST_Slope='Flat', HeartDisease=1),\n",
              " Row(Age=38, Sex='M', ChestPainType='TA', RestingBP=120, Cholesterol=231, FastingBS=0, RestingECG='Normal', MaxHR=182, ExerciseAngina='Y', Oldpeak=3.8, ST_Slope='Flat', HeartDisease=1),\n",
              " Row(Age=62, Sex='F', ChestPainType='ASY', RestingBP=150, Cholesterol=244, FastingBS=0, RestingECG='Normal', MaxHR=154, ExerciseAngina='Y', Oldpeak=1.4, ST_Slope='Flat', HeartDisease=1),\n",
              " Row(Age=55, Sex='M', ChestPainType='ATA', RestingBP=130, Cholesterol=262, FastingBS=0, RestingECG='Normal', MaxHR=155, ExerciseAngina='N', Oldpeak=0.0, ST_Slope='Up', HeartDisease=0),\n",
              " Row(Age=58, Sex='M', ChestPainType='ASY', RestingBP=128, Cholesterol=259, FastingBS=0, RestingECG='LVH', MaxHR=130, ExerciseAngina='Y', Oldpeak=3.0, ST_Slope='Flat', HeartDisease=1),\n",
              " Row(Age=43, Sex='M', ChestPainType='ASY', RestingBP=110, Cholesterol=211, FastingBS=0, RestingECG='Normal', MaxHR=161, ExerciseAngina='N', Oldpeak=0.0, ST_Slope='Up', HeartDisease=0),\n",
              " Row(Age=64, Sex='F', ChestPainType='ASY', RestingBP=180, Cholesterol=325, FastingBS=0, RestingECG='Normal', MaxHR=154, ExerciseAngina='Y', Oldpeak=0.0, ST_Slope='Up', HeartDisease=0),\n",
              " Row(Age=50, Sex='F', ChestPainType='ASY', RestingBP=110, Cholesterol=254, FastingBS=0, RestingECG='LVH', MaxHR=159, ExerciseAngina='N', Oldpeak=0.0, ST_Slope='Up', HeartDisease=0),\n",
              " Row(Age=53, Sex='M', ChestPainType='NAP', RestingBP=130, Cholesterol=197, FastingBS=1, RestingECG='LVH', MaxHR=152, ExerciseAngina='N', Oldpeak=1.2, ST_Slope='Down', HeartDisease=0),\n",
              " Row(Age=45, Sex='F', ChestPainType='ASY', RestingBP=138, Cholesterol=236, FastingBS=0, RestingECG='LVH', MaxHR=152, ExerciseAngina='Y', Oldpeak=0.2, ST_Slope='Flat', HeartDisease=0),\n",
              " Row(Age=65, Sex='M', ChestPainType='TA', RestingBP=138, Cholesterol=282, FastingBS=1, RestingECG='LVH', MaxHR=174, ExerciseAngina='N', Oldpeak=1.4, ST_Slope='Flat', HeartDisease=1),\n",
              " Row(Age=69, Sex='M', ChestPainType='TA', RestingBP=160, Cholesterol=234, FastingBS=1, RestingECG='LVH', MaxHR=131, ExerciseAngina='N', Oldpeak=0.1, ST_Slope='Flat', HeartDisease=0),\n",
              " Row(Age=69, Sex='M', ChestPainType='NAP', RestingBP=140, Cholesterol=254, FastingBS=0, RestingECG='LVH', MaxHR=146, ExerciseAngina='N', Oldpeak=2.0, ST_Slope='Flat', HeartDisease=1),\n",
              " Row(Age=67, Sex='M', ChestPainType='ASY', RestingBP=100, Cholesterol=299, FastingBS=0, RestingECG='LVH', MaxHR=125, ExerciseAngina='Y', Oldpeak=0.9, ST_Slope='Flat', HeartDisease=1),\n",
              " Row(Age=68, Sex='F', ChestPainType='NAP', RestingBP=120, Cholesterol=211, FastingBS=0, RestingECG='LVH', MaxHR=115, ExerciseAngina='N', Oldpeak=1.5, ST_Slope='Flat', HeartDisease=0),\n",
              " Row(Age=34, Sex='M', ChestPainType='TA', RestingBP=118, Cholesterol=182, FastingBS=0, RestingECG='LVH', MaxHR=174, ExerciseAngina='N', Oldpeak=0.0, ST_Slope='Up', HeartDisease=0),\n",
              " Row(Age=62, Sex='F', ChestPainType='ASY', RestingBP=138, Cholesterol=294, FastingBS=1, RestingECG='Normal', MaxHR=106, ExerciseAngina='N', Oldpeak=1.9, ST_Slope='Flat', HeartDisease=1),\n",
              " Row(Age=51, Sex='M', ChestPainType='ASY', RestingBP=140, Cholesterol=298, FastingBS=0, RestingECG='Normal', MaxHR=122, ExerciseAngina='Y', Oldpeak=4.2, ST_Slope='Flat', HeartDisease=1),\n",
              " Row(Age=46, Sex='M', ChestPainType='NAP', RestingBP=150, Cholesterol=231, FastingBS=0, RestingECG='Normal', MaxHR=147, ExerciseAngina='N', Oldpeak=3.6, ST_Slope='Flat', HeartDisease=1),\n",
              " Row(Age=67, Sex='M', ChestPainType='ASY', RestingBP=125, Cholesterol=254, FastingBS=1, RestingECG='Normal', MaxHR=163, ExerciseAngina='N', Oldpeak=0.2, ST_Slope='Flat', HeartDisease=1),\n",
              " Row(Age=50, Sex='M', ChestPainType='NAP', RestingBP=129, Cholesterol=196, FastingBS=0, RestingECG='Normal', MaxHR=163, ExerciseAngina='N', Oldpeak=0.0, ST_Slope='Up', HeartDisease=0),\n",
              " Row(Age=42, Sex='M', ChestPainType='NAP', RestingBP=120, Cholesterol=240, FastingBS=1, RestingECG='Normal', MaxHR=194, ExerciseAngina='N', Oldpeak=0.8, ST_Slope='Down', HeartDisease=0),\n",
              " Row(Age=56, Sex='F', ChestPainType='ASY', RestingBP=134, Cholesterol=409, FastingBS=0, RestingECG='LVH', MaxHR=150, ExerciseAngina='Y', Oldpeak=1.9, ST_Slope='Flat', HeartDisease=1),\n",
              " Row(Age=41, Sex='M', ChestPainType='ASY', RestingBP=110, Cholesterol=172, FastingBS=0, RestingECG='LVH', MaxHR=158, ExerciseAngina='N', Oldpeak=0.0, ST_Slope='Up', HeartDisease=1),\n",
              " Row(Age=42, Sex='F', ChestPainType='ASY', RestingBP=102, Cholesterol=265, FastingBS=0, RestingECG='LVH', MaxHR=122, ExerciseAngina='N', Oldpeak=0.6, ST_Slope='Flat', HeartDisease=0),\n",
              " Row(Age=53, Sex='M', ChestPainType='NAP', RestingBP=130, Cholesterol=246, FastingBS=1, RestingECG='LVH', MaxHR=173, ExerciseAngina='N', Oldpeak=0.0, ST_Slope='Up', HeartDisease=0),\n",
              " Row(Age=43, Sex='M', ChestPainType='NAP', RestingBP=130, Cholesterol=315, FastingBS=0, RestingECG='Normal', MaxHR=162, ExerciseAngina='N', Oldpeak=1.9, ST_Slope='Up', HeartDisease=0),\n",
              " Row(Age=56, Sex='M', ChestPainType='ASY', RestingBP=132, Cholesterol=184, FastingBS=0, RestingECG='LVH', MaxHR=105, ExerciseAngina='Y', Oldpeak=2.1, ST_Slope='Flat', HeartDisease=1),\n",
              " Row(Age=52, Sex='M', ChestPainType='ASY', RestingBP=108, Cholesterol=233, FastingBS=1, RestingECG='Normal', MaxHR=147, ExerciseAngina='N', Oldpeak=0.1, ST_Slope='Up', HeartDisease=0),\n",
              " Row(Age=62, Sex='F', ChestPainType='ASY', RestingBP=140, Cholesterol=394, FastingBS=0, RestingECG='LVH', MaxHR=157, ExerciseAngina='N', Oldpeak=1.2, ST_Slope='Flat', HeartDisease=0),\n",
              " Row(Age=70, Sex='M', ChestPainType='NAP', RestingBP=160, Cholesterol=269, FastingBS=0, RestingECG='Normal', MaxHR=112, ExerciseAngina='Y', Oldpeak=2.9, ST_Slope='Flat', HeartDisease=1),\n",
              " Row(Age=54, Sex='M', ChestPainType='ASY', RestingBP=140, Cholesterol=239, FastingBS=0, RestingECG='Normal', MaxHR=160, ExerciseAngina='N', Oldpeak=1.2, ST_Slope='Up', HeartDisease=0),\n",
              " Row(Age=70, Sex='M', ChestPainType='ASY', RestingBP=145, Cholesterol=174, FastingBS=0, RestingECG='Normal', MaxHR=125, ExerciseAngina='Y', Oldpeak=2.6, ST_Slope='Down', HeartDisease=1),\n",
              " Row(Age=54, Sex='M', ChestPainType='ATA', RestingBP=108, Cholesterol=309, FastingBS=0, RestingECG='Normal', MaxHR=156, ExerciseAngina='N', Oldpeak=0.0, ST_Slope='Up', HeartDisease=0),\n",
              " Row(Age=35, Sex='M', ChestPainType='ASY', RestingBP=126, Cholesterol=282, FastingBS=0, RestingECG='LVH', MaxHR=156, ExerciseAngina='Y', Oldpeak=0.0, ST_Slope='Up', HeartDisease=1),\n",
              " Row(Age=48, Sex='M', ChestPainType='NAP', RestingBP=124, Cholesterol=255, FastingBS=1, RestingECG='Normal', MaxHR=175, ExerciseAngina='N', Oldpeak=0.0, ST_Slope='Up', HeartDisease=0),\n",
              " Row(Age=55, Sex='F', ChestPainType='ATA', RestingBP=135, Cholesterol=250, FastingBS=0, RestingECG='LVH', MaxHR=161, ExerciseAngina='N', Oldpeak=1.4, ST_Slope='Flat', HeartDisease=0),\n",
              " Row(Age=58, Sex='F', ChestPainType='ASY', RestingBP=100, Cholesterol=248, FastingBS=0, RestingECG='LVH', MaxHR=122, ExerciseAngina='N', Oldpeak=1.0, ST_Slope='Flat', HeartDisease=0),\n",
              " Row(Age=54, Sex='F', ChestPainType='NAP', RestingBP=110, Cholesterol=214, FastingBS=0, RestingECG='Normal', MaxHR=158, ExerciseAngina='N', Oldpeak=1.6, ST_Slope='Flat', HeartDisease=0),\n",
              " Row(Age=69, Sex='F', ChestPainType='TA', RestingBP=140, Cholesterol=239, FastingBS=0, RestingECG='Normal', MaxHR=151, ExerciseAngina='N', Oldpeak=1.8, ST_Slope='Up', HeartDisease=0),\n",
              " Row(Age=77, Sex='M', ChestPainType='ASY', RestingBP=125, Cholesterol=304, FastingBS=0, RestingECG='LVH', MaxHR=162, ExerciseAngina='Y', Oldpeak=0.0, ST_Slope='Up', HeartDisease=1),\n",
              " Row(Age=68, Sex='M', ChestPainType='NAP', RestingBP=118, Cholesterol=277, FastingBS=0, RestingECG='Normal', MaxHR=151, ExerciseAngina='N', Oldpeak=1.0, ST_Slope='Up', HeartDisease=0),\n",
              " Row(Age=58, Sex='M', ChestPainType='ASY', RestingBP=125, Cholesterol=300, FastingBS=0, RestingECG='LVH', MaxHR=171, ExerciseAngina='N', Oldpeak=0.0, ST_Slope='Up', HeartDisease=1),\n",
              " Row(Age=60, Sex='M', ChestPainType='ASY', RestingBP=125, Cholesterol=258, FastingBS=0, RestingECG='LVH', MaxHR=141, ExerciseAngina='Y', Oldpeak=2.8, ST_Slope='Flat', HeartDisease=1),\n",
              " Row(Age=51, Sex='M', ChestPainType='ASY', RestingBP=140, Cholesterol=299, FastingBS=0, RestingECG='Normal', MaxHR=173, ExerciseAngina='Y', Oldpeak=1.6, ST_Slope='Up', HeartDisease=1),\n",
              " Row(Age=55, Sex='M', ChestPainType='ASY', RestingBP=160, Cholesterol=289, FastingBS=0, RestingECG='LVH', MaxHR=145, ExerciseAngina='Y', Oldpeak=0.8, ST_Slope='Flat', HeartDisease=1),\n",
              " Row(Age=52, Sex='M', ChestPainType='TA', RestingBP=152, Cholesterol=298, FastingBS=1, RestingECG='Normal', MaxHR=178, ExerciseAngina='N', Oldpeak=1.2, ST_Slope='Flat', HeartDisease=0),\n",
              " Row(Age=60, Sex='F', ChestPainType='NAP', RestingBP=102, Cholesterol=318, FastingBS=0, RestingECG='Normal', MaxHR=160, ExerciseAngina='N', Oldpeak=0.0, ST_Slope='Up', HeartDisease=0),\n",
              " Row(Age=58, Sex='M', ChestPainType='NAP', RestingBP=105, Cholesterol=240, FastingBS=0, RestingECG='LVH', MaxHR=154, ExerciseAngina='Y', Oldpeak=0.6, ST_Slope='Flat', HeartDisease=0),\n",
              " Row(Age=64, Sex='M', ChestPainType='NAP', RestingBP=125, Cholesterol=309, FastingBS=0, RestingECG='Normal', MaxHR=131, ExerciseAngina='Y', Oldpeak=1.8, ST_Slope='Flat', HeartDisease=1),\n",
              " Row(Age=37, Sex='M', ChestPainType='NAP', RestingBP=130, Cholesterol=250, FastingBS=0, RestingECG='Normal', MaxHR=187, ExerciseAngina='N', Oldpeak=3.5, ST_Slope='Down', HeartDisease=0),\n",
              " Row(Age=59, Sex='M', ChestPainType='TA', RestingBP=170, Cholesterol=288, FastingBS=0, RestingECG='LVH', MaxHR=159, ExerciseAngina='N', Oldpeak=0.2, ST_Slope='Flat', HeartDisease=1),\n",
              " Row(Age=51, Sex='M', ChestPainType='NAP', RestingBP=125, Cholesterol=245, FastingBS=1, RestingECG='LVH', MaxHR=166, ExerciseAngina='N', Oldpeak=2.4, ST_Slope='Flat', HeartDisease=0),\n",
              " Row(Age=43, Sex='F', ChestPainType='NAP', RestingBP=122, Cholesterol=213, FastingBS=0, RestingECG='Normal', MaxHR=165, ExerciseAngina='N', Oldpeak=0.2, ST_Slope='Flat', HeartDisease=0),\n",
              " Row(Age=58, Sex='M', ChestPainType='ASY', RestingBP=128, Cholesterol=216, FastingBS=0, RestingECG='LVH', MaxHR=131, ExerciseAngina='Y', Oldpeak=2.2, ST_Slope='Flat', HeartDisease=1),\n",
              " Row(Age=29, Sex='M', ChestPainType='ATA', RestingBP=130, Cholesterol=204, FastingBS=0, RestingECG='LVH', MaxHR=202, ExerciseAngina='N', Oldpeak=0.0, ST_Slope='Up', HeartDisease=0),\n",
              " Row(Age=41, Sex='F', ChestPainType='ATA', RestingBP=130, Cholesterol=204, FastingBS=0, RestingECG='LVH', MaxHR=172, ExerciseAngina='N', Oldpeak=1.4, ST_Slope='Up', HeartDisease=0),\n",
              " Row(Age=63, Sex='F', ChestPainType='NAP', RestingBP=135, Cholesterol=252, FastingBS=0, RestingECG='LVH', MaxHR=172, ExerciseAngina='N', Oldpeak=0.0, ST_Slope='Up', HeartDisease=0),\n",
              " Row(Age=51, Sex='M', ChestPainType='NAP', RestingBP=94, Cholesterol=227, FastingBS=0, RestingECG='Normal', MaxHR=154, ExerciseAngina='Y', Oldpeak=0.0, ST_Slope='Up', HeartDisease=0),\n",
              " Row(Age=54, Sex='M', ChestPainType='NAP', RestingBP=120, Cholesterol=258, FastingBS=0, RestingECG='LVH', MaxHR=147, ExerciseAngina='N', Oldpeak=0.4, ST_Slope='Flat', HeartDisease=0),\n",
              " Row(Age=44, Sex='M', ChestPainType='ATA', RestingBP=120, Cholesterol=220, FastingBS=0, RestingECG='Normal', MaxHR=170, ExerciseAngina='N', Oldpeak=0.0, ST_Slope='Up', HeartDisease=0),\n",
              " Row(Age=54, Sex='M', ChestPainType='ASY', RestingBP=110, Cholesterol=239, FastingBS=0, RestingECG='Normal', MaxHR=126, ExerciseAngina='Y', Oldpeak=2.8, ST_Slope='Flat', HeartDisease=1),\n",
              " Row(Age=65, Sex='M', ChestPainType='ASY', RestingBP=135, Cholesterol=254, FastingBS=0, RestingECG='LVH', MaxHR=127, ExerciseAngina='N', Oldpeak=2.8, ST_Slope='Flat', HeartDisease=1),\n",
              " Row(Age=57, Sex='M', ChestPainType='NAP', RestingBP=150, Cholesterol=168, FastingBS=0, RestingECG='Normal', MaxHR=174, ExerciseAngina='N', Oldpeak=1.6, ST_Slope='Up', HeartDisease=0),\n",
              " Row(Age=63, Sex='M', ChestPainType='ASY', RestingBP=130, Cholesterol=330, FastingBS=1, RestingECG='LVH', MaxHR=132, ExerciseAngina='Y', Oldpeak=1.8, ST_Slope='Up', HeartDisease=1),\n",
              " Row(Age=35, Sex='F', ChestPainType='ASY', RestingBP=138, Cholesterol=183, FastingBS=0, RestingECG='Normal', MaxHR=182, ExerciseAngina='N', Oldpeak=1.4, ST_Slope='Up', HeartDisease=0),\n",
              " Row(Age=41, Sex='M', ChestPainType='ATA', RestingBP=135, Cholesterol=203, FastingBS=0, RestingECG='Normal', MaxHR=132, ExerciseAngina='N', Oldpeak=0.0, ST_Slope='Flat', HeartDisease=0),\n",
              " Row(Age=62, Sex='F', ChestPainType='NAP', RestingBP=130, Cholesterol=263, FastingBS=0, RestingECG='Normal', MaxHR=97, ExerciseAngina='N', Oldpeak=1.2, ST_Slope='Flat', HeartDisease=1),\n",
              " Row(Age=43, Sex='F', ChestPainType='ASY', RestingBP=132, Cholesterol=341, FastingBS=1, RestingECG='LVH', MaxHR=136, ExerciseAngina='Y', Oldpeak=3.0, ST_Slope='Flat', HeartDisease=1),\n",
              " Row(Age=58, Sex='F', ChestPainType='TA', RestingBP=150, Cholesterol=283, FastingBS=1, RestingECG='LVH', MaxHR=162, ExerciseAngina='N', Oldpeak=1.0, ST_Slope='Up', HeartDisease=0),\n",
              " Row(Age=52, Sex='M', ChestPainType='TA', RestingBP=118, Cholesterol=186, FastingBS=0, RestingECG='LVH', MaxHR=190, ExerciseAngina='N', Oldpeak=0.0, ST_Slope='Flat', HeartDisease=0),\n",
              " Row(Age=61, Sex='F', ChestPainType='ASY', RestingBP=145, Cholesterol=307, FastingBS=0, RestingECG='LVH', MaxHR=146, ExerciseAngina='Y', Oldpeak=1.0, ST_Slope='Flat', HeartDisease=1),\n",
              " Row(Age=39, Sex='M', ChestPainType='ASY', RestingBP=118, Cholesterol=219, FastingBS=0, RestingECG='Normal', MaxHR=140, ExerciseAngina='N', Oldpeak=1.2, ST_Slope='Flat', HeartDisease=1),\n",
              " Row(Age=45, Sex='M', ChestPainType='ASY', RestingBP=115, Cholesterol=260, FastingBS=0, RestingECG='LVH', MaxHR=185, ExerciseAngina='N', Oldpeak=0.0, ST_Slope='Up', HeartDisease=0),\n",
              " Row(Age=52, Sex='M', ChestPainType='ASY', RestingBP=128, Cholesterol=255, FastingBS=0, RestingECG='Normal', MaxHR=161, ExerciseAngina='Y', Oldpeak=0.0, ST_Slope='Up', HeartDisease=1),\n",
              " Row(Age=62, Sex='M', ChestPainType='NAP', RestingBP=130, Cholesterol=231, FastingBS=0, RestingECG='Normal', MaxHR=146, ExerciseAngina='N', Oldpeak=1.8, ST_Slope='Flat', HeartDisease=0),\n",
              " Row(Age=62, Sex='F', ChestPainType='ASY', RestingBP=160, Cholesterol=164, FastingBS=0, RestingECG='LVH', MaxHR=145, ExerciseAngina='N', Oldpeak=6.2, ST_Slope='Down', HeartDisease=1),\n",
              " Row(Age=53, Sex='F', ChestPainType='ASY', RestingBP=138, Cholesterol=234, FastingBS=0, RestingECG='LVH', MaxHR=160, ExerciseAngina='N', Oldpeak=0.0, ST_Slope='Up', HeartDisease=0),\n",
              " Row(Age=43, Sex='M', ChestPainType='ASY', RestingBP=120, Cholesterol=177, FastingBS=0, RestingECG='LVH', MaxHR=120, ExerciseAngina='Y', Oldpeak=2.5, ST_Slope='Flat', HeartDisease=1),\n",
              " Row(Age=47, Sex='M', ChestPainType='NAP', RestingBP=138, Cholesterol=257, FastingBS=0, RestingECG='LVH', MaxHR=156, ExerciseAngina='N', Oldpeak=0.0, ST_Slope='Up', HeartDisease=0),\n",
              " Row(Age=52, Sex='M', ChestPainType='ATA', RestingBP=120, Cholesterol=325, FastingBS=0, RestingECG='Normal', MaxHR=172, ExerciseAngina='N', Oldpeak=0.2, ST_Slope='Up', HeartDisease=0),\n",
              " Row(Age=68, Sex='M', ChestPainType='NAP', RestingBP=180, Cholesterol=274, FastingBS=1, RestingECG='LVH', MaxHR=150, ExerciseAngina='Y', Oldpeak=1.6, ST_Slope='Flat', HeartDisease=1),\n",
              " Row(Age=39, Sex='M', ChestPainType='NAP', RestingBP=140, Cholesterol=321, FastingBS=0, RestingECG='LVH', MaxHR=182, ExerciseAngina='N', Oldpeak=0.0, ST_Slope='Up', HeartDisease=0),\n",
              " Row(Age=53, Sex='F', ChestPainType='ASY', RestingBP=130, Cholesterol=264, FastingBS=0, RestingECG='LVH', MaxHR=143, ExerciseAngina='N', Oldpeak=0.4, ST_Slope='Flat', HeartDisease=0),\n",
              " Row(Age=62, Sex='F', ChestPainType='ASY', RestingBP=140, Cholesterol=268, FastingBS=0, RestingECG='LVH', MaxHR=160, ExerciseAngina='N', Oldpeak=3.6, ST_Slope='Down', HeartDisease=1),\n",
              " Row(Age=51, Sex='F', ChestPainType='NAP', RestingBP=140, Cholesterol=308, FastingBS=0, RestingECG='LVH', MaxHR=142, ExerciseAngina='N', Oldpeak=1.5, ST_Slope='Up', HeartDisease=0),\n",
              " Row(Age=60, Sex='M', ChestPainType='ASY', RestingBP=130, Cholesterol=253, FastingBS=0, RestingECG='Normal', MaxHR=144, ExerciseAngina='Y', Oldpeak=1.4, ST_Slope='Up', HeartDisease=1),\n",
              " Row(Age=65, Sex='M', ChestPainType='ASY', RestingBP=110, Cholesterol=248, FastingBS=0, RestingECG='LVH', MaxHR=158, ExerciseAngina='N', Oldpeak=0.6, ST_Slope='Up', HeartDisease=1),\n",
              " Row(Age=65, Sex='F', ChestPainType='NAP', RestingBP=155, Cholesterol=269, FastingBS=0, RestingECG='Normal', MaxHR=148, ExerciseAngina='N', Oldpeak=0.8, ST_Slope='Up', HeartDisease=0),\n",
              " Row(Age=60, Sex='M', ChestPainType='NAP', RestingBP=140, Cholesterol=185, FastingBS=0, RestingECG='LVH', MaxHR=155, ExerciseAngina='N', Oldpeak=3.0, ST_Slope='Flat', HeartDisease=1),\n",
              " Row(Age=60, Sex='M', ChestPainType='ASY', RestingBP=145, Cholesterol=282, FastingBS=0, RestingECG='LVH', MaxHR=142, ExerciseAngina='Y', Oldpeak=2.8, ST_Slope='Flat', HeartDisease=1),\n",
              " Row(Age=54, Sex='M', ChestPainType='ASY', RestingBP=120, Cholesterol=188, FastingBS=0, RestingECG='Normal', MaxHR=113, ExerciseAngina='N', Oldpeak=1.4, ST_Slope='Flat', HeartDisease=1),\n",
              " Row(Age=44, Sex='M', ChestPainType='ATA', RestingBP=130, Cholesterol=219, FastingBS=0, RestingECG='LVH', MaxHR=188, ExerciseAngina='N', Oldpeak=0.0, ST_Slope='Up', HeartDisease=0),\n",
              " Row(Age=44, Sex='M', ChestPainType='ASY', RestingBP=112, Cholesterol=290, FastingBS=0, RestingECG='LVH', MaxHR=153, ExerciseAngina='N', Oldpeak=0.0, ST_Slope='Up', HeartDisease=1),\n",
              " Row(Age=51, Sex='M', ChestPainType='NAP', RestingBP=110, Cholesterol=175, FastingBS=0, RestingECG='Normal', MaxHR=123, ExerciseAngina='N', Oldpeak=0.6, ST_Slope='Up', HeartDisease=0),\n",
              " Row(Age=59, Sex='M', ChestPainType='NAP', RestingBP=150, Cholesterol=212, FastingBS=1, RestingECG='Normal', MaxHR=157, ExerciseAngina='N', Oldpeak=1.6, ST_Slope='Up', HeartDisease=0),\n",
              " Row(Age=71, Sex='F', ChestPainType='ATA', RestingBP=160, Cholesterol=302, FastingBS=0, RestingECG='Normal', MaxHR=162, ExerciseAngina='N', Oldpeak=0.4, ST_Slope='Up', HeartDisease=0),\n",
              " Row(Age=61, Sex='M', ChestPainType='NAP', RestingBP=150, Cholesterol=243, FastingBS=1, RestingECG='Normal', MaxHR=137, ExerciseAngina='Y', Oldpeak=1.0, ST_Slope='Flat', HeartDisease=0),\n",
              " Row(Age=55, Sex='M', ChestPainType='ASY', RestingBP=132, Cholesterol=353, FastingBS=0, RestingECG='Normal', MaxHR=132, ExerciseAngina='Y', Oldpeak=1.2, ST_Slope='Flat', HeartDisease=1),\n",
              " Row(Age=64, Sex='M', ChestPainType='NAP', RestingBP=140, Cholesterol=335, FastingBS=0, RestingECG='Normal', MaxHR=158, ExerciseAngina='N', Oldpeak=0.0, ST_Slope='Up', HeartDisease=1),\n",
              " Row(Age=43, Sex='M', ChestPainType='ASY', RestingBP=150, Cholesterol=247, FastingBS=0, RestingECG='Normal', MaxHR=171, ExerciseAngina='N', Oldpeak=1.5, ST_Slope='Up', HeartDisease=0),\n",
              " Row(Age=58, Sex='F', ChestPainType='NAP', RestingBP=120, Cholesterol=340, FastingBS=0, RestingECG='Normal', MaxHR=172, ExerciseAngina='N', Oldpeak=0.0, ST_Slope='Up', HeartDisease=0),\n",
              " Row(Age=60, Sex='M', ChestPainType='ASY', RestingBP=130, Cholesterol=206, FastingBS=0, RestingECG='LVH', MaxHR=132, ExerciseAngina='Y', Oldpeak=2.4, ST_Slope='Flat', HeartDisease=1),\n",
              " Row(Age=58, Sex='M', ChestPainType='ATA', RestingBP=120, Cholesterol=284, FastingBS=0, RestingECG='LVH', MaxHR=160, ExerciseAngina='N', Oldpeak=1.8, ST_Slope='Flat', HeartDisease=1),\n",
              " Row(Age=49, Sex='M', ChestPainType='ATA', RestingBP=130, Cholesterol=266, FastingBS=0, RestingECG='Normal', MaxHR=171, ExerciseAngina='N', Oldpeak=0.6, ST_Slope='Up', HeartDisease=0),\n",
              " Row(Age=48, Sex='M', ChestPainType='ATA', RestingBP=110, Cholesterol=229, FastingBS=0, RestingECG='Normal', MaxHR=168, ExerciseAngina='N', Oldpeak=1.0, ST_Slope='Down', HeartDisease=1),\n",
              " Row(Age=52, Sex='M', ChestPainType='NAP', RestingBP=172, Cholesterol=199, FastingBS=1, RestingECG='Normal', MaxHR=162, ExerciseAngina='N', Oldpeak=0.5, ST_Slope='Up', HeartDisease=0),\n",
              " Row(Age=44, Sex='M', ChestPainType='ATA', RestingBP=120, Cholesterol=263, FastingBS=0, RestingECG='Normal', MaxHR=173, ExerciseAngina='N', Oldpeak=0.0, ST_Slope='Up', HeartDisease=0),\n",
              " Row(Age=56, Sex='F', ChestPainType='ATA', RestingBP=140, Cholesterol=294, FastingBS=0, RestingECG='LVH', MaxHR=153, ExerciseAngina='N', Oldpeak=1.3, ST_Slope='Flat', HeartDisease=0),\n",
              " Row(Age=57, Sex='M', ChestPainType='ASY', RestingBP=140, Cholesterol=192, FastingBS=0, RestingECG='Normal', MaxHR=148, ExerciseAngina='N', Oldpeak=0.4, ST_Slope='Flat', HeartDisease=0),\n",
              " Row(Age=67, Sex='M', ChestPainType='ASY', RestingBP=160, Cholesterol=286, FastingBS=0, RestingECG='LVH', MaxHR=108, ExerciseAngina='Y', Oldpeak=1.5, ST_Slope='Flat', HeartDisease=1),\n",
              " Row(Age=53, Sex='F', ChestPainType='NAP', RestingBP=128, Cholesterol=216, FastingBS=0, RestingECG='LVH', MaxHR=115, ExerciseAngina='N', Oldpeak=0.0, ST_Slope='Up', HeartDisease=0),\n",
              " Row(Age=52, Sex='M', ChestPainType='NAP', RestingBP=138, Cholesterol=223, FastingBS=0, RestingECG='Normal', MaxHR=169, ExerciseAngina='N', Oldpeak=0.0, ST_Slope='Up', HeartDisease=0),\n",
              " Row(Age=43, Sex='M', ChestPainType='ASY', RestingBP=132, Cholesterol=247, FastingBS=1, RestingECG='LVH', MaxHR=143, ExerciseAngina='Y', Oldpeak=0.1, ST_Slope='Flat', HeartDisease=1),\n",
              " Row(Age=52, Sex='M', ChestPainType='ASY', RestingBP=128, Cholesterol=204, FastingBS=1, RestingECG='Normal', MaxHR=156, ExerciseAngina='Y', Oldpeak=1.0, ST_Slope='Flat', HeartDisease=1),\n",
              " Row(Age=59, Sex='M', ChestPainType='TA', RestingBP=134, Cholesterol=204, FastingBS=0, RestingECG='Normal', MaxHR=162, ExerciseAngina='N', Oldpeak=0.8, ST_Slope='Up', HeartDisease=1),\n",
              " Row(Age=64, Sex='M', ChestPainType='TA', RestingBP=170, Cholesterol=227, FastingBS=0, RestingECG='LVH', MaxHR=155, ExerciseAngina='N', Oldpeak=0.6, ST_Slope='Flat', HeartDisease=0),\n",
              " Row(Age=66, Sex='F', ChestPainType='NAP', RestingBP=146, Cholesterol=278, FastingBS=0, RestingECG='LVH', MaxHR=152, ExerciseAngina='N', Oldpeak=0.0, ST_Slope='Flat', HeartDisease=0),\n",
              " Row(Age=39, Sex='F', ChestPainType='NAP', RestingBP=138, Cholesterol=220, FastingBS=0, RestingECG='Normal', MaxHR=152, ExerciseAngina='N', Oldpeak=0.0, ST_Slope='Flat', HeartDisease=0),\n",
              " Row(Age=57, Sex='M', ChestPainType='ATA', RestingBP=154, Cholesterol=232, FastingBS=0, RestingECG='LVH', MaxHR=164, ExerciseAngina='N', Oldpeak=0.0, ST_Slope='Up', HeartDisease=1),\n",
              " Row(Age=58, Sex='F', ChestPainType='ASY', RestingBP=130, Cholesterol=197, FastingBS=0, RestingECG='Normal', MaxHR=131, ExerciseAngina='N', Oldpeak=0.6, ST_Slope='Flat', HeartDisease=0),\n",
              " Row(Age=57, Sex='M', ChestPainType='ASY', RestingBP=110, Cholesterol=335, FastingBS=0, RestingECG='Normal', MaxHR=143, ExerciseAngina='Y', Oldpeak=3.0, ST_Slope='Flat', HeartDisease=1),\n",
              " Row(Age=47, Sex='M', ChestPainType='NAP', RestingBP=130, Cholesterol=253, FastingBS=0, RestingECG='Normal', MaxHR=179, ExerciseAngina='N', Oldpeak=0.0, ST_Slope='Up', HeartDisease=0),\n",
              " Row(Age=55, Sex='F', ChestPainType='ASY', RestingBP=128, Cholesterol=205, FastingBS=0, RestingECG='ST', MaxHR=130, ExerciseAngina='Y', Oldpeak=2.0, ST_Slope='Flat', HeartDisease=1),\n",
              " Row(Age=35, Sex='M', ChestPainType='ATA', RestingBP=122, Cholesterol=192, FastingBS=0, RestingECG='Normal', MaxHR=174, ExerciseAngina='N', Oldpeak=0.0, ST_Slope='Up', HeartDisease=0),\n",
              " Row(Age=61, Sex='M', ChestPainType='ASY', RestingBP=148, Cholesterol=203, FastingBS=0, RestingECG='Normal', MaxHR=161, ExerciseAngina='N', Oldpeak=0.0, ST_Slope='Up', HeartDisease=1),\n",
              " Row(Age=58, Sex='M', ChestPainType='ASY', RestingBP=114, Cholesterol=318, FastingBS=0, RestingECG='ST', MaxHR=140, ExerciseAngina='N', Oldpeak=4.4, ST_Slope='Down', HeartDisease=1),\n",
              " Row(Age=58, Sex='F', ChestPainType='ASY', RestingBP=170, Cholesterol=225, FastingBS=1, RestingECG='LVH', MaxHR=146, ExerciseAngina='Y', Oldpeak=2.8, ST_Slope='Flat', HeartDisease=1),\n",
              " Row(Age=58, Sex='M', ChestPainType='ATA', RestingBP=125, Cholesterol=220, FastingBS=0, RestingECG='Normal', MaxHR=144, ExerciseAngina='N', Oldpeak=0.4, ST_Slope='Flat', HeartDisease=0),\n",
              " Row(Age=56, Sex='M', ChestPainType='ATA', RestingBP=130, Cholesterol=221, FastingBS=0, RestingECG='LVH', MaxHR=163, ExerciseAngina='N', Oldpeak=0.0, ST_Slope='Up', HeartDisease=0),\n",
              " Row(Age=56, Sex='M', ChestPainType='ATA', RestingBP=120, Cholesterol=240, FastingBS=0, RestingECG='Normal', MaxHR=169, ExerciseAngina='N', Oldpeak=0.0, ST_Slope='Down', HeartDisease=0),\n",
              " Row(Age=67, Sex='M', ChestPainType='NAP', RestingBP=152, Cholesterol=212, FastingBS=0, RestingECG='LVH', MaxHR=150, ExerciseAngina='N', Oldpeak=0.8, ST_Slope='Flat', HeartDisease=1),\n",
              " Row(Age=55, Sex='F', ChestPainType='ATA', RestingBP=132, Cholesterol=342, FastingBS=0, RestingECG='Normal', MaxHR=166, ExerciseAngina='N', Oldpeak=1.2, ST_Slope='Up', HeartDisease=0),\n",
              " Row(Age=44, Sex='M', ChestPainType='ASY', RestingBP=120, Cholesterol=169, FastingBS=0, RestingECG='Normal', MaxHR=144, ExerciseAngina='Y', Oldpeak=2.8, ST_Slope='Down', HeartDisease=1),\n",
              " Row(Age=63, Sex='M', ChestPainType='ASY', RestingBP=140, Cholesterol=187, FastingBS=0, RestingECG='LVH', MaxHR=144, ExerciseAngina='Y', Oldpeak=4.0, ST_Slope='Up', HeartDisease=1),\n",
              " Row(Age=63, Sex='F', ChestPainType='ASY', RestingBP=124, Cholesterol=197, FastingBS=0, RestingECG='Normal', MaxHR=136, ExerciseAngina='Y', Oldpeak=0.0, ST_Slope='Flat', HeartDisease=1),\n",
              " Row(Age=41, Sex='M', ChestPainType='ATA', RestingBP=120, Cholesterol=157, FastingBS=0, RestingECG='Normal', MaxHR=182, ExerciseAngina='N', Oldpeak=0.0, ST_Slope='Up', HeartDisease=0),\n",
              " Row(Age=59, Sex='M', ChestPainType='ASY', RestingBP=164, Cholesterol=176, FastingBS=1, RestingECG='LVH', MaxHR=90, ExerciseAngina='N', Oldpeak=1.0, ST_Slope='Flat', HeartDisease=1),\n",
              " Row(Age=57, Sex='F', ChestPainType='ASY', RestingBP=140, Cholesterol=241, FastingBS=0, RestingECG='Normal', MaxHR=123, ExerciseAngina='Y', Oldpeak=0.2, ST_Slope='Flat', HeartDisease=1),\n",
              " Row(Age=45, Sex='M', ChestPainType='TA', RestingBP=110, Cholesterol=264, FastingBS=0, RestingECG='Normal', MaxHR=132, ExerciseAngina='N', Oldpeak=1.2, ST_Slope='Flat', HeartDisease=1),\n",
              " Row(Age=68, Sex='M', ChestPainType='ASY', RestingBP=144, Cholesterol=193, FastingBS=1, RestingECG='Normal', MaxHR=141, ExerciseAngina='N', Oldpeak=3.4, ST_Slope='Flat', HeartDisease=1),\n",
              " Row(Age=57, Sex='M', ChestPainType='ASY', RestingBP=130, Cholesterol=131, FastingBS=0, RestingECG='Normal', MaxHR=115, ExerciseAngina='Y', Oldpeak=1.2, ST_Slope='Flat', HeartDisease=1),\n",
              " Row(Age=57, Sex='F', ChestPainType='ATA', RestingBP=130, Cholesterol=236, FastingBS=0, RestingECG='LVH', MaxHR=174, ExerciseAngina='N', Oldpeak=0.0, ST_Slope='Flat', HeartDisease=1),\n",
              " Row(Age=38, Sex='M', ChestPainType='NAP', RestingBP=138, Cholesterol=175, FastingBS=0, RestingECG='Normal', MaxHR=173, ExerciseAngina='N', Oldpeak=0.0, ST_Slope='Up', HeartDisease=0)]"
            ]
          },
          "metadata": {},
          "execution_count": 10
        }
      ]
    },
    {
      "cell_type": "code",
      "source": [
        "import pandas as pd"
      ],
      "metadata": {
        "id": "zTuPW4OWPaGy"
      },
      "execution_count": null,
      "outputs": []
    },
    {
      "cell_type": "code",
      "source": [
        "print(type(df))"
      ],
      "metadata": {
        "colab": {
          "base_uri": "https://localhost:8080/"
        },
        "id": "4AjimVJoOMk5",
        "outputId": "f4d06803-4012-46bb-a781-1feca980da28"
      },
      "execution_count": null,
      "outputs": [
        {
          "output_type": "stream",
          "name": "stdout",
          "text": [
            "<class 'pyspark.sql.dataframe.DataFrame'>\n"
          ]
        }
      ]
    },
    {
      "cell_type": "code",
      "source": [
        "pd_df = df.toPandas()\n",
        "\n",
        "spark_df = spark.createDataFrame(pd_df)\n",
        "\n",
        "print(type(pd_df))\n",
        "print(type(spark_df))"
      ],
      "metadata": {
        "colab": {
          "base_uri": "https://localhost:8080/"
        },
        "id": "UNyqMrXsLviN",
        "outputId": "d1d97461-c095-4ce2-a58d-8b6f2bcb6c73"
      },
      "execution_count": null,
      "outputs": [
        {
          "output_type": "stream",
          "name": "stdout",
          "text": [
            "<class 'pandas.core.frame.DataFrame'>\n",
            "<class 'pyspark.sql.dataframe.DataFrame'>\n"
          ]
        }
      ]
    },
    {
      "cell_type": "code",
      "source": [
        "print(type(df))"
      ],
      "metadata": {
        "colab": {
          "base_uri": "https://localhost:8080/"
        },
        "id": "7z5qzAf0MWli",
        "outputId": "59d73573-25c6-4f35-963c-9f8c9988ba3f"
      },
      "execution_count": null,
      "outputs": [
        {
          "output_type": "stream",
          "name": "stdout",
          "text": [
            "<class 'pyspark.sql.dataframe.DataFrame'>\n"
          ]
        }
      ]
    },
    {
      "cell_type": "code",
      "source": [
        "# Visualizar mi df\n",
        "\n",
        "df.head(3)"
      ],
      "metadata": {
        "colab": {
          "base_uri": "https://localhost:8080/"
        },
        "id": "ywEA2m1lLvmK",
        "outputId": "ebe85b6f-9e6b-4ea1-a2a6-de8f5870fb18"
      },
      "execution_count": null,
      "outputs": [
        {
          "output_type": "execute_result",
          "data": {
            "text/plain": [
              "[Row(Age=40, Sex='M', ChestPainType='ATA', RestingBP=140, Cholesterol=289, FastingBS=0, RestingECG='Normal', MaxHR=172, ExerciseAngina='N', Oldpeak=0.0, ST_Slope='Up', HeartDisease=0),\n",
              " Row(Age=49, Sex='F', ChestPainType='NAP', RestingBP=160, Cholesterol=180, FastingBS=0, RestingECG='Normal', MaxHR=156, ExerciseAngina='N', Oldpeak=1.0, ST_Slope='Flat', HeartDisease=1),\n",
              " Row(Age=37, Sex='M', ChestPainType='ATA', RestingBP=130, Cholesterol=283, FastingBS=0, RestingECG='ST', MaxHR=98, ExerciseAngina='N', Oldpeak=0.0, ST_Slope='Up', HeartDisease=0)]"
            ]
          },
          "metadata": {},
          "execution_count": 5
        }
      ]
    },
    {
      "cell_type": "code",
      "source": [
        "df.printSchema()"
      ],
      "metadata": {
        "colab": {
          "base_uri": "https://localhost:8080/"
        },
        "id": "bYzQ2g33LvpX",
        "outputId": "8b536c8f-f2ec-4010-f16c-0a6f2caa4b46"
      },
      "execution_count": null,
      "outputs": [
        {
          "output_type": "stream",
          "name": "stdout",
          "text": [
            "root\n",
            " |-- Age: integer (nullable = true)\n",
            " |-- Sex: string (nullable = true)\n",
            " |-- ChestPainType: string (nullable = true)\n",
            " |-- RestingBP: integer (nullable = true)\n",
            " |-- Cholesterol: integer (nullable = true)\n",
            " |-- FastingBS: integer (nullable = true)\n",
            " |-- RestingECG: string (nullable = true)\n",
            " |-- MaxHR: integer (nullable = true)\n",
            " |-- ExerciseAngina: string (nullable = true)\n",
            " |-- Oldpeak: double (nullable = true)\n",
            " |-- ST_Slope: string (nullable = true)\n",
            " |-- HeartDisease: integer (nullable = true)\n",
            "\n"
          ]
        }
      ]
    },
    {
      "cell_type": "code",
      "source": [
        "df.show(3)"
      ],
      "metadata": {
        "colab": {
          "base_uri": "https://localhost:8080/"
        },
        "id": "_eMQ7dJVPPJs",
        "outputId": "e889069a-d139-4290-c341-d9293de2a896"
      },
      "execution_count": null,
      "outputs": [
        {
          "output_type": "stream",
          "name": "stdout",
          "text": [
            "+---+---+-------------+---------+-----------+---------+----------+-----+--------------+-------+--------+------------+\n",
            "|Age|Sex|ChestPainType|RestingBP|Cholesterol|FastingBS|RestingECG|MaxHR|ExerciseAngina|Oldpeak|ST_Slope|HeartDisease|\n",
            "+---+---+-------------+---------+-----------+---------+----------+-----+--------------+-------+--------+------------+\n",
            "| 40|  M|          ATA|      140|        289|        0|    Normal|  172|             N|    0.0|      Up|           0|\n",
            "| 49|  F|          NAP|      160|        180|        0|    Normal|  156|             N|    1.0|    Flat|           1|\n",
            "| 37|  M|          ATA|      130|        283|        0|        ST|   98|             N|    0.0|      Up|           0|\n",
            "+---+---+-------------+---------+-----------+---------+----------+-----+--------------+-------+--------+------------+\n",
            "only showing top 3 rows\n",
            "\n"
          ]
        }
      ]
    },
    {
      "cell_type": "markdown",
      "source": [
        "### Casting de columnas (cambio de tipo)"
      ],
      "metadata": {
        "id": "sARQqA31R9zz"
      }
    },
    {
      "cell_type": "code",
      "source": [
        "# Casting  de columnas (cambio de tipado)\n",
        "\n",
        "from pyspark.sql.types import FloatType\n",
        "from pyspark.sql.types import IntegerType\n",
        "from pyspark.sql.types import StringType\n",
        "\n",
        "df = df.withColumn('RestingBP', df.RestingBP.cast(FloatType()))\n",
        "\n",
        "df.select('RestingBP').describe().show()"
      ],
      "metadata": {
        "colab": {
          "base_uri": "https://localhost:8080/"
        },
        "id": "AgdUeNVbLvsb",
        "outputId": "c09f53dc-4a7a-4381-8956-19fd36da886d"
      },
      "execution_count": null,
      "outputs": [
        {
          "output_type": "stream",
          "name": "stdout",
          "text": [
            "+-------+------------------+\n",
            "|summary|         RestingBP|\n",
            "+-------+------------------+\n",
            "|  count|               918|\n",
            "|   mean|132.39651416122004|\n",
            "| stddev|18.514154119907808|\n",
            "|    min|               0.0|\n",
            "|    max|             200.0|\n",
            "+-------+------------------+\n",
            "\n"
          ]
        }
      ]
    },
    {
      "cell_type": "code",
      "source": [
        "from pyspark.sql.types import FloatType\n",
        "\n",
        "df = df.withColumn('Oldpeak', df.Oldpeak.cast(FloatType()))\n",
        "\n",
        "df.printSchema()"
      ],
      "metadata": {
        "colab": {
          "base_uri": "https://localhost:8080/"
        },
        "id": "7w2CaYepPoFt",
        "outputId": "2d181560-efa2-4607-d18e-4fcdce4e9a21"
      },
      "execution_count": null,
      "outputs": [
        {
          "output_type": "stream",
          "name": "stdout",
          "text": [
            "root\n",
            " |-- Age: integer (nullable = true)\n",
            " |-- Sex: string (nullable = true)\n",
            " |-- ChestPainType: string (nullable = true)\n",
            " |-- RestingBP: integer (nullable = true)\n",
            " |-- Cholesterol: integer (nullable = true)\n",
            " |-- FastingBS: integer (nullable = true)\n",
            " |-- RestingECG: string (nullable = true)\n",
            " |-- MaxHR: integer (nullable = true)\n",
            " |-- ExerciseAngina: string (nullable = true)\n",
            " |-- Oldpeak: float (nullable = true)\n",
            " |-- ST_Slope: string (nullable = true)\n",
            " |-- HeartDisease: integer (nullable = true)\n",
            "\n"
          ]
        }
      ]
    },
    {
      "cell_type": "code",
      "source": [
        "print(type(df.Sex))\n",
        "print(type(df.select('Sex')))"
      ],
      "metadata": {
        "colab": {
          "base_uri": "https://localhost:8080/"
        },
        "id": "9h-ZCdj8Q6En",
        "outputId": "4e0beb0c-d46b-45da-a9c2-b2edba4ec3b0"
      },
      "execution_count": null,
      "outputs": [
        {
          "output_type": "stream",
          "name": "stdout",
          "text": [
            "<class 'pyspark.sql.column.Column'>\n",
            "<class 'pyspark.sql.dataframe.DataFrame'>\n"
          ]
        }
      ]
    },
    {
      "cell_type": "code",
      "source": [
        "df.describe().show()"
      ],
      "metadata": {
        "colab": {
          "base_uri": "https://localhost:8080/"
        },
        "id": "8TP_Uw7GRQRY",
        "outputId": "484cbcbc-5ffc-4abf-f6ae-0aab9a1492d1"
      },
      "execution_count": null,
      "outputs": [
        {
          "output_type": "stream",
          "name": "stdout",
          "text": [
            "+-------+------------------+----+-------------+------------------+------------------+-------------------+----------+------------------+--------------+------------------+--------+-------------------+\n",
            "|summary|               Age| Sex|ChestPainType|         RestingBP|       Cholesterol|          FastingBS|RestingECG|             MaxHR|ExerciseAngina|           Oldpeak|ST_Slope|       HeartDisease|\n",
            "+-------+------------------+----+-------------+------------------+------------------+-------------------+----------+------------------+--------------+------------------+--------+-------------------+\n",
            "|  count|               918| 918|          918|               918|               918|                918|       918|               918|           918|               918|     918|                918|\n",
            "|   mean|53.510893246187365|NULL|         NULL|132.39651416122004| 198.7995642701525|0.23311546840958605|      NULL|136.80936819172112|          NULL|0.8873638342213787|    NULL| 0.5533769063180828|\n",
            "| stddev|  9.43261650673202|NULL|         NULL|18.514154119907808|109.38414455220345|0.42304562473930296|      NULL| 25.46033413825029|          NULL|1.0665701462440484|    NULL|0.49741373828459706|\n",
            "|    min|                28|   F|          ASY|                 0|                 0|                  0|       LVH|                60|             N|              -2.6|    Down|                  0|\n",
            "|    max|                77|   M|           TA|               200|               603|                  1|        ST|               202|             Y|               6.2|      Up|                  1|\n",
            "+-------+------------------+----+-------------+------------------+------------------+-------------------+----------+------------------+--------------+------------------+--------+-------------------+\n",
            "\n"
          ]
        }
      ]
    },
    {
      "cell_type": "code",
      "source": [
        "df.select('Oldpeak').describe().show()"
      ],
      "metadata": {
        "colab": {
          "base_uri": "https://localhost:8080/"
        },
        "id": "AScr78xgRp_u",
        "outputId": "cb84ff31-a75a-4c3c-bc6e-28016d1743af"
      },
      "execution_count": null,
      "outputs": [
        {
          "output_type": "stream",
          "name": "stdout",
          "text": [
            "+-------+------------------+\n",
            "|summary|           Oldpeak|\n",
            "+-------+------------------+\n",
            "|  count|               918|\n",
            "|   mean|0.8873638342213787|\n",
            "| stddev|1.0665701462440484|\n",
            "|    min|              -2.6|\n",
            "|    max|               6.2|\n",
            "+-------+------------------+\n",
            "\n"
          ]
        }
      ]
    },
    {
      "cell_type": "markdown",
      "source": [
        "### Agregación y eliminación de columnas"
      ],
      "metadata": {
        "id": "mTJIWZSnSEdH"
      }
    },
    {
      "cell_type": "code",
      "source": [
        "# Agregar una columna\n",
        "\n",
        "AgeFixed = df['Age'] + 1\n",
        "df = df.withColumn('AgeFixed', AgeFixed)\n",
        "\n",
        "df.describe().show()"
      ],
      "metadata": {
        "colab": {
          "base_uri": "https://localhost:8080/"
        },
        "id": "-7Oomq9oOJnM",
        "outputId": "16e560b3-a030-4bf2-b243-5abb3e7654a6"
      },
      "execution_count": null,
      "outputs": [
        {
          "output_type": "stream",
          "name": "stdout",
          "text": [
            "+-------+------------------+----+-------------+------------------+------------------+-------------------+----------+------------------+--------------+------------------+--------+-------------------+------------------+\n",
            "|summary|               Age| Sex|ChestPainType|         RestingBP|       Cholesterol|          FastingBS|RestingECG|             MaxHR|ExerciseAngina|           Oldpeak|ST_Slope|       HeartDisease|          AgeFixed|\n",
            "+-------+------------------+----+-------------+------------------+------------------+-------------------+----------+------------------+--------------+------------------+--------+-------------------+------------------+\n",
            "|  count|               918| 918|          918|               918|               918|                918|       918|               918|           918|               918|     918|                918|               918|\n",
            "|   mean|53.510893246187365|NULL|         NULL|132.39651416122004| 198.7995642701525|0.23311546840958605|      NULL|136.80936819172112|          NULL|0.8873638342213787|    NULL| 0.5533769063180828|54.510893246187365|\n",
            "| stddev|  9.43261650673202|NULL|         NULL|18.514154119907808|109.38414455220345|0.42304562473930296|      NULL| 25.46033413825029|          NULL|1.0665701462440484|    NULL|0.49741373828459706|  9.43261650673202|\n",
            "|    min|                28|   F|          ASY|               0.0|                 0|                  0|       LVH|                60|             N|              -2.6|    Down|                  0|                29|\n",
            "|    max|                77|   M|           TA|             200.0|               603|                  1|        ST|               202|             Y|               6.2|      Up|                  1|                78|\n",
            "+-------+------------------+----+-------------+------------------+------------------+-------------------+----------+------------------+--------------+------------------+--------+-------------------+------------------+\n",
            "\n"
          ]
        }
      ]
    },
    {
      "cell_type": "code",
      "source": [
        "# Remoción de columnas\n",
        "\n",
        "df.drop('AgeFixed').show(3)"
      ],
      "metadata": {
        "id": "neH6SoWCPaJ_",
        "colab": {
          "base_uri": "https://localhost:8080/"
        },
        "outputId": "d0e2da49-287e-4267-a9dc-2993df55a640"
      },
      "execution_count": null,
      "outputs": [
        {
          "output_type": "stream",
          "name": "stdout",
          "text": [
            "+---+---+-------------+---------+-----------+---------+----------+-----+--------------+-------+--------+------------+\n",
            "|Age|Sex|ChestPainType|RestingBP|Cholesterol|FastingBS|RestingECG|MaxHR|ExerciseAngina|Oldpeak|ST_Slope|HeartDisease|\n",
            "+---+---+-------------+---------+-----------+---------+----------+-----+--------------+-------+--------+------------+\n",
            "| 40|  M|          ATA|    140.0|        289|        0|    Normal|  172|             N|    0.0|      Up|           0|\n",
            "| 49|  F|          NAP|    160.0|        180|        0|    Normal|  156|             N|    1.0|    Flat|           1|\n",
            "| 37|  M|          ATA|    130.0|        283|        0|        ST|   98|             N|    0.0|      Up|           0|\n",
            "+---+---+-------------+---------+-----------+---------+----------+-----+--------------+-------+--------+------------+\n",
            "only showing top 3 rows\n",
            "\n"
          ]
        }
      ]
    },
    {
      "cell_type": "code",
      "source": [
        "# Renombrar columnas\n",
        "\n",
        "df.withColumnRenamed('Age', 'Edad').select('Edad').show(1)"
      ],
      "metadata": {
        "colab": {
          "base_uri": "https://localhost:8080/"
        },
        "id": "M7XMMnpqN9KB",
        "outputId": "18772514-73fc-4f7f-a366-e55da578b8a0"
      },
      "execution_count": null,
      "outputs": [
        {
          "output_type": "stream",
          "name": "stdout",
          "text": [
            "+----+\n",
            "|Edad|\n",
            "+----+\n",
            "|  40|\n",
            "+----+\n",
            "only showing top 1 row\n",
            "\n"
          ]
        }
      ]
    },
    {
      "cell_type": "code",
      "source": [
        "name_pairs = [('Age', 'Edad'), ('Sex','Sexo')]\n",
        "\n",
        "for old_name, new_name in name_pairs:\n",
        "  df = df.withColumnRenamed(old_name, new_name)\n",
        "\n",
        "df.select(['Edad', 'Sexo']).show(1)"
      ],
      "metadata": {
        "colab": {
          "base_uri": "https://localhost:8080/"
        },
        "id": "th3wnNwJN9N7",
        "outputId": "b1d68c9a-98e4-4a3e-e791-1ba520c1ff69"
      },
      "execution_count": null,
      "outputs": [
        {
          "output_type": "stream",
          "name": "stdout",
          "text": [
            "+----+----+\n",
            "|Edad|Sexo|\n",
            "+----+----+\n",
            "|  40|   M|\n",
            "+----+----+\n",
            "only showing top 1 row\n",
            "\n"
          ]
        }
      ]
    },
    {
      "cell_type": "code",
      "source": [
        "name_original = [('Edad','Age'),('Sexo','Sex')]\n",
        "\n",
        "for i, j in name_original:\n",
        "  df = df.withColumnRenamed(i,j)\n",
        "\n",
        "df.printSchema()"
      ],
      "metadata": {
        "colab": {
          "base_uri": "https://localhost:8080/"
        },
        "id": "vycKqBO2TFCE",
        "outputId": "12732d63-0111-4064-fe38-3a23232a996c"
      },
      "execution_count": null,
      "outputs": [
        {
          "output_type": "stream",
          "name": "stdout",
          "text": [
            "root\n",
            " |-- Age: integer (nullable = true)\n",
            " |-- Sex: string (nullable = true)\n",
            " |-- ChestPainType: string (nullable = true)\n",
            " |-- RestingBP: float (nullable = true)\n",
            " |-- Cholesterol: integer (nullable = true)\n",
            " |-- FastingBS: integer (nullable = true)\n",
            " |-- RestingECG: string (nullable = true)\n",
            " |-- MaxHR: integer (nullable = true)\n",
            " |-- ExerciseAngina: string (nullable = true)\n",
            " |-- Oldpeak: float (nullable = true)\n",
            " |-- ST_Slope: string (nullable = true)\n",
            " |-- HeartDisease: integer (nullable = true)\n",
            " |-- AgeFixed: integer (nullable = true)\n",
            "\n"
          ]
        }
      ]
    },
    {
      "cell_type": "markdown",
      "source": [
        "### Imputación de datos y llenados\n",
        "\n",
        "- Métodos de interpolación\n",
        "- Métodos de imputación simple (media movil, suavización exponencial)\n",
        "- Métodos de imputación compuesta"
      ],
      "metadata": {
        "id": "XqZDIQ0cTvgV"
      }
    },
    {
      "cell_type": "code",
      "source": [
        "# Eliminación de datos nulos o que contienen NA\n",
        "\n",
        "print(f'Registros sin eliminación de datos nulos: {df.count()}')\n",
        "\n",
        "df = df.na.drop()\n",
        "\n",
        "print(f'Registros con eliminación de datos nulos: {df.count()}')\n"
      ],
      "metadata": {
        "colab": {
          "base_uri": "https://localhost:8080/"
        },
        "id": "-7CB_2wGN9Q9",
        "outputId": "f7553e30-b7e6-4708-b4da-797f18b2d326"
      },
      "execution_count": null,
      "outputs": [
        {
          "output_type": "stream",
          "name": "stdout",
          "text": [
            "Registros sin eliminación de datos nulos: 918\n",
            "Registros con eliminación de datos nulos: 918\n"
          ]
        }
      ]
    },
    {
      "cell_type": "code",
      "source": [
        "df.count()"
      ],
      "metadata": {
        "id": "tIXtU7VCN9VD",
        "colab": {
          "base_uri": "https://localhost:8080/"
        },
        "outputId": "9cbb40fe-faae-42df-acda-67b7d61b208b"
      },
      "execution_count": null,
      "outputs": [
        {
          "output_type": "execute_result",
          "data": {
            "text/plain": [
              "918"
            ]
          },
          "metadata": {},
          "execution_count": 34
        }
      ]
    },
    {
      "cell_type": "code",
      "source": [
        "# Eliminación de toda fila o registro con al menos 2 valores NA\n",
        "# df.na.drop(thresh= 2)\n",
        "\n",
        "# Elimninación de toda fila o registro con cualquier valor NA en alguna columna indicada\n",
        "\n",
        "df.na.drop(how = 'any', subset= ['Edad','Sexo'])"
      ],
      "metadata": {
        "colab": {
          "base_uri": "https://localhost:8080/"
        },
        "id": "i9nhOi5kN9X4",
        "outputId": "c87f4920-3680-46ba-ca0a-284f5d9c78cb"
      },
      "execution_count": null,
      "outputs": [
        {
          "output_type": "execute_result",
          "data": {
            "text/plain": [
              "DataFrame[Edad: int, Sexo: string, ChestPainType: string, RestingBP: float, Cholesterol: int, FastingBS: int, RestingECG: string, MaxHR: int, ExerciseAngina: string, Oldpeak: double, ST_Slope: string, HeartDisease: int, AgeFixed: int]"
            ]
          },
          "metadata": {},
          "execution_count": 27
        }
      ]
    },
    {
      "cell_type": "code",
      "source": [
        "# Llenado de datos vacios (imputación de datos)\n",
        "\n",
        "df.na.fill(value = 'Cualquiera', subset = ['Sexo'])"
      ],
      "metadata": {
        "id": "NyecYUgFSPTI"
      },
      "execution_count": null,
      "outputs": []
    },
    {
      "cell_type": "code",
      "source": [
        "# Imputación de datos (media movil)\n",
        "\n",
        "from pyspark.ml.feature import Imputer\n",
        "\n",
        "imptr = Imputer(inputCols = ['Edad', 'RestingBP'],\n",
        "                outputCols = ['Edad', 'RestingBP']).setStrategy('mean') # Puede ser mediana o moda\n",
        "\n",
        "df = imptr.fit(df).transform(df)"
      ],
      "metadata": {
        "id": "dI1HSv1nSrLr"
      },
      "execution_count": null,
      "outputs": []
    },
    {
      "cell_type": "markdown",
      "source": [
        "### Filtrado de la información"
      ],
      "metadata": {
        "id": "1gSmLo-TVXSl"
      }
    },
    {
      "cell_type": "code",
      "source": [
        "# Primera opción de filtrado\n",
        "\n",
        "# df.filter('Age > 50').show()\n",
        "\n",
        "# Segunda opción de filtrado\n",
        "\n",
        "df.where('Age > 50').show()\n",
        "\n",
        "# Tercera opción\n",
        "\n",
        "df.where(df['Age'] > 50).show(3)"
      ],
      "metadata": {
        "id": "_6DHKYN3T3GY",
        "colab": {
          "base_uri": "https://localhost:8080/"
        },
        "outputId": "ee9656c6-a659-47e3-a30b-f644ab1325a6"
      },
      "execution_count": null,
      "outputs": [
        {
          "output_type": "stream",
          "name": "stdout",
          "text": [
            "+---+---+-------------+---------+-----------+---------+----------+-----+--------------+-------+--------+------------+--------+\n",
            "|Age|Sex|ChestPainType|RestingBP|Cholesterol|FastingBS|RestingECG|MaxHR|ExerciseAngina|Oldpeak|ST_Slope|HeartDisease|AgeFixed|\n",
            "+---+---+-------------+---------+-----------+---------+----------+-----+--------------+-------+--------+------------+--------+\n",
            "| 54|  M|          NAP|    150.0|        195|        0|    Normal|  122|             N|    0.0|      Up|           0|      55|\n",
            "| 54|  M|          ATA|    110.0|        208|        0|    Normal|  142|             N|    0.0|      Up|           0|      55|\n",
            "| 58|  M|          ATA|    136.0|        164|        0|        ST|   99|             Y|    2.0|    Flat|           1|      59|\n",
            "+---+---+-------------+---------+-----------+---------+----------+-----+--------------+-------+--------+------------+--------+\n",
            "only showing top 3 rows\n",
            "\n"
          ]
        }
      ]
    },
    {
      "cell_type": "code",
      "source": [
        "# Agreguemos condiciones con operadores lógicos\n",
        "\n",
        "df.where((df['Age'] > 50) & (df['RestingECG'] == 'ST')).show()\n",
        "\n",
        "# Otros operadores lógicos: |, ~"
      ],
      "metadata": {
        "colab": {
          "base_uri": "https://localhost:8080/"
        },
        "id": "SPMjDp4gVT42",
        "outputId": "7f533959-fd1e-45ae-aa6a-75d1c9071ff2"
      },
      "execution_count": null,
      "outputs": [
        {
          "output_type": "stream",
          "name": "stdout",
          "text": [
            "+---+---+-------------+---------+-----------+---------+----------+-----+--------------+-------+--------+------------+\n",
            "|Age|Sex|ChestPainType|RestingBP|Cholesterol|FastingBS|RestingECG|MaxHR|ExerciseAngina|Oldpeak|ST_Slope|HeartDisease|\n",
            "+---+---+-------------+---------+-----------+---------+----------+-----+--------------+-------+--------+------------+\n",
            "| 58|  M|          ATA|      136|        164|        0|        ST|   99|             Y|    2.0|    Flat|           1|\n",
            "| 53|  M|          ASY|      124|        260|        0|        ST|  112|             Y|    3.0|    Flat|           0|\n",
            "| 54|  F|          NAP|      130|        294|        0|        ST|  100|             Y|    0.0|    Flat|           1|\n",
            "| 52|  M|          NAP|      140|        259|        0|        ST|  170|             N|    0.0|      Up|           0|\n",
            "| 58|  M|          NAP|      130|        213|        0|        ST|  140|             N|    0.0|    Flat|           1|\n",
            "| 54|  M|          ASY|      150|        365|        0|        ST|  134|             N|    1.0|      Up|           0|\n",
            "| 52|  M|          ASY|      112|        342|        0|        ST|   96|             Y|    1.0|    Flat|           1|\n",
            "| 52|  M|          ASY|      160|        246|        0|        ST|   82|             Y|    4.0|    Flat|           1|\n",
            "| 57|  M|          ATA|      140|        265|        0|        ST|  145|             Y|    1.0|    Flat|           1|\n",
            "| 65|  M|          ASY|      130|        275|        0|        ST|  115|             Y|    1.0|    Flat|           1|\n",
            "| 59|  F|          ASY|      130|        338|        1|        ST|  130|             Y|    1.5|    Flat|           1|\n",
            "| 56|  M|          ASY|      170|        388|        0|        ST|  122|             Y|    2.0|    Flat|           1|\n",
            "| 56|  M|          ASY|      150|        230|        0|        ST|  124|             Y|    1.5|    Flat|           1|\n",
            "| 61|  F|          ASY|      130|        294|        0|        ST|  120|             Y|    1.0|    Flat|           0|\n",
            "| 54|  M|          ATA|      160|        195|        0|        ST|  130|             N|    1.0|      Up|           0|\n",
            "| 58|  M|          NAP|      160|        211|        1|        ST|   92|             N|    0.0|    Flat|           1|\n",
            "| 53|  M|          ASY|      180|        285|        0|        ST|  120|             Y|    1.5|    Flat|           1|\n",
            "| 56|  F|          NAP|      130|        219|        0|        ST|  164|             N|    0.0|      Up|           0|\n",
            "| 54|  F|          ATA|      140|        309|        0|        ST|  140|             N|    0.0|      Up|           0|\n",
            "| 61|  M|          ASY|      125|        292|        0|        ST|  115|             Y|    0.0|      Up|           0|\n",
            "+---+---+-------------+---------+-----------+---------+----------+-----+--------------+-------+--------+------------+\n",
            "only showing top 20 rows\n",
            "\n"
          ]
        }
      ]
    },
    {
      "cell_type": "code",
      "source": [
        "# Evaluar una expresión de texto (str) dentro de una función o método\n",
        "\n",
        "from pyspark.sql.functions import expr\n",
        "\n",
        "exp = 'Age + 2'\n",
        "df.withColumn('new_col', expr(exp)).select('new_col').show()"
      ],
      "metadata": {
        "id": "JSRRTH8eVT8g",
        "colab": {
          "base_uri": "https://localhost:8080/"
        },
        "outputId": "a1db80bc-9457-46de-e377-c1b9ecd0d2ce"
      },
      "execution_count": null,
      "outputs": [
        {
          "output_type": "stream",
          "name": "stdout",
          "text": [
            "+-------+\n",
            "|new_col|\n",
            "+-------+\n",
            "|     42|\n",
            "|     51|\n",
            "|     39|\n",
            "|     50|\n",
            "|     56|\n",
            "|     41|\n",
            "|     47|\n",
            "|     56|\n",
            "|     39|\n",
            "|     50|\n",
            "|     39|\n",
            "|     60|\n",
            "|     41|\n",
            "|     51|\n",
            "|     44|\n",
            "|     56|\n",
            "|     40|\n",
            "|     45|\n",
            "|     62|\n",
            "|     38|\n",
            "+-------+\n",
            "only showing top 20 rows\n",
            "\n"
          ]
        }
      ]
    },
    {
      "cell_type": "code",
      "source": [
        "# Group by\n",
        "\n",
        "disease_by_age = df.groupBy('Age').mean().select('Age','avg(HeartDisease)')\n",
        "\n",
        "# Ordenemos los valores en forma descendente\n",
        "\n",
        "from pyspark.sql.functions import desc\n",
        "\n",
        "disease_by_age.orderBy(desc('Age')).show(8)\n"
      ],
      "metadata": {
        "colab": {
          "base_uri": "https://localhost:8080/"
        },
        "id": "WHM5cmctYGgQ",
        "outputId": "69c8eb68-521a-494d-897a-d92ef88e7a45"
      },
      "execution_count": null,
      "outputs": [
        {
          "output_type": "stream",
          "name": "stdout",
          "text": [
            "+---+------------------+\n",
            "|Age| avg(HeartDisease)|\n",
            "+---+------------------+\n",
            "| 77|               1.0|\n",
            "| 76|               0.5|\n",
            "| 75|0.6666666666666666|\n",
            "| 74|0.7142857142857143|\n",
            "| 73|               1.0|\n",
            "| 72|              0.75|\n",
            "| 71|               0.4|\n",
            "| 70|0.8571428571428571|\n",
            "+---+------------------+\n",
            "only showing top 8 rows\n",
            "\n"
          ]
        }
      ]
    },
    {
      "cell_type": "code",
      "source": [
        "from pyspark.sql.functions import asc\n",
        "\n",
        "disease_by_age.orderBy(asc('Age')).show(8)\n"
      ],
      "metadata": {
        "id": "ezUpRgmnVT_j",
        "colab": {
          "base_uri": "https://localhost:8080/"
        },
        "outputId": "d5b17564-34d2-4892-befa-dc321a61ff4b"
      },
      "execution_count": null,
      "outputs": [
        {
          "output_type": "stream",
          "name": "stdout",
          "text": [
            "+---+-------------------+\n",
            "|Age|  avg(HeartDisease)|\n",
            "+---+-------------------+\n",
            "| 28|                0.0|\n",
            "| 29|                0.0|\n",
            "| 30|                0.0|\n",
            "| 31|                0.5|\n",
            "| 32|                0.4|\n",
            "| 33|                0.5|\n",
            "| 34| 0.2857142857142857|\n",
            "| 35|0.36363636363636365|\n",
            "+---+-------------------+\n",
            "only showing top 8 rows\n",
            "\n"
          ]
        }
      ]
    },
    {
      "cell_type": "code",
      "source": [
        "from pyspark.sql import functions as F\n",
        "df.agg(F.min(df['Age'])).show() # Edad mínima"
      ],
      "metadata": {
        "id": "xGFUR7YuVUDK",
        "colab": {
          "base_uri": "https://localhost:8080/"
        },
        "outputId": "1b219d88-dee5-4d44-800b-db5a882650d7"
      },
      "execution_count": null,
      "outputs": [
        {
          "output_type": "stream",
          "name": "stdout",
          "text": [
            "+--------+\n",
            "|min(Age)|\n",
            "+--------+\n",
            "|      28|\n",
            "+--------+\n",
            "\n"
          ]
        }
      ]
    },
    {
      "cell_type": "code",
      "source": [
        "df.agg(F.min(df['Age']), F.max(df['Age']), F.avg(df['Age']), F.count(df['Age'])).show()"
      ],
      "metadata": {
        "id": "IEM1XXRBVUFZ",
        "colab": {
          "base_uri": "https://localhost:8080/"
        },
        "outputId": "17e1f7b9-67ee-43c5-b972-73447cb75c99"
      },
      "execution_count": null,
      "outputs": [
        {
          "output_type": "stream",
          "name": "stdout",
          "text": [
            "+--------+--------+------------------+----------+\n",
            "|min(Age)|max(Age)|          avg(Age)|count(Age)|\n",
            "+--------+--------+------------------+----------+\n",
            "|      28|      77|53.510893246187365|       918|\n",
            "+--------+--------+------------------+----------+\n",
            "\n"
          ]
        }
      ]
    },
    {
      "cell_type": "code",
      "source": [
        "# Ejecutando consultas SQL en nuestros datos\n",
        "\n",
        "df.createOrReplaceTempView('df') # Indicar a pyspark cómo será llamada la tabla para consultas SQL\n",
        "spark.sql(\"\"\"SELECT sex from df\"\"\").show(2) # Una consulta SQL"
      ],
      "metadata": {
        "colab": {
          "base_uri": "https://localhost:8080/"
        },
        "id": "lpx9H2NuaKJS",
        "outputId": "9485684d-9588-45d6-9729-1b450312c00e"
      },
      "execution_count": null,
      "outputs": [
        {
          "output_type": "stream",
          "name": "stdout",
          "text": [
            "+---+\n",
            "|sex|\n",
            "+---+\n",
            "|  M|\n",
            "|  F|\n",
            "+---+\n",
            "only showing top 2 rows\n",
            "\n"
          ]
        }
      ]
    },
    {
      "cell_type": "code",
      "source": [
        "df.selectExpr('age >= 40 as older', 'age').show(5)"
      ],
      "metadata": {
        "colab": {
          "base_uri": "https://localhost:8080/"
        },
        "id": "vBRD2BxoaKRh",
        "outputId": "5666f2d3-e58d-41d0-acc6-3c223cbfafbf"
      },
      "execution_count": null,
      "outputs": [
        {
          "output_type": "stream",
          "name": "stdout",
          "text": [
            "+-----+---+\n",
            "|older|age|\n",
            "+-----+---+\n",
            "| true| 40|\n",
            "| true| 49|\n",
            "|false| 37|\n",
            "| true| 48|\n",
            "| true| 54|\n",
            "+-----+---+\n",
            "only showing top 5 rows\n",
            "\n"
          ]
        }
      ]
    },
    {
      "cell_type": "code",
      "source": [
        "df.groupBy('Age').pivot('Sex', ('M','F')).count().show()"
      ],
      "metadata": {
        "colab": {
          "base_uri": "https://localhost:8080/"
        },
        "id": "cxtro8R8aKVw",
        "outputId": "8d96b528-2970-4010-b0db-3d5c0d64a024"
      },
      "execution_count": null,
      "outputs": [
        {
          "output_type": "stream",
          "name": "stdout",
          "text": [
            "+---+---+----+\n",
            "|Age|  M|   F|\n",
            "+---+---+----+\n",
            "| 31|  1|   1|\n",
            "| 65| 17|   4|\n",
            "| 53| 27|   6|\n",
            "| 34|  5|   2|\n",
            "| 28|  1|NULL|\n",
            "| 76|  1|   1|\n",
            "| 44| 16|   3|\n",
            "| 47| 15|   4|\n",
            "| 52| 31|   5|\n",
            "| 40| 12|   1|\n",
            "| 57| 32|   6|\n",
            "| 54| 36|  15|\n",
            "| 48| 22|   9|\n",
            "| 64| 16|   6|\n",
            "| 41| 17|   7|\n",
            "| 43| 15|   9|\n",
            "| 37|  7|   4|\n",
            "| 61| 27|   4|\n",
            "| 72|  4|NULL|\n",
            "| 35|  8|   3|\n",
            "+---+---+----+\n",
            "only showing top 20 rows\n",
            "\n"
          ]
        }
      ]
    },
    {
      "cell_type": "code",
      "source": [
        "df.selectExpr('Age >= 40 as older', 'Age', 'Sex').groupBy('Sex').pivot('older', ('true','false')).count().show()"
      ],
      "metadata": {
        "colab": {
          "base_uri": "https://localhost:8080/"
        },
        "id": "z_OvlfnraKZu",
        "outputId": "dbead9e2-1666-4061-c1af-70192271872a"
      },
      "execution_count": null,
      "outputs": [
        {
          "output_type": "stream",
          "name": "stdout",
          "text": [
            "+---+----+-----+\n",
            "|Sex|true|false|\n",
            "+---+----+-----+\n",
            "|  F| 174|   19|\n",
            "|  M| 664|   61|\n",
            "+---+----+-----+\n",
            "\n"
          ]
        }
      ]
    },
    {
      "cell_type": "markdown",
      "source": [
        "### Machine learning con pyspark"
      ],
      "metadata": {
        "id": "hDsgwfvDcPDI"
      }
    },
    {
      "cell_type": "code",
      "source": [
        "# División del conjunto de datos entre entrenamiento y prueba\n",
        "\n",
        "X_column_names = ['Age','Cholesterol']\n",
        "target_column_name = ['MaxHR']\n",
        "\n",
        "from pyspark.ml.feature import VectorAssembler\n",
        "\n",
        "v_asmblr = VectorAssembler(inputCols= X_column_names, outputCol= 'Fvec')\n",
        "df = v_asmblr.transform(df)\n",
        "x = df.select(['Age','Cholesterol','Fvec','MaxHR'])\n",
        "x.show(8)"
      ],
      "metadata": {
        "colab": {
          "base_uri": "https://localhost:8080/"
        },
        "id": "wMxGjo9tcCUD",
        "outputId": "fbe8af9a-2f3d-4872-ff28-b5833e0b0e99"
      },
      "execution_count": null,
      "outputs": [
        {
          "output_type": "stream",
          "name": "stdout",
          "text": [
            "+---+-----------+------------+-----+\n",
            "|Age|Cholesterol|        Fvec|MaxHR|\n",
            "+---+-----------+------------+-----+\n",
            "| 40|        289|[40.0,289.0]|  172|\n",
            "| 49|        180|[49.0,180.0]|  156|\n",
            "| 37|        283|[37.0,283.0]|   98|\n",
            "| 48|        214|[48.0,214.0]|  108|\n",
            "| 54|        195|[54.0,195.0]|  122|\n",
            "| 39|        339|[39.0,339.0]|  170|\n",
            "| 45|        237|[45.0,237.0]|  170|\n",
            "| 54|        208|[54.0,208.0]|  142|\n",
            "+---+-----------+------------+-----+\n",
            "only showing top 8 rows\n",
            "\n"
          ]
        }
      ]
    },
    {
      "cell_type": "code",
      "source": [
        "# División del conjutno de datos\n",
        "\n",
        "trainset, testset = x.randomSplit([.8,.2])"
      ],
      "metadata": {
        "id": "QeqnkmBvcSzE"
      },
      "execution_count": null,
      "outputs": []
    },
    {
      "cell_type": "code",
      "source": [
        "# Predicción de RestingBP usando una regresión lineal\n",
        "\n",
        "from pyspark.ml.regression import LinearRegression\n",
        "model = LinearRegression(featuresCol= 'Fvec',labelCol= 'MaxHR') #especificar el modelo\n",
        "model = model.fit(trainset) # entrenamiento del modelo\n",
        "print(model.coefficients)\n",
        "print(model.intercept)"
      ],
      "metadata": {
        "colab": {
          "base_uri": "https://localhost:8080/"
        },
        "id": "g_KxkBLZcS3_",
        "outputId": "cd0f950e-aedc-445c-859f-0a6b2e915b7a"
      },
      "execution_count": null,
      "outputs": [
        {
          "output_type": "stream",
          "name": "stdout",
          "text": [
            "[-0.9987788008486029,0.041173730979745665]\n",
            "181.73049189699833\n"
          ]
        }
      ]
    },
    {
      "cell_type": "code",
      "source": [
        "# Evaluemos el modelo\n",
        "\n",
        "model.evaluate(testset).predictions.show(8)"
      ],
      "metadata": {
        "colab": {
          "base_uri": "https://localhost:8080/"
        },
        "id": "q8dizeACcS7e",
        "outputId": "ba9e2b97-7d9b-4885-8310-5956685e6654"
      },
      "execution_count": null,
      "outputs": [
        {
          "output_type": "stream",
          "name": "stdout",
          "text": [
            "+---+-----------+------------+-----+------------------+\n",
            "|Age|Cholesterol|        Fvec|MaxHR|        prediction|\n",
            "+---+-----------+------------+-----+------------------+\n",
            "| 32|          0|  [32.0,0.0]|  127|149.76957026984303|\n",
            "| 33|        298|[33.0,298.0]|  185|161.04056330095864|\n",
            "| 34|        220|[34.0,220.0]|  150|156.83023348368988|\n",
            "| 35|        161|[35.0,161.0]|  153| 153.4022045550363|\n",
            "| 35|        257|[35.0,257.0]|  140|157.35488272909186|\n",
            "| 36|        166|[36.0,166.0]|  180| 152.6092944090864|\n",
            "| 36|        340|[36.0,340.0]|  184|159.77352359956214|\n",
            "| 37|        211|[37.0,211.0]|  142|153.46333350232635|\n",
            "+---+-----------+------------+-----+------------------+\n",
            "only showing top 8 rows\n",
            "\n"
          ]
        }
      ]
    },
    {
      "cell_type": "code",
      "source": [
        "from pyspark.ml.feature import StringIndexer\n",
        "indxr = StringIndexer(inputCol= 'ChestPainType', outputCol= 'ChestPainTypeIndex')\n",
        "indxr.fit(df).transform(df).select('ChestPainTypeIndex').show(5)"
      ],
      "metadata": {
        "colab": {
          "base_uri": "https://localhost:8080/"
        },
        "id": "BLBY5wtGcS_G",
        "outputId": "1c7892e0-0008-4110-dd75-498a3cf1543f"
      },
      "execution_count": null,
      "outputs": [
        {
          "output_type": "stream",
          "name": "stdout",
          "text": [
            "+------------------+\n",
            "|ChestPainTypeIndex|\n",
            "+------------------+\n",
            "|               2.0|\n",
            "|               1.0|\n",
            "|               2.0|\n",
            "|               0.0|\n",
            "|               1.0|\n",
            "+------------------+\n",
            "only showing top 5 rows\n",
            "\n"
          ]
        }
      ]
    }
  ]
}