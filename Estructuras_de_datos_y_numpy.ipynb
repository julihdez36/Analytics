{
  "nbformat": 4,
  "nbformat_minor": 0,
  "metadata": {
    "colab": {
      "provenance": [],
      "authorship_tag": "ABX9TyMvl2D7pQisOA/TFxy9wvwF",
      "include_colab_link": true
    },
    "kernelspec": {
      "name": "python3",
      "display_name": "Python 3"
    },
    "language_info": {
      "name": "python"
    }
  },
  "cells": [
    {
      "cell_type": "markdown",
      "metadata": {
        "id": "view-in-github",
        "colab_type": "text"
      },
      "source": [
        "<a href=\"https://colab.research.google.com/github/julihdez36/Analytics/blob/main/Estructuras_de_datos_y_numpy.ipynb\" target=\"_parent\"><img src=\"https://colab.research.google.com/assets/colab-badge.svg\" alt=\"Open In Colab\"/></a>"
      ]
    },
    {
      "cell_type": "code",
      "execution_count": null,
      "metadata": {
        "colab": {
          "base_uri": "https://localhost:8080/"
        },
        "id": "wcAADMvzNSP4",
        "outputId": "ebfeb70a-6ed1-4e8f-d962-118c86020aa2"
      },
      "outputs": [
        {
          "output_type": "execute_result",
          "data": {
            "text/plain": [
              "([1, 2, 'Texto', False],\n",
              " [1, 3, 5, 7, 9, 11, 13, 15, 17, 19, 21, 23, 25, 27, 29])"
            ]
          },
          "metadata": {},
          "execution_count": 2
        }
      ],
      "source": [
        "lista1 =  [1,2,'Texto',False]\n",
        "lista2 = list(range(1,31,2))\n",
        "lista1, lista2"
      ]
    },
    {
      "cell_type": "code",
      "source": [
        "lista1 + lista2"
      ],
      "metadata": {
        "colab": {
          "base_uri": "https://localhost:8080/"
        },
        "id": "jwaSSYDSO8dm",
        "outputId": "71fc144f-3ef7-49f7-dc06-ba94364a55d2"
      },
      "execution_count": null,
      "outputs": [
        {
          "output_type": "execute_result",
          "data": {
            "text/plain": [
              "[1, 2, 'Texto', False, 1, 3, 5, 7, 9, 11, 13, 15, 17, 19, 21, 23, 25, 27, 29]"
            ]
          },
          "metadata": {},
          "execution_count": 3
        }
      ]
    },
    {
      "cell_type": "code",
      "source": [
        "for i in lista1:\n",
        "  lista2.append(i)\n",
        "\n",
        "lista2"
      ],
      "metadata": {
        "colab": {
          "base_uri": "https://localhost:8080/"
        },
        "id": "c6MxQCrLO85W",
        "outputId": "94b7798d-d012-405a-abdc-8ddea2aa316c"
      },
      "execution_count": null,
      "outputs": [
        {
          "output_type": "execute_result",
          "data": {
            "text/plain": [
              "[1, 3, 5, 7, 9, 11, 13, 15, 17, 19, 21, 23, 25, 27, 29, 1, 2, 'Texto', False]"
            ]
          },
          "metadata": {},
          "execution_count": 5
        }
      ]
    },
    {
      "cell_type": "code",
      "source": [
        "# Diccionario\n",
        "\n",
        "dic_1 = {'One': list(range(10)),\n",
        "         'Two': list(range(10,20)),\n",
        "         'Three': list(range(21,30))\n",
        "}\n",
        "\n",
        "dic_1"
      ],
      "metadata": {
        "colab": {
          "base_uri": "https://localhost:8080/"
        },
        "id": "JQ63AIzlO88s",
        "outputId": "47329452-091e-473a-8926-1b0b6baf4738"
      },
      "execution_count": null,
      "outputs": [
        {
          "output_type": "execute_result",
          "data": {
            "text/plain": [
              "{'One': [0, 1, 2, 3, 4, 5, 6, 7, 8, 9],\n",
              " 'Two': [10, 11, 12, 13, 14, 15, 16, 17, 18, 19],\n",
              " 'Three': [21, 22, 23, 24, 25, 26, 27, 28, 29]}"
            ]
          },
          "metadata": {},
          "execution_count": 15
        }
      ]
    },
    {
      "cell_type": "code",
      "source": [
        "# Slicing\n",
        "\n",
        "lista2[5:10]"
      ],
      "metadata": {
        "colab": {
          "base_uri": "https://localhost:8080/"
        },
        "id": "wA5oTgsyO8__",
        "outputId": "110545e7-f93a-4a10-8659-2461d86d62ba"
      },
      "execution_count": null,
      "outputs": [
        {
          "output_type": "execute_result",
          "data": {
            "text/plain": [
              "[11, 13, 15, 17, 19]"
            ]
          },
          "metadata": {},
          "execution_count": 11
        }
      ]
    },
    {
      "cell_type": "code",
      "source": [
        "dic_1['One'][4]"
      ],
      "metadata": {
        "colab": {
          "base_uri": "https://localhost:8080/"
        },
        "id": "0PQHc_pRO9C9",
        "outputId": "bf5c0ce3-7340-4d64-bc53-83b6af643e27"
      },
      "execution_count": null,
      "outputs": [
        {
          "output_type": "execute_result",
          "data": {
            "text/plain": [
              "4"
            ]
          },
          "metadata": {},
          "execution_count": 17
        }
      ]
    },
    {
      "cell_type": "markdown",
      "source": [
        "Media:\n",
        "\n",
        "$$\\bar{x} = \\frac{1}{n}\\sum_{i=1}^{n}x_{i}$$"
      ],
      "metadata": {
        "id": "2aNz3Y-mQ58f"
      }
    },
    {
      "cell_type": "code",
      "source": [
        "dic_1"
      ],
      "metadata": {
        "colab": {
          "base_uri": "https://localhost:8080/"
        },
        "id": "KZaWLBjIO9F1",
        "outputId": "aa4ce7e7-4af6-4c2b-fd40-2c8803d3974a"
      },
      "execution_count": null,
      "outputs": [
        {
          "output_type": "execute_result",
          "data": {
            "text/plain": [
              "{'One': [0, 1, 2, 3, 4, 5, 6, 7, 8, 9],\n",
              " 'Two': [10, 11, 12, 13, 14, 15, 16, 17, 18, 19],\n",
              " 'Three': [21, 22, 23, 24, 25, 26, 27, 28, 29]}"
            ]
          },
          "metadata": {},
          "execution_count": 18
        }
      ]
    },
    {
      "cell_type": "code",
      "source": [
        "x = dic_1['One']\n",
        "n = len(x)\n",
        "sumatoria = sum(x)\n",
        "\n",
        "media =  1/n *sumatoria\n",
        "media"
      ],
      "metadata": {
        "colab": {
          "base_uri": "https://localhost:8080/"
        },
        "id": "yO5Jk2rBO9I9",
        "outputId": "51314eaf-2e0b-402a-9e0a-fbb8b3f83652"
      },
      "execution_count": null,
      "outputs": [
        {
          "output_type": "execute_result",
          "data": {
            "text/plain": [
              "4.5"
            ]
          },
          "metadata": {},
          "execution_count": 27
        }
      ]
    },
    {
      "cell_type": "code",
      "source": [
        "def media(x):\n",
        "  n = len(x)\n",
        "  sumatoria = sum(x)\n",
        "  media =  1/n *sumatoria\n",
        "  return media"
      ],
      "metadata": {
        "id": "-0h4MVAMO9L5"
      },
      "execution_count": null,
      "outputs": []
    },
    {
      "cell_type": "code",
      "source": [
        "media(dic_1['Two']), media(dic_1['Three'])"
      ],
      "metadata": {
        "colab": {
          "base_uri": "https://localhost:8080/"
        },
        "id": "OS4PJXc0Srv9",
        "outputId": "596935f0-d406-4455-bad7-76f10b97e536"
      },
      "execution_count": null,
      "outputs": [
        {
          "output_type": "execute_result",
          "data": {
            "text/plain": [
              "(14.5, 25.0)"
            ]
          },
          "metadata": {},
          "execution_count": 31
        }
      ]
    },
    {
      "cell_type": "code",
      "source": [
        "import numpy as np\n",
        "import matplotlib.pyplot as plt"
      ],
      "metadata": {
        "id": "KQqwyPH-TCB0"
      },
      "execution_count": null,
      "outputs": []
    },
    {
      "cell_type": "code",
      "source": [
        "x = list(range(11))\n",
        "y = [i**2 for i in x] #  list comprehension\n",
        "\n",
        "print(x)\n",
        "print(y)"
      ],
      "metadata": {
        "colab": {
          "base_uri": "https://localhost:8080/"
        },
        "id": "viRdtPwdTCFe",
        "outputId": "9df354cb-0524-436d-df4c-64ee43fa54a9"
      },
      "execution_count": null,
      "outputs": [
        {
          "output_type": "stream",
          "name": "stdout",
          "text": [
            "[0, 1, 2, 3, 4, 5, 6, 7, 8, 9, 10]\n",
            "[0, 1, 4, 9, 16, 25, 36, 49, 64, 81, 100]\n"
          ]
        }
      ]
    },
    {
      "cell_type": "code",
      "source": [
        "plt.plot(x,y);\n"
      ],
      "metadata": {
        "colab": {
          "base_uri": "https://localhost:8080/",
          "height": 430
        },
        "id": "roOHo-IZTCI5",
        "outputId": "fabf2ed0-edef-4ffe-b2ff-33cce6956e31"
      },
      "execution_count": null,
      "outputs": [
        {
          "output_type": "display_data",
          "data": {
            "text/plain": [
              "<Figure size 640x480 with 1 Axes>"
            ],
            "image/png": "[encoded data removed]"
          },
          "metadata": {}
        }
      ]
    },
    {
      "cell_type": "code",
      "source": [
        "x = np.array(x)\n",
        "y = np.array(y)\n",
        "\n",
        "type(x), type(y)"
      ],
      "metadata": {
        "colab": {
          "base_uri": "https://localhost:8080/"
        },
        "id": "OqWxXnIDTCMJ",
        "outputId": "799d876d-0282-4a1b-84c5-be4c7c444756"
      },
      "execution_count": null,
      "outputs": [
        {
          "output_type": "execute_result",
          "data": {
            "text/plain": [
              "(numpy.ndarray, numpy.ndarray)"
            ]
          },
          "metadata": {},
          "execution_count": 41
        }
      ]
    },
    {
      "cell_type": "code",
      "source": [
        "lista1 = [[1,2,3],[4,5,6]]\n",
        "np.array(lista1)"
      ],
      "metadata": {
        "colab": {
          "base_uri": "https://localhost:8080/"
        },
        "id": "CwcMuZrTTCP1",
        "outputId": "2b8956e7-4460-4267-9577-ecddbe75a612"
      },
      "execution_count": null,
      "outputs": [
        {
          "output_type": "execute_result",
          "data": {
            "text/plain": [
              "array([[1, 2, 3],\n",
              "       [4, 5, 6]])"
            ]
          },
          "metadata": {},
          "execution_count": 42
        }
      ]
    },
    {
      "cell_type": "code",
      "source": [
        "np.random.randint(1,51, size = (10,10))"
      ],
      "metadata": {
        "colab": {
          "base_uri": "https://localhost:8080/"
        },
        "id": "kdlH9boPTCSm",
        "outputId": "210a6951-07a2-4e8a-ae0b-7fe634ca5a02"
      },
      "execution_count": null,
      "outputs": [
        {
          "output_type": "execute_result",
          "data": {
            "text/plain": [
              "array([[30, 39, 12, 28,  6, 40, 30,  8, 31, 39],\n",
              "       [26, 43, 35, 10, 35, 40, 32, 46,  5, 22],\n",
              "       [12, 32, 27, 41, 29, 38, 45, 21, 17, 40],\n",
              "       [18, 33, 46, 31, 47,  3, 24, 36, 34,  3],\n",
              "       [28,  1, 19,  4,  3,  9, 46, 47, 33,  5],\n",
              "       [45,  4, 50, 47,  8, 28, 19, 28, 13, 47],\n",
              "       [ 2, 41,  5, 39, 28, 22, 26, 43, 33, 10],\n",
              "       [49, 34, 50, 35, 33, 17, 47, 29, 23, 15],\n",
              "       [ 1, 41, 17,  3,  1,  5, 30, 38, 50, 48],\n",
              "       [ 2, 40, 32, 41, 50, 23,  5,  9, 36,  3]])"
            ]
          },
          "metadata": {},
          "execution_count": 43
        }
      ]
    },
    {
      "cell_type": "code",
      "source": [
        "x = list(range(11))\n",
        "y = np.log(x)\n",
        "\n",
        "plt.plot(x,y,color = 'purple');"
      ],
      "metadata": {
        "colab": {
          "base_uri": "https://localhost:8080/",
          "height": 465
        },
        "id": "au1I-TtCTCVl",
        "outputId": "ee981d9e-2398-48f9-cde1-9146a6f209e8"
      },
      "execution_count": null,
      "outputs": [
        {
          "output_type": "stream",
          "name": "stderr",
          "text": [
            "<ipython-input-47-4291d33a4db3>:2: RuntimeWarning: divide by zero encountered in log\n",
            "  y = np.log(x)\n"
          ]
        },
        {
          "output_type": "display_data",
          "data": {
            "text/plain": [
              "<Figure size 640x480 with 1 Axes>"
            ],
            "image/png": "[encoded data removed]"
          },
          "metadata": {}
        }
      ]
    },
    {
      "cell_type": "code",
      "source": [
        "import pandas as pd"
      ],
      "metadata": {
        "id": "I4_PpVFMTCYf"
      },
      "execution_count": null,
      "outputs": []
    },
    {
      "cell_type": "code",
      "source": [],
      "metadata": {
        "id": "YFK_qo3ITCbl"
      },
      "execution_count": null,
      "outputs": []
    },
    {
      "cell_type": "code",
      "source": [],
      "metadata": {
        "id": "gjYLvitATCee"
      },
      "execution_count": null,
      "outputs": []
    }
  ]
}