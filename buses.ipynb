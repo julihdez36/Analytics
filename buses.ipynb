{
 "cells": [
  {
   "cell_type": "markdown",
   "id": "b76da89c",
   "metadata": {},
   "source": [
    "## Buses varados\n",
    "\n",
    "## Espacio de características\n",
    "\n",
    "**FLota vinculada:**\n",
    "\n",
    "n = 10518, p = 13\n",
    "\n",
    "- Zona STR\n",
    "- Fase STR 3\n",
    "- Componente STR 3\n",
    "- Estatus vinculación STR 2\n",
    "- Combustible STR 5\n",
    "- Modelo INT\n",
    "- Fecha de vinculación TS\n",
    "- Accesibilidad STR\n",
    "- Edad INT\n",
    "- Identificador INT\n",
    "- Descripción vinculación STR 1\n",
    "- Descripción emisión STR\n",
    "- Tipo STR\n",
    "\n",
    "**Datos varados**\n",
    "n = 116548, p \n",
    "- ID bus INT\n",
    "- Fecha varada TS\n",
    "- Causa STR\n",
    "- Descripción STR\n",
    "- Fecha habilitación TS\n",
    "- Fecha movilización TS\n",
    "- Ruta FLOAT\n",
    "- Tiempo"
   ]
  },
  {
   "cell_type": "code",
   "execution_count": 1,
   "id": "279e1a38",
   "metadata": {},
   "outputs": [],
   "source": [
    "import numpy as np\n",
    "import pandas as pd\n",
    "import matplotlib.pyplot as plt\n",
    "import seaborn as sns\n",
    "import os"
   ]
  },
  {
   "cell_type": "code",
   "execution_count": 3,
   "id": "a555badf",
   "metadata": {},
   "outputs": [
    {
     "data": {
      "text/plain": [
       "['BASE DE DATOS FINAL (1).csv',\n",
       " 'Data Varados.xlsx',\n",
       " 'flota total.xlsx',\n",
       " 'flota-vinculada-del-sitp-diciembre-2024V2.csv',\n",
       " 'VARIABLES LIMPIAS.xlsx']"
      ]
     },
     "execution_count": 3,
     "metadata": {},
     "output_type": "execute_result"
    }
   ],
   "source": [
    "os.chdir('C:\\\\Users\\\\Julian\\\\Desktop\\\\Cursos\\\\sets\\\\buses')\n",
    "os.listdir()"
   ]
  },
  {
   "cell_type": "code",
   "execution_count": 4,
   "id": "a3222c56",
   "metadata": {},
   "outputs": [
    {
     "ename": "KeyboardInterrupt",
     "evalue": "",
     "output_type": "error",
     "traceback": [
      "\u001b[1;31m---------------------------------------------------------------------------\u001b[0m",
      "\u001b[1;31mKeyboardInterrupt\u001b[0m                         Traceback (most recent call last)",
      "Cell \u001b[1;32mIn[4], line 1\u001b[0m\n\u001b[1;32m----> 1\u001b[0m varado \u001b[38;5;241m=\u001b[39m \u001b[43mpd\u001b[49m\u001b[38;5;241;43m.\u001b[39;49m\u001b[43mread_excel\u001b[49m\u001b[43m(\u001b[49m\u001b[38;5;124;43m'\u001b[39;49m\u001b[38;5;124;43mVARIABLES LIMPIAS.xlsx\u001b[39;49m\u001b[38;5;124;43m'\u001b[39;49m\u001b[43m)\u001b[49m\n\u001b[0;32m      2\u001b[0m varado\u001b[38;5;241m.\u001b[39mhead()\n",
      "File \u001b[1;32m~\\AppData\\Local\\Packages\\PythonSoftwareFoundation.Python.3.12_qbz5n2kfra8p0\\LocalCache\\local-packages\\Python312\\site-packages\\pandas\\io\\excel\\_base.py:508\u001b[0m, in \u001b[0;36mread_excel\u001b[1;34m(io, sheet_name, header, names, index_col, usecols, dtype, engine, converters, true_values, false_values, skiprows, nrows, na_values, keep_default_na, na_filter, verbose, parse_dates, date_parser, date_format, thousands, decimal, comment, skipfooter, storage_options, dtype_backend, engine_kwargs)\u001b[0m\n\u001b[0;32m    502\u001b[0m     \u001b[38;5;28;01mraise\u001b[39;00m \u001b[38;5;167;01mValueError\u001b[39;00m(\n\u001b[0;32m    503\u001b[0m         \u001b[38;5;124m\"\u001b[39m\u001b[38;5;124mEngine should not be specified when passing \u001b[39m\u001b[38;5;124m\"\u001b[39m\n\u001b[0;32m    504\u001b[0m         \u001b[38;5;124m\"\u001b[39m\u001b[38;5;124man ExcelFile - ExcelFile already has the engine set\u001b[39m\u001b[38;5;124m\"\u001b[39m\n\u001b[0;32m    505\u001b[0m     )\n\u001b[0;32m    507\u001b[0m \u001b[38;5;28;01mtry\u001b[39;00m:\n\u001b[1;32m--> 508\u001b[0m     data \u001b[38;5;241m=\u001b[39m \u001b[43mio\u001b[49m\u001b[38;5;241;43m.\u001b[39;49m\u001b[43mparse\u001b[49m\u001b[43m(\u001b[49m\n\u001b[0;32m    509\u001b[0m \u001b[43m        \u001b[49m\u001b[43msheet_name\u001b[49m\u001b[38;5;241;43m=\u001b[39;49m\u001b[43msheet_name\u001b[49m\u001b[43m,\u001b[49m\n\u001b[0;32m    510\u001b[0m \u001b[43m        \u001b[49m\u001b[43mheader\u001b[49m\u001b[38;5;241;43m=\u001b[39;49m\u001b[43mheader\u001b[49m\u001b[43m,\u001b[49m\n\u001b[0;32m    511\u001b[0m \u001b[43m        \u001b[49m\u001b[43mnames\u001b[49m\u001b[38;5;241;43m=\u001b[39;49m\u001b[43mnames\u001b[49m\u001b[43m,\u001b[49m\n\u001b[0;32m    512\u001b[0m \u001b[43m        \u001b[49m\u001b[43mindex_col\u001b[49m\u001b[38;5;241;43m=\u001b[39;49m\u001b[43mindex_col\u001b[49m\u001b[43m,\u001b[49m\n\u001b[0;32m    513\u001b[0m \u001b[43m        \u001b[49m\u001b[43musecols\u001b[49m\u001b[38;5;241;43m=\u001b[39;49m\u001b[43musecols\u001b[49m\u001b[43m,\u001b[49m\n\u001b[0;32m    514\u001b[0m \u001b[43m        \u001b[49m\u001b[43mdtype\u001b[49m\u001b[38;5;241;43m=\u001b[39;49m\u001b[43mdtype\u001b[49m\u001b[43m,\u001b[49m\n\u001b[0;32m    515\u001b[0m \u001b[43m        \u001b[49m\u001b[43mconverters\u001b[49m\u001b[38;5;241;43m=\u001b[39;49m\u001b[43mconverters\u001b[49m\u001b[43m,\u001b[49m\n\u001b[0;32m    516\u001b[0m \u001b[43m        \u001b[49m\u001b[43mtrue_values\u001b[49m\u001b[38;5;241;43m=\u001b[39;49m\u001b[43mtrue_values\u001b[49m\u001b[43m,\u001b[49m\n\u001b[0;32m    517\u001b[0m \u001b[43m        \u001b[49m\u001b[43mfalse_values\u001b[49m\u001b[38;5;241;43m=\u001b[39;49m\u001b[43mfalse_values\u001b[49m\u001b[43m,\u001b[49m\n\u001b[0;32m    518\u001b[0m \u001b[43m        \u001b[49m\u001b[43mskiprows\u001b[49m\u001b[38;5;241;43m=\u001b[39;49m\u001b[43mskiprows\u001b[49m\u001b[43m,\u001b[49m\n\u001b[0;32m    519\u001b[0m \u001b[43m        \u001b[49m\u001b[43mnrows\u001b[49m\u001b[38;5;241;43m=\u001b[39;49m\u001b[43mnrows\u001b[49m\u001b[43m,\u001b[49m\n\u001b[0;32m    520\u001b[0m \u001b[43m        \u001b[49m\u001b[43mna_values\u001b[49m\u001b[38;5;241;43m=\u001b[39;49m\u001b[43mna_values\u001b[49m\u001b[43m,\u001b[49m\n\u001b[0;32m    521\u001b[0m \u001b[43m        \u001b[49m\u001b[43mkeep_default_na\u001b[49m\u001b[38;5;241;43m=\u001b[39;49m\u001b[43mkeep_default_na\u001b[49m\u001b[43m,\u001b[49m\n\u001b[0;32m    522\u001b[0m \u001b[43m        \u001b[49m\u001b[43mna_filter\u001b[49m\u001b[38;5;241;43m=\u001b[39;49m\u001b[43mna_filter\u001b[49m\u001b[43m,\u001b[49m\n\u001b[0;32m    523\u001b[0m \u001b[43m        \u001b[49m\u001b[43mverbose\u001b[49m\u001b[38;5;241;43m=\u001b[39;49m\u001b[43mverbose\u001b[49m\u001b[43m,\u001b[49m\n\u001b[0;32m    524\u001b[0m \u001b[43m        \u001b[49m\u001b[43mparse_dates\u001b[49m\u001b[38;5;241;43m=\u001b[39;49m\u001b[43mparse_dates\u001b[49m\u001b[43m,\u001b[49m\n\u001b[0;32m    525\u001b[0m \u001b[43m        \u001b[49m\u001b[43mdate_parser\u001b[49m\u001b[38;5;241;43m=\u001b[39;49m\u001b[43mdate_parser\u001b[49m\u001b[43m,\u001b[49m\n\u001b[0;32m    526\u001b[0m \u001b[43m        \u001b[49m\u001b[43mdate_format\u001b[49m\u001b[38;5;241;43m=\u001b[39;49m\u001b[43mdate_format\u001b[49m\u001b[43m,\u001b[49m\n\u001b[0;32m    527\u001b[0m \u001b[43m        \u001b[49m\u001b[43mthousands\u001b[49m\u001b[38;5;241;43m=\u001b[39;49m\u001b[43mthousands\u001b[49m\u001b[43m,\u001b[49m\n\u001b[0;32m    528\u001b[0m \u001b[43m        \u001b[49m\u001b[43mdecimal\u001b[49m\u001b[38;5;241;43m=\u001b[39;49m\u001b[43mdecimal\u001b[49m\u001b[43m,\u001b[49m\n\u001b[0;32m    529\u001b[0m \u001b[43m        \u001b[49m\u001b[43mcomment\u001b[49m\u001b[38;5;241;43m=\u001b[39;49m\u001b[43mcomment\u001b[49m\u001b[43m,\u001b[49m\n\u001b[0;32m    530\u001b[0m \u001b[43m        \u001b[49m\u001b[43mskipfooter\u001b[49m\u001b[38;5;241;43m=\u001b[39;49m\u001b[43mskipfooter\u001b[49m\u001b[43m,\u001b[49m\n\u001b[0;32m    531\u001b[0m \u001b[43m        \u001b[49m\u001b[43mdtype_backend\u001b[49m\u001b[38;5;241;43m=\u001b[39;49m\u001b[43mdtype_backend\u001b[49m\u001b[43m,\u001b[49m\n\u001b[0;32m    532\u001b[0m \u001b[43m    \u001b[49m\u001b[43m)\u001b[49m\n\u001b[0;32m    533\u001b[0m \u001b[38;5;28;01mfinally\u001b[39;00m:\n\u001b[0;32m    534\u001b[0m     \u001b[38;5;66;03m# make sure to close opened file handles\u001b[39;00m\n\u001b[0;32m    535\u001b[0m     \u001b[38;5;28;01mif\u001b[39;00m should_close:\n",
      "File \u001b[1;32m~\\AppData\\Local\\Packages\\PythonSoftwareFoundation.Python.3.12_qbz5n2kfra8p0\\LocalCache\\local-packages\\Python312\\site-packages\\pandas\\io\\excel\\_base.py:1616\u001b[0m, in \u001b[0;36mExcelFile.parse\u001b[1;34m(self, sheet_name, header, names, index_col, usecols, converters, true_values, false_values, skiprows, nrows, na_values, parse_dates, date_parser, date_format, thousands, comment, skipfooter, dtype_backend, **kwds)\u001b[0m\n\u001b[0;32m   1576\u001b[0m \u001b[38;5;28;01mdef\u001b[39;00m \u001b[38;5;21mparse\u001b[39m(\n\u001b[0;32m   1577\u001b[0m     \u001b[38;5;28mself\u001b[39m,\n\u001b[0;32m   1578\u001b[0m     sheet_name: \u001b[38;5;28mstr\u001b[39m \u001b[38;5;241m|\u001b[39m \u001b[38;5;28mint\u001b[39m \u001b[38;5;241m|\u001b[39m \u001b[38;5;28mlist\u001b[39m[\u001b[38;5;28mint\u001b[39m] \u001b[38;5;241m|\u001b[39m \u001b[38;5;28mlist\u001b[39m[\u001b[38;5;28mstr\u001b[39m] \u001b[38;5;241m|\u001b[39m \u001b[38;5;28;01mNone\u001b[39;00m \u001b[38;5;241m=\u001b[39m \u001b[38;5;241m0\u001b[39m,\n\u001b[1;32m   (...)\u001b[0m\n\u001b[0;32m   1596\u001b[0m     \u001b[38;5;241m*\u001b[39m\u001b[38;5;241m*\u001b[39mkwds,\n\u001b[0;32m   1597\u001b[0m ) \u001b[38;5;241m-\u001b[39m\u001b[38;5;241m>\u001b[39m DataFrame \u001b[38;5;241m|\u001b[39m \u001b[38;5;28mdict\u001b[39m[\u001b[38;5;28mstr\u001b[39m, DataFrame] \u001b[38;5;241m|\u001b[39m \u001b[38;5;28mdict\u001b[39m[\u001b[38;5;28mint\u001b[39m, DataFrame]:\n\u001b[0;32m   1598\u001b[0m \u001b[38;5;250m    \u001b[39m\u001b[38;5;124;03m\"\"\"\u001b[39;00m\n\u001b[0;32m   1599\u001b[0m \u001b[38;5;124;03m    Parse specified sheet(s) into a DataFrame.\u001b[39;00m\n\u001b[0;32m   1600\u001b[0m \n\u001b[1;32m   (...)\u001b[0m\n\u001b[0;32m   1614\u001b[0m \u001b[38;5;124;03m    >>> file.parse()  # doctest: +SKIP\u001b[39;00m\n\u001b[0;32m   1615\u001b[0m \u001b[38;5;124;03m    \"\"\"\u001b[39;00m\n\u001b[1;32m-> 1616\u001b[0m     \u001b[38;5;28;01mreturn\u001b[39;00m \u001b[38;5;28;43mself\u001b[39;49m\u001b[38;5;241;43m.\u001b[39;49m\u001b[43m_reader\u001b[49m\u001b[38;5;241;43m.\u001b[39;49m\u001b[43mparse\u001b[49m\u001b[43m(\u001b[49m\n\u001b[0;32m   1617\u001b[0m \u001b[43m        \u001b[49m\u001b[43msheet_name\u001b[49m\u001b[38;5;241;43m=\u001b[39;49m\u001b[43msheet_name\u001b[49m\u001b[43m,\u001b[49m\n\u001b[0;32m   1618\u001b[0m \u001b[43m        \u001b[49m\u001b[43mheader\u001b[49m\u001b[38;5;241;43m=\u001b[39;49m\u001b[43mheader\u001b[49m\u001b[43m,\u001b[49m\n\u001b[0;32m   1619\u001b[0m \u001b[43m        \u001b[49m\u001b[43mnames\u001b[49m\u001b[38;5;241;43m=\u001b[39;49m\u001b[43mnames\u001b[49m\u001b[43m,\u001b[49m\n\u001b[0;32m   1620\u001b[0m \u001b[43m        \u001b[49m\u001b[43mindex_col\u001b[49m\u001b[38;5;241;43m=\u001b[39;49m\u001b[43mindex_col\u001b[49m\u001b[43m,\u001b[49m\n\u001b[0;32m   1621\u001b[0m \u001b[43m        \u001b[49m\u001b[43musecols\u001b[49m\u001b[38;5;241;43m=\u001b[39;49m\u001b[43musecols\u001b[49m\u001b[43m,\u001b[49m\n\u001b[0;32m   1622\u001b[0m \u001b[43m        \u001b[49m\u001b[43mconverters\u001b[49m\u001b[38;5;241;43m=\u001b[39;49m\u001b[43mconverters\u001b[49m\u001b[43m,\u001b[49m\n\u001b[0;32m   1623\u001b[0m \u001b[43m        \u001b[49m\u001b[43mtrue_values\u001b[49m\u001b[38;5;241;43m=\u001b[39;49m\u001b[43mtrue_values\u001b[49m\u001b[43m,\u001b[49m\n\u001b[0;32m   1624\u001b[0m \u001b[43m        \u001b[49m\u001b[43mfalse_values\u001b[49m\u001b[38;5;241;43m=\u001b[39;49m\u001b[43mfalse_values\u001b[49m\u001b[43m,\u001b[49m\n\u001b[0;32m   1625\u001b[0m \u001b[43m        \u001b[49m\u001b[43mskiprows\u001b[49m\u001b[38;5;241;43m=\u001b[39;49m\u001b[43mskiprows\u001b[49m\u001b[43m,\u001b[49m\n\u001b[0;32m   1626\u001b[0m \u001b[43m        \u001b[49m\u001b[43mnrows\u001b[49m\u001b[38;5;241;43m=\u001b[39;49m\u001b[43mnrows\u001b[49m\u001b[43m,\u001b[49m\n\u001b[0;32m   1627\u001b[0m \u001b[43m        \u001b[49m\u001b[43mna_values\u001b[49m\u001b[38;5;241;43m=\u001b[39;49m\u001b[43mna_values\u001b[49m\u001b[43m,\u001b[49m\n\u001b[0;32m   1628\u001b[0m \u001b[43m        \u001b[49m\u001b[43mparse_dates\u001b[49m\u001b[38;5;241;43m=\u001b[39;49m\u001b[43mparse_dates\u001b[49m\u001b[43m,\u001b[49m\n\u001b[0;32m   1629\u001b[0m \u001b[43m        \u001b[49m\u001b[43mdate_parser\u001b[49m\u001b[38;5;241;43m=\u001b[39;49m\u001b[43mdate_parser\u001b[49m\u001b[43m,\u001b[49m\n\u001b[0;32m   1630\u001b[0m \u001b[43m        \u001b[49m\u001b[43mdate_format\u001b[49m\u001b[38;5;241;43m=\u001b[39;49m\u001b[43mdate_format\u001b[49m\u001b[43m,\u001b[49m\n\u001b[0;32m   1631\u001b[0m \u001b[43m        \u001b[49m\u001b[43mthousands\u001b[49m\u001b[38;5;241;43m=\u001b[39;49m\u001b[43mthousands\u001b[49m\u001b[43m,\u001b[49m\n\u001b[0;32m   1632\u001b[0m \u001b[43m        \u001b[49m\u001b[43mcomment\u001b[49m\u001b[38;5;241;43m=\u001b[39;49m\u001b[43mcomment\u001b[49m\u001b[43m,\u001b[49m\n\u001b[0;32m   1633\u001b[0m \u001b[43m        \u001b[49m\u001b[43mskipfooter\u001b[49m\u001b[38;5;241;43m=\u001b[39;49m\u001b[43mskipfooter\u001b[49m\u001b[43m,\u001b[49m\n\u001b[0;32m   1634\u001b[0m \u001b[43m        \u001b[49m\u001b[43mdtype_backend\u001b[49m\u001b[38;5;241;43m=\u001b[39;49m\u001b[43mdtype_backend\u001b[49m\u001b[43m,\u001b[49m\n\u001b[0;32m   1635\u001b[0m \u001b[43m        \u001b[49m\u001b[38;5;241;43m*\u001b[39;49m\u001b[38;5;241;43m*\u001b[39;49m\u001b[43mkwds\u001b[49m\u001b[43m,\u001b[49m\n\u001b[0;32m   1636\u001b[0m \u001b[43m    \u001b[49m\u001b[43m)\u001b[49m\n",
      "File \u001b[1;32m~\\AppData\\Local\\Packages\\PythonSoftwareFoundation.Python.3.12_qbz5n2kfra8p0\\LocalCache\\local-packages\\Python312\\site-packages\\pandas\\io\\excel\\_base.py:778\u001b[0m, in \u001b[0;36mBaseExcelReader.parse\u001b[1;34m(self, sheet_name, header, names, index_col, usecols, dtype, true_values, false_values, skiprows, nrows, na_values, verbose, parse_dates, date_parser, date_format, thousands, decimal, comment, skipfooter, dtype_backend, **kwds)\u001b[0m\n\u001b[0;32m    775\u001b[0m     sheet \u001b[38;5;241m=\u001b[39m \u001b[38;5;28mself\u001b[39m\u001b[38;5;241m.\u001b[39mget_sheet_by_index(asheetname)\n\u001b[0;32m    777\u001b[0m file_rows_needed \u001b[38;5;241m=\u001b[39m \u001b[38;5;28mself\u001b[39m\u001b[38;5;241m.\u001b[39m_calc_rows(header, index_col, skiprows, nrows)\n\u001b[1;32m--> 778\u001b[0m data \u001b[38;5;241m=\u001b[39m \u001b[38;5;28;43mself\u001b[39;49m\u001b[38;5;241;43m.\u001b[39;49m\u001b[43mget_sheet_data\u001b[49m\u001b[43m(\u001b[49m\u001b[43msheet\u001b[49m\u001b[43m,\u001b[49m\u001b[43m \u001b[49m\u001b[43mfile_rows_needed\u001b[49m\u001b[43m)\u001b[49m\n\u001b[0;32m    779\u001b[0m \u001b[38;5;28;01mif\u001b[39;00m \u001b[38;5;28mhasattr\u001b[39m(sheet, \u001b[38;5;124m\"\u001b[39m\u001b[38;5;124mclose\u001b[39m\u001b[38;5;124m\"\u001b[39m):\n\u001b[0;32m    780\u001b[0m     \u001b[38;5;66;03m# pyxlsb opens two TemporaryFiles\u001b[39;00m\n\u001b[0;32m    781\u001b[0m     sheet\u001b[38;5;241m.\u001b[39mclose()\n",
      "File \u001b[1;32m~\\AppData\\Local\\Packages\\PythonSoftwareFoundation.Python.3.12_qbz5n2kfra8p0\\LocalCache\\local-packages\\Python312\\site-packages\\pandas\\io\\excel\\_openpyxl.py:615\u001b[0m, in \u001b[0;36mOpenpyxlReader.get_sheet_data\u001b[1;34m(self, sheet, file_rows_needed)\u001b[0m\n\u001b[0;32m    613\u001b[0m data: \u001b[38;5;28mlist\u001b[39m[\u001b[38;5;28mlist\u001b[39m[Scalar]] \u001b[38;5;241m=\u001b[39m []\n\u001b[0;32m    614\u001b[0m last_row_with_data \u001b[38;5;241m=\u001b[39m \u001b[38;5;241m-\u001b[39m\u001b[38;5;241m1\u001b[39m\n\u001b[1;32m--> 615\u001b[0m \u001b[38;5;28;01mfor\u001b[39;00m row_number, row \u001b[38;5;129;01min\u001b[39;00m \u001b[38;5;28menumerate\u001b[39m(sheet\u001b[38;5;241m.\u001b[39mrows):\n\u001b[0;32m    616\u001b[0m     converted_row \u001b[38;5;241m=\u001b[39m [\u001b[38;5;28mself\u001b[39m\u001b[38;5;241m.\u001b[39m_convert_cell(cell) \u001b[38;5;28;01mfor\u001b[39;00m cell \u001b[38;5;129;01min\u001b[39;00m row]\n\u001b[0;32m    617\u001b[0m     \u001b[38;5;28;01mwhile\u001b[39;00m converted_row \u001b[38;5;129;01mand\u001b[39;00m converted_row[\u001b[38;5;241m-\u001b[39m\u001b[38;5;241m1\u001b[39m] \u001b[38;5;241m==\u001b[39m \u001b[38;5;124m\"\u001b[39m\u001b[38;5;124m\"\u001b[39m:\n\u001b[0;32m    618\u001b[0m         \u001b[38;5;66;03m# trim trailing empty elements\u001b[39;00m\n",
      "File \u001b[1;32m~\\AppData\\Local\\Packages\\PythonSoftwareFoundation.Python.3.12_qbz5n2kfra8p0\\LocalCache\\local-packages\\Python312\\site-packages\\openpyxl\\worksheet\\_read_only.py:85\u001b[0m, in \u001b[0;36mReadOnlyWorksheet._cells_by_row\u001b[1;34m(self, min_col, min_row, max_col, max_row, values_only)\u001b[0m\n\u001b[0;32m     77\u001b[0m \u001b[38;5;28;01mwith\u001b[39;00m \u001b[38;5;28mself\u001b[39m\u001b[38;5;241m.\u001b[39m_get_source() \u001b[38;5;28;01mas\u001b[39;00m src:\n\u001b[0;32m     78\u001b[0m     parser \u001b[38;5;241m=\u001b[39m WorkSheetParser(src,\n\u001b[0;32m     79\u001b[0m                              \u001b[38;5;28mself\u001b[39m\u001b[38;5;241m.\u001b[39m_shared_strings,\n\u001b[0;32m     80\u001b[0m                              data_only\u001b[38;5;241m=\u001b[39m\u001b[38;5;28mself\u001b[39m\u001b[38;5;241m.\u001b[39mparent\u001b[38;5;241m.\u001b[39mdata_only,\n\u001b[0;32m     81\u001b[0m                              epoch\u001b[38;5;241m=\u001b[39m\u001b[38;5;28mself\u001b[39m\u001b[38;5;241m.\u001b[39mparent\u001b[38;5;241m.\u001b[39mepoch,\n\u001b[0;32m     82\u001b[0m                              date_formats\u001b[38;5;241m=\u001b[39m\u001b[38;5;28mself\u001b[39m\u001b[38;5;241m.\u001b[39mparent\u001b[38;5;241m.\u001b[39m_date_formats,\n\u001b[0;32m     83\u001b[0m                              timedelta_formats\u001b[38;5;241m=\u001b[39m\u001b[38;5;28mself\u001b[39m\u001b[38;5;241m.\u001b[39mparent\u001b[38;5;241m.\u001b[39m_timedelta_formats)\n\u001b[1;32m---> 85\u001b[0m     \u001b[38;5;28;01mfor\u001b[39;00m idx, row \u001b[38;5;129;01min\u001b[39;00m parser\u001b[38;5;241m.\u001b[39mparse():\n\u001b[0;32m     86\u001b[0m         \u001b[38;5;28;01mif\u001b[39;00m max_row \u001b[38;5;129;01mis\u001b[39;00m \u001b[38;5;129;01mnot\u001b[39;00m \u001b[38;5;28;01mNone\u001b[39;00m \u001b[38;5;129;01mand\u001b[39;00m idx \u001b[38;5;241m>\u001b[39m max_row:\n\u001b[0;32m     87\u001b[0m             \u001b[38;5;28;01mbreak\u001b[39;00m\n",
      "File \u001b[1;32m~\\AppData\\Local\\Packages\\PythonSoftwareFoundation.Python.3.12_qbz5n2kfra8p0\\LocalCache\\local-packages\\Python312\\site-packages\\openpyxl\\worksheet\\_reader.py:156\u001b[0m, in \u001b[0;36mWorkSheetParser.parse\u001b[1;34m(self)\u001b[0m\n\u001b[0;32m    137\u001b[0m properties \u001b[38;5;241m=\u001b[39m {\n\u001b[0;32m    138\u001b[0m     PRINT_TAG: (\u001b[38;5;124m'\u001b[39m\u001b[38;5;124mprint_options\u001b[39m\u001b[38;5;124m'\u001b[39m, PrintOptions),\n\u001b[0;32m    139\u001b[0m     MARGINS_TAG: (\u001b[38;5;124m'\u001b[39m\u001b[38;5;124mpage_margins\u001b[39m\u001b[38;5;124m'\u001b[39m, PageMargins),\n\u001b[1;32m   (...)\u001b[0m\n\u001b[0;32m    151\u001b[0m \n\u001b[0;32m    152\u001b[0m }\n\u001b[0;32m    154\u001b[0m it \u001b[38;5;241m=\u001b[39m iterparse(\u001b[38;5;28mself\u001b[39m\u001b[38;5;241m.\u001b[39msource) \u001b[38;5;66;03m# add a finaliser to close the source when this becomes possible\u001b[39;00m\n\u001b[1;32m--> 156\u001b[0m \u001b[38;5;28;01mfor\u001b[39;00m _, element \u001b[38;5;129;01min\u001b[39;00m it:\n\u001b[0;32m    157\u001b[0m     tag_name \u001b[38;5;241m=\u001b[39m element\u001b[38;5;241m.\u001b[39mtag\n\u001b[0;32m    158\u001b[0m     \u001b[38;5;28;01mif\u001b[39;00m tag_name \u001b[38;5;129;01min\u001b[39;00m dispatcher:\n",
      "File \u001b[1;32mC:\\Program Files\\WindowsApps\\PythonSoftwareFoundation.Python.3.12_3.12.2800.0_x64__qbz5n2kfra8p0\\Lib\\xml\\etree\\ElementTree.py:1238\u001b[0m, in \u001b[0;36miterparse.<locals>.iterator\u001b[1;34m(source)\u001b[0m\n\u001b[0;32m   1236\u001b[0m \u001b[38;5;28;01myield from\u001b[39;00m pullparser\u001b[38;5;241m.\u001b[39mread_events()\n\u001b[0;32m   1237\u001b[0m \u001b[38;5;66;03m# load event buffer\u001b[39;00m\n\u001b[1;32m-> 1238\u001b[0m data \u001b[38;5;241m=\u001b[39m \u001b[43msource\u001b[49m\u001b[38;5;241;43m.\u001b[39;49m\u001b[43mread\u001b[49m\u001b[43m(\u001b[49m\u001b[38;5;241;43m16\u001b[39;49m\u001b[43m \u001b[49m\u001b[38;5;241;43m*\u001b[39;49m\u001b[43m \u001b[49m\u001b[38;5;241;43m1024\u001b[39;49m\u001b[43m)\u001b[49m\n\u001b[0;32m   1239\u001b[0m \u001b[38;5;28;01mif\u001b[39;00m \u001b[38;5;129;01mnot\u001b[39;00m data:\n\u001b[0;32m   1240\u001b[0m     \u001b[38;5;28;01mbreak\u001b[39;00m\n",
      "File \u001b[1;32mC:\\Program Files\\WindowsApps\\PythonSoftwareFoundation.Python.3.12_3.12.2800.0_x64__qbz5n2kfra8p0\\Lib\\zipfile\\__init__.py:992\u001b[0m, in \u001b[0;36mZipExtFile.read\u001b[1;34m(self, n)\u001b[0m\n\u001b[0;32m    990\u001b[0m \u001b[38;5;28mself\u001b[39m\u001b[38;5;241m.\u001b[39m_offset \u001b[38;5;241m=\u001b[39m \u001b[38;5;241m0\u001b[39m\n\u001b[0;32m    991\u001b[0m \u001b[38;5;28;01mwhile\u001b[39;00m n \u001b[38;5;241m>\u001b[39m \u001b[38;5;241m0\u001b[39m \u001b[38;5;129;01mand\u001b[39;00m \u001b[38;5;129;01mnot\u001b[39;00m \u001b[38;5;28mself\u001b[39m\u001b[38;5;241m.\u001b[39m_eof:\n\u001b[1;32m--> 992\u001b[0m     data \u001b[38;5;241m=\u001b[39m \u001b[38;5;28;43mself\u001b[39;49m\u001b[38;5;241;43m.\u001b[39;49m\u001b[43m_read1\u001b[49m\u001b[43m(\u001b[49m\u001b[43mn\u001b[49m\u001b[43m)\u001b[49m\n\u001b[0;32m    993\u001b[0m     \u001b[38;5;28;01mif\u001b[39;00m n \u001b[38;5;241m<\u001b[39m \u001b[38;5;28mlen\u001b[39m(data):\n\u001b[0;32m    994\u001b[0m         \u001b[38;5;28mself\u001b[39m\u001b[38;5;241m.\u001b[39m_readbuffer \u001b[38;5;241m=\u001b[39m data\n",
      "File \u001b[1;32mC:\\Program Files\\WindowsApps\\PythonSoftwareFoundation.Python.3.12_3.12.2800.0_x64__qbz5n2kfra8p0\\Lib\\zipfile\\__init__.py:1060\u001b[0m, in \u001b[0;36mZipExtFile._read1\u001b[1;34m(self, n)\u001b[0m\n\u001b[0;32m   1058\u001b[0m     data \u001b[38;5;241m=\u001b[39m \u001b[38;5;28mself\u001b[39m\u001b[38;5;241m.\u001b[39m_decompressor\u001b[38;5;241m.\u001b[39munconsumed_tail\n\u001b[0;32m   1059\u001b[0m     \u001b[38;5;28;01mif\u001b[39;00m n \u001b[38;5;241m>\u001b[39m \u001b[38;5;28mlen\u001b[39m(data):\n\u001b[1;32m-> 1060\u001b[0m         data \u001b[38;5;241m+\u001b[39m\u001b[38;5;241m=\u001b[39m \u001b[38;5;28;43mself\u001b[39;49m\u001b[38;5;241;43m.\u001b[39;49m\u001b[43m_read2\u001b[49m\u001b[43m(\u001b[49m\u001b[43mn\u001b[49m\u001b[43m \u001b[49m\u001b[38;5;241;43m-\u001b[39;49m\u001b[43m \u001b[49m\u001b[38;5;28;43mlen\u001b[39;49m\u001b[43m(\u001b[49m\u001b[43mdata\u001b[49m\u001b[43m)\u001b[49m\u001b[43m)\u001b[49m\n\u001b[0;32m   1061\u001b[0m \u001b[38;5;28;01melse\u001b[39;00m:\n\u001b[0;32m   1062\u001b[0m     data \u001b[38;5;241m=\u001b[39m \u001b[38;5;28mself\u001b[39m\u001b[38;5;241m.\u001b[39m_read2(n)\n",
      "File \u001b[1;32mC:\\Program Files\\WindowsApps\\PythonSoftwareFoundation.Python.3.12_3.12.2800.0_x64__qbz5n2kfra8p0\\Lib\\zipfile\\__init__.py:1092\u001b[0m, in \u001b[0;36mZipExtFile._read2\u001b[1;34m(self, n)\u001b[0m\n\u001b[0;32m   1089\u001b[0m n \u001b[38;5;241m=\u001b[39m \u001b[38;5;28mmax\u001b[39m(n, \u001b[38;5;28mself\u001b[39m\u001b[38;5;241m.\u001b[39mMIN_READ_SIZE)\n\u001b[0;32m   1090\u001b[0m n \u001b[38;5;241m=\u001b[39m \u001b[38;5;28mmin\u001b[39m(n, \u001b[38;5;28mself\u001b[39m\u001b[38;5;241m.\u001b[39m_compress_left)\n\u001b[1;32m-> 1092\u001b[0m data \u001b[38;5;241m=\u001b[39m \u001b[38;5;28;43mself\u001b[39;49m\u001b[38;5;241;43m.\u001b[39;49m\u001b[43m_fileobj\u001b[49m\u001b[38;5;241;43m.\u001b[39;49m\u001b[43mread\u001b[49m\u001b[43m(\u001b[49m\u001b[43mn\u001b[49m\u001b[43m)\u001b[49m\n\u001b[0;32m   1093\u001b[0m \u001b[38;5;28mself\u001b[39m\u001b[38;5;241m.\u001b[39m_compress_left \u001b[38;5;241m-\u001b[39m\u001b[38;5;241m=\u001b[39m \u001b[38;5;28mlen\u001b[39m(data)\n\u001b[0;32m   1094\u001b[0m \u001b[38;5;28;01mif\u001b[39;00m \u001b[38;5;129;01mnot\u001b[39;00m data:\n",
      "File \u001b[1;32mC:\\Program Files\\WindowsApps\\PythonSoftwareFoundation.Python.3.12_3.12.2800.0_x64__qbz5n2kfra8p0\\Lib\\zipfile\\__init__.py:811\u001b[0m, in \u001b[0;36m_SharedFile.read\u001b[1;34m(self, n)\u001b[0m\n\u001b[0;32m    807\u001b[0m     \u001b[38;5;28;01mraise\u001b[39;00m \u001b[38;5;167;01mValueError\u001b[39;00m(\u001b[38;5;124m\"\u001b[39m\u001b[38;5;124mCan\u001b[39m\u001b[38;5;124m'\u001b[39m\u001b[38;5;124mt read from the ZIP file while there \u001b[39m\u001b[38;5;124m\"\u001b[39m\n\u001b[0;32m    808\u001b[0m             \u001b[38;5;124m\"\u001b[39m\u001b[38;5;124mis an open writing handle on it. \u001b[39m\u001b[38;5;124m\"\u001b[39m\n\u001b[0;32m    809\u001b[0m             \u001b[38;5;124m\"\u001b[39m\u001b[38;5;124mClose the writing handle before trying to read.\u001b[39m\u001b[38;5;124m\"\u001b[39m)\n\u001b[0;32m    810\u001b[0m \u001b[38;5;28mself\u001b[39m\u001b[38;5;241m.\u001b[39m_file\u001b[38;5;241m.\u001b[39mseek(\u001b[38;5;28mself\u001b[39m\u001b[38;5;241m.\u001b[39m_pos)\n\u001b[1;32m--> 811\u001b[0m data \u001b[38;5;241m=\u001b[39m \u001b[38;5;28;43mself\u001b[39;49m\u001b[38;5;241;43m.\u001b[39;49m\u001b[43m_file\u001b[49m\u001b[38;5;241;43m.\u001b[39;49m\u001b[43mread\u001b[49m\u001b[43m(\u001b[49m\u001b[43mn\u001b[49m\u001b[43m)\u001b[49m\n\u001b[0;32m    812\u001b[0m \u001b[38;5;28mself\u001b[39m\u001b[38;5;241m.\u001b[39m_pos \u001b[38;5;241m=\u001b[39m \u001b[38;5;28mself\u001b[39m\u001b[38;5;241m.\u001b[39m_file\u001b[38;5;241m.\u001b[39mtell()\n\u001b[0;32m    813\u001b[0m \u001b[38;5;28;01mreturn\u001b[39;00m data\n",
      "\u001b[1;31mKeyboardInterrupt\u001b[0m: "
     ]
    }
   ],
   "source": [
    "varado = pd.read_excel('VARIABLES LIMPIAS.xlsx')\n",
    "varado.head()"
   ]
  },
  {
   "cell_type": "code",
   "execution_count": 33,
   "id": "4cf409e4",
   "metadata": {},
   "outputs": [
    {
     "data": {
      "text/plain": [
       "Index(['ID BUS', 'Fecha de varada', 'Causa de la varada',\n",
       "       'Descripción de la novedad', 'Fecha de habilitación',\n",
       "       'Fecha de inmovilización - Copia', 'Ruta', 'Tiempo habilitación',\n",
       "       'Fecha de varada2', 'Hora', 'Franja de varada'],\n",
       "      dtype='object')"
      ]
     },
     "execution_count": 33,
     "metadata": {},
     "output_type": "execute_result"
    }
   ],
   "source": [
    "varado.columns = varado.columns.str.strip()\n",
    "varado.columns"
   ]
  },
  {
   "cell_type": "code",
   "execution_count": 10,
   "id": "b5f3049a",
   "metadata": {},
   "outputs": [],
   "source": [
    "names = ['ID BUS']"
   ]
  },
  {
   "cell_type": "code",
   "execution_count": 7,
   "id": "5f105a1c",
   "metadata": {},
   "outputs": [
    {
     "data": {
      "text/html": [
       "<div>\n",
       "<style scoped>\n",
       "    .dataframe tbody tr th:only-of-type {\n",
       "        vertical-align: middle;\n",
       "    }\n",
       "\n",
       "    .dataframe tbody tr th {\n",
       "        vertical-align: top;\n",
       "    }\n",
       "\n",
       "    .dataframe thead th {\n",
       "        text-align: right;\n",
       "    }\n",
       "</style>\n",
       "<table border=\"1\" class=\"dataframe\">\n",
       "  <thead>\n",
       "    <tr style=\"text-align: right;\">\n",
       "      <th></th>\n",
       "      <th>zona</th>\n",
       "      <th>fase</th>\n",
       "      <th>componente</th>\n",
       "      <th>estatus_vinculacion</th>\n",
       "      <th>combustible</th>\n",
       "      <th>modelo</th>\n",
       "      <th>fecha_vinculacion</th>\n",
       "      <th>accesible</th>\n",
       "      <th>edad</th>\n",
       "      <th>identificador</th>\n",
       "      <th>descripcion_estado_vinculacion</th>\n",
       "      <th>descripcion_nivel_emision</th>\n",
       "      <th>descripcion_tipo</th>\n",
       "    </tr>\n",
       "  </thead>\n",
       "  <tbody>\n",
       "    <tr>\n",
       "      <th>0</th>\n",
       "      <td>ENGATIVï</td>\n",
       "      <td>FASE III</td>\n",
       "      <td>TRONCAL</td>\n",
       "      <td>Referente</td>\n",
       "      <td>DIESEL</td>\n",
       "      <td>2012</td>\n",
       "      <td>2012-10-04 00:00:00</td>\n",
       "      <td>PLATAFORMA ALTA</td>\n",
       "      <td>12.0</td>\n",
       "      <td>125</td>\n",
       "      <td>Vinculado</td>\n",
       "      <td>EURO IV</td>\n",
       "      <td>ARTICULADO</td>\n",
       "    </tr>\n",
       "    <tr>\n",
       "      <th>1</th>\n",
       "      <td>ENGATIVï</td>\n",
       "      <td>FASE III</td>\n",
       "      <td>TRONCAL</td>\n",
       "      <td>Referente</td>\n",
       "      <td>DIESEL</td>\n",
       "      <td>2012</td>\n",
       "      <td>2012-10-04 00:00:00</td>\n",
       "      <td>PLATAFORMA ALTA</td>\n",
       "      <td>12.0</td>\n",
       "      <td>126</td>\n",
       "      <td>Vinculado</td>\n",
       "      <td>EURO IV</td>\n",
       "      <td>ARTICULADO</td>\n",
       "    </tr>\n",
       "    <tr>\n",
       "      <th>2</th>\n",
       "      <td>ENGATIVï</td>\n",
       "      <td>FASE III</td>\n",
       "      <td>TRONCAL</td>\n",
       "      <td>Referente</td>\n",
       "      <td>DIESEL</td>\n",
       "      <td>2012</td>\n",
       "      <td>2012-10-04 00:00:00</td>\n",
       "      <td>PLATAFORMA ALTA</td>\n",
       "      <td>12.0</td>\n",
       "      <td>127</td>\n",
       "      <td>Vinculado</td>\n",
       "      <td>EURO IV</td>\n",
       "      <td>ARTICULADO</td>\n",
       "    </tr>\n",
       "    <tr>\n",
       "      <th>3</th>\n",
       "      <td>ENGATIVï</td>\n",
       "      <td>FASE III</td>\n",
       "      <td>TRONCAL</td>\n",
       "      <td>Referente</td>\n",
       "      <td>DIESEL</td>\n",
       "      <td>2012</td>\n",
       "      <td>2012-10-04 00:00:00</td>\n",
       "      <td>PLATAFORMA ALTA</td>\n",
       "      <td>12.0</td>\n",
       "      <td>128</td>\n",
       "      <td>Vinculado</td>\n",
       "      <td>EURO IV</td>\n",
       "      <td>ARTICULADO</td>\n",
       "    </tr>\n",
       "    <tr>\n",
       "      <th>4</th>\n",
       "      <td>ENGATIVï</td>\n",
       "      <td>FASE III</td>\n",
       "      <td>TRONCAL</td>\n",
       "      <td>Referente</td>\n",
       "      <td>DIESEL</td>\n",
       "      <td>2012</td>\n",
       "      <td>23/03/2012</td>\n",
       "      <td>PLATAFORMA ALTA</td>\n",
       "      <td>12.0</td>\n",
       "      <td>129</td>\n",
       "      <td>Vinculado</td>\n",
       "      <td>EURO IV</td>\n",
       "      <td>BIARTICULADO</td>\n",
       "    </tr>\n",
       "  </tbody>\n",
       "</table>\n",
       "</div>"
      ],
      "text/plain": [
       "       zona      fase componente estatus_vinculacion combustible  modelo  \\\n",
       "0  ENGATIVï  FASE III    TRONCAL           Referente      DIESEL    2012   \n",
       "1  ENGATIVï  FASE III    TRONCAL           Referente      DIESEL    2012   \n",
       "2  ENGATIVï  FASE III    TRONCAL           Referente      DIESEL    2012   \n",
       "3  ENGATIVï  FASE III    TRONCAL           Referente      DIESEL    2012   \n",
       "4  ENGATIVï  FASE III    TRONCAL           Referente      DIESEL    2012   \n",
       "\n",
       "     fecha_vinculacion        accesible  edad  identificador   \\\n",
       "0  2012-10-04 00:00:00  PLATAFORMA ALTA  12.0             125   \n",
       "1  2012-10-04 00:00:00  PLATAFORMA ALTA  12.0             126   \n",
       "2  2012-10-04 00:00:00  PLATAFORMA ALTA  12.0             127   \n",
       "3  2012-10-04 00:00:00  PLATAFORMA ALTA  12.0             128   \n",
       "4           23/03/2012  PLATAFORMA ALTA  12.0             129   \n",
       "\n",
       "  descripcion_estado_vinculacion descripcion_nivel_emision descripcion_tipo  \n",
       "0                      Vinculado                   EURO IV       ARTICULADO  \n",
       "1                      Vinculado                   EURO IV       ARTICULADO  \n",
       "2                      Vinculado                   EURO IV       ARTICULADO  \n",
       "3                      Vinculado                   EURO IV       ARTICULADO  \n",
       "4                      Vinculado                   EURO IV     BIARTICULADO  "
      ]
     },
     "execution_count": 7,
     "metadata": {},
     "output_type": "execute_result"
    }
   ],
   "source": [
    "flota = pd.read_excel('flota total.xlsx')\n",
    "flota.head()"
   ]
  },
  {
   "cell_type": "code",
   "execution_count": null,
   "id": "f3b436a9",
   "metadata": {},
   "outputs": [
    {
     "data": {
      "text/plain": [
       "Index(['zona', 'fase', 'componente', 'estatus_vinculacion', 'combustible',\n",
       "       'modelo', 'fecha_vinculacion', 'accesible', 'edad', 'identificador',\n",
       "       'descripcion_estado_vinculacion', 'descripcion_nivel_emision',\n",
       "       'descripcion_tipo'],\n",
       "      dtype='object')"
      ]
     },
     "execution_count": 12,
     "metadata": {},
     "output_type": "execute_result"
    }
   ],
   "source": [
    "flota.columns = flota.columns.str.strip()\n",
    "flota.columns"
   ]
  },
  {
   "cell_type": "code",
   "execution_count": 16,
   "id": "77b36c5a",
   "metadata": {},
   "outputs": [
    {
     "data": {
      "text/html": [
       "<div>\n",
       "<style scoped>\n",
       "    .dataframe tbody tr th:only-of-type {\n",
       "        vertical-align: middle;\n",
       "    }\n",
       "\n",
       "    .dataframe tbody tr th {\n",
       "        vertical-align: top;\n",
       "    }\n",
       "\n",
       "    .dataframe thead th {\n",
       "        text-align: right;\n",
       "    }\n",
       "</style>\n",
       "<table border=\"1\" class=\"dataframe\">\n",
       "  <thead>\n",
       "    <tr style=\"text-align: right;\">\n",
       "      <th></th>\n",
       "      <th>zona</th>\n",
       "      <th>fase</th>\n",
       "      <th>componente</th>\n",
       "      <th>estatus_vinculacion</th>\n",
       "      <th>combustible</th>\n",
       "      <th>modelo</th>\n",
       "      <th>fecha_vinculacion</th>\n",
       "      <th>accesible</th>\n",
       "      <th>edad</th>\n",
       "      <th>identificador</th>\n",
       "      <th>...</th>\n",
       "      <th>Fecha de varada</th>\n",
       "      <th>Causa de la varada</th>\n",
       "      <th>Descripción de la novedad</th>\n",
       "      <th>Fecha de habilitación</th>\n",
       "      <th>Fecha de inmovilización - Copia</th>\n",
       "      <th>Ruta</th>\n",
       "      <th>Tiempo habilitación</th>\n",
       "      <th>Fecha de varada2</th>\n",
       "      <th>Hora</th>\n",
       "      <th>Franja de varada</th>\n",
       "    </tr>\n",
       "  </thead>\n",
       "  <tbody>\n",
       "    <tr>\n",
       "      <th>0</th>\n",
       "      <td>ENGATIVï</td>\n",
       "      <td>FASE III</td>\n",
       "      <td>TRONCAL</td>\n",
       "      <td>Referente</td>\n",
       "      <td>DIESEL</td>\n",
       "      <td>2012</td>\n",
       "      <td>2012-10-04 00:00:00</td>\n",
       "      <td>PLATAFORMA ALTA</td>\n",
       "      <td>12.0</td>\n",
       "      <td>125</td>\n",
       "      <td>...</td>\n",
       "      <td>NaT</td>\n",
       "      <td>NaN</td>\n",
       "      <td>NaN</td>\n",
       "      <td>NaT</td>\n",
       "      <td>NaT</td>\n",
       "      <td>NaN</td>\n",
       "      <td>NaN</td>\n",
       "      <td>NaT</td>\n",
       "      <td>NaN</td>\n",
       "      <td>NaN</td>\n",
       "    </tr>\n",
       "    <tr>\n",
       "      <th>1</th>\n",
       "      <td>ENGATIVï</td>\n",
       "      <td>FASE III</td>\n",
       "      <td>TRONCAL</td>\n",
       "      <td>Referente</td>\n",
       "      <td>DIESEL</td>\n",
       "      <td>2012</td>\n",
       "      <td>2012-10-04 00:00:00</td>\n",
       "      <td>PLATAFORMA ALTA</td>\n",
       "      <td>12.0</td>\n",
       "      <td>126</td>\n",
       "      <td>...</td>\n",
       "      <td>NaT</td>\n",
       "      <td>NaN</td>\n",
       "      <td>NaN</td>\n",
       "      <td>NaT</td>\n",
       "      <td>NaT</td>\n",
       "      <td>NaN</td>\n",
       "      <td>NaN</td>\n",
       "      <td>NaT</td>\n",
       "      <td>NaN</td>\n",
       "      <td>NaN</td>\n",
       "    </tr>\n",
       "    <tr>\n",
       "      <th>2</th>\n",
       "      <td>ENGATIVï</td>\n",
       "      <td>FASE III</td>\n",
       "      <td>TRONCAL</td>\n",
       "      <td>Referente</td>\n",
       "      <td>DIESEL</td>\n",
       "      <td>2012</td>\n",
       "      <td>2012-10-04 00:00:00</td>\n",
       "      <td>PLATAFORMA ALTA</td>\n",
       "      <td>12.0</td>\n",
       "      <td>127</td>\n",
       "      <td>...</td>\n",
       "      <td>NaT</td>\n",
       "      <td>NaN</td>\n",
       "      <td>NaN</td>\n",
       "      <td>NaT</td>\n",
       "      <td>NaT</td>\n",
       "      <td>NaN</td>\n",
       "      <td>NaN</td>\n",
       "      <td>NaT</td>\n",
       "      <td>NaN</td>\n",
       "      <td>NaN</td>\n",
       "    </tr>\n",
       "    <tr>\n",
       "      <th>3</th>\n",
       "      <td>ENGATIVï</td>\n",
       "      <td>FASE III</td>\n",
       "      <td>TRONCAL</td>\n",
       "      <td>Referente</td>\n",
       "      <td>DIESEL</td>\n",
       "      <td>2012</td>\n",
       "      <td>2012-10-04 00:00:00</td>\n",
       "      <td>PLATAFORMA ALTA</td>\n",
       "      <td>12.0</td>\n",
       "      <td>128</td>\n",
       "      <td>...</td>\n",
       "      <td>NaT</td>\n",
       "      <td>NaN</td>\n",
       "      <td>NaN</td>\n",
       "      <td>NaT</td>\n",
       "      <td>NaT</td>\n",
       "      <td>NaN</td>\n",
       "      <td>NaN</td>\n",
       "      <td>NaT</td>\n",
       "      <td>NaN</td>\n",
       "      <td>NaN</td>\n",
       "    </tr>\n",
       "    <tr>\n",
       "      <th>4</th>\n",
       "      <td>ENGATIVï</td>\n",
       "      <td>FASE III</td>\n",
       "      <td>TRONCAL</td>\n",
       "      <td>Referente</td>\n",
       "      <td>DIESEL</td>\n",
       "      <td>2012</td>\n",
       "      <td>23/03/2012</td>\n",
       "      <td>PLATAFORMA ALTA</td>\n",
       "      <td>12.0</td>\n",
       "      <td>129</td>\n",
       "      <td>...</td>\n",
       "      <td>NaT</td>\n",
       "      <td>NaN</td>\n",
       "      <td>NaN</td>\n",
       "      <td>NaT</td>\n",
       "      <td>NaT</td>\n",
       "      <td>NaN</td>\n",
       "      <td>NaN</td>\n",
       "      <td>NaT</td>\n",
       "      <td>NaN</td>\n",
       "      <td>NaN</td>\n",
       "    </tr>\n",
       "  </tbody>\n",
       "</table>\n",
       "<p>5 rows × 24 columns</p>\n",
       "</div>"
      ],
      "text/plain": [
       "       zona      fase componente estatus_vinculacion combustible  modelo  \\\n",
       "0  ENGATIVï  FASE III    TRONCAL           Referente      DIESEL    2012   \n",
       "1  ENGATIVï  FASE III    TRONCAL           Referente      DIESEL    2012   \n",
       "2  ENGATIVï  FASE III    TRONCAL           Referente      DIESEL    2012   \n",
       "3  ENGATIVï  FASE III    TRONCAL           Referente      DIESEL    2012   \n",
       "4  ENGATIVï  FASE III    TRONCAL           Referente      DIESEL    2012   \n",
       "\n",
       "     fecha_vinculacion        accesible  edad  identificador  ...  \\\n",
       "0  2012-10-04 00:00:00  PLATAFORMA ALTA  12.0            125  ...   \n",
       "1  2012-10-04 00:00:00  PLATAFORMA ALTA  12.0            126  ...   \n",
       "2  2012-10-04 00:00:00  PLATAFORMA ALTA  12.0            127  ...   \n",
       "3  2012-10-04 00:00:00  PLATAFORMA ALTA  12.0            128  ...   \n",
       "4           23/03/2012  PLATAFORMA ALTA  12.0            129  ...   \n",
       "\n",
       "  Fecha de varada Causa de la varada Descripción de la novedad  \\\n",
       "0             NaT                NaN                       NaN   \n",
       "1             NaT                NaN                       NaN   \n",
       "2             NaT                NaN                       NaN   \n",
       "3             NaT                NaN                       NaN   \n",
       "4             NaT                NaN                       NaN   \n",
       "\n",
       "   Fecha de habilitación Fecha de inmovilización - Copia Ruta  \\\n",
       "0                    NaT                             NaT  NaN   \n",
       "1                    NaT                             NaT  NaN   \n",
       "2                    NaT                             NaT  NaN   \n",
       "3                    NaT                             NaT  NaN   \n",
       "4                    NaT                             NaT  NaN   \n",
       "\n",
       "  Tiempo habilitación Fecha de varada2 Hora Franja de varada  \n",
       "0                 NaN              NaT  NaN              NaN  \n",
       "1                 NaN              NaT  NaN              NaN  \n",
       "2                 NaN              NaT  NaN              NaN  \n",
       "3                 NaN              NaT  NaN              NaN  \n",
       "4                 NaN              NaT  NaN              NaN  \n",
       "\n",
       "[5 rows x 24 columns]"
      ]
     },
     "execution_count": 16,
     "metadata": {},
     "output_type": "execute_result"
    }
   ],
   "source": [
    "df = pd.merge(flota, varado, how='left', left_on='identificador', right_on='ID BUS')\n",
    "df.head()"
   ]
  },
  {
   "cell_type": "code",
   "execution_count": 17,
   "id": "ea2753a2",
   "metadata": {},
   "outputs": [
    {
     "data": {
      "text/plain": [
       "((116548, 11), (10518, 13), (117282, 24))"
      ]
     },
     "execution_count": 17,
     "metadata": {},
     "output_type": "execute_result"
    }
   ],
   "source": [
    "varado.shape, flota.shape, df.shape"
   ]
  },
  {
   "cell_type": "code",
   "execution_count": 19,
   "id": "72571b2a",
   "metadata": {},
   "outputs": [
    {
     "data": {
      "text/plain": [
       "Index(['zona', 'fase', 'componente', 'estatus_vinculacion', 'combustible',\n",
       "       'modelo', 'fecha_vinculacion', 'accesible', 'edad', 'identificador',\n",
       "       'descripcion_estado_vinculacion', 'descripcion_nivel_emision',\n",
       "       'descripcion_tipo', 'ID BUS', 'Fecha de varada', 'Causa de la varada',\n",
       "       'Descripción de la novedad', 'Fecha de habilitación',\n",
       "       'Fecha de inmovilización - Copia', 'Ruta', 'Tiempo habilitación',\n",
       "       'Fecha de varada2', 'Hora', 'Franja de varada'],\n",
       "      dtype='object')"
      ]
     },
     "execution_count": 19,
     "metadata": {},
     "output_type": "execute_result"
    }
   ],
   "source": [
    "df.columns"
   ]
  },
  {
   "cell_type": "code",
   "execution_count": null,
   "id": "d73c6ddc",
   "metadata": {},
   "outputs": [
    {
     "name": "stdout",
     "output_type": "stream",
     "text": [
      "10518\n",
      "11.150598973188819\n"
     ]
    }
   ],
   "source": [
    "print(df.identificador.nunique())\n",
    "print(117282/10518) #Promedio de fallas por bus: 11\n",
    "\n",
    "# 10518 buses pero 117282 registros de fallas"
   ]
  },
  {
   "cell_type": "code",
   "execution_count": 31,
   "id": "bc653f60",
   "metadata": {},
   "outputs": [
    {
     "data": {
      "text/plain": [
       "identificador\n",
       "4331    50\n",
       "2625    49\n",
       "3039    48\n",
       "4636    48\n",
       "2357    48\n",
       "1772    46\n",
       "2227    46\n",
       "831     45\n",
       "2233    45\n",
       "2740    45\n",
       "2267    44\n",
       "8246    44\n",
       "5988    44\n",
       "2481    44\n",
       "9457    44\n",
       "Name: count, dtype: int64"
      ]
     },
     "execution_count": 31,
     "metadata": {},
     "output_type": "execute_result"
    }
   ],
   "source": [
    "df.identificador.value_counts()[:15]"
   ]
  },
  {
   "cell_type": "code",
   "execution_count": 38,
   "id": "0ac13920",
   "metadata": {},
   "outputs": [
    {
     "data": {
      "text/plain": [
       "array([nan, 'DIRECCIÓN ', 'AMBIENTAL', 'TURBO', 'SISTEMA ELÉCTRICO',\n",
       "       'TEMPERATURA', 'CORREAS', 'CARROCERÍA EXTERNA', 'PUERTAS',\n",
       "       'FRENOS', 'FUGA DE REFRIGERANTE', 'DOCUMENTOS',\n",
       "       'ACCIDENTE DE TRÁNSIT', 'MOTOR', 'TESTIGOS-TABL INSTRU',\n",
       "       'COMPRESOR', 'ACELERACIÓN - POTENC', 'DIRECCIÓN', 'FUGA DE ACEITE',\n",
       "       'PERNO FIJACIÓN LLANT', 'LIMPIAPARABRISAS', 'VANDALISMO',\n",
       "       'SE APAGA Y NO ENCIEN', 'SUSPENSIÓN', 'EMBRAGUE', 'FUGA DE AIRE',\n",
       "       'CAJA - TRANSMISIÓN', 'RUTERO - INFORMADOR', 'CARROCERÍA INTERNA',\n",
       "       'CARDAN', 'COMBUSTIBLE', 'RODAMIENTO LLANTA', 'SEGURIDAD',\n",
       "       'TROQUE ', 'SILLAS - PASAMANOS', 'SISTEMA NEUMÁTICO',\n",
       "       'ACCESIBILIDAD DISCAP', 'FUGA DE ACEITE ', 'ESTRUC - CHASIS',\n",
       "       'SISTEMA ELÉCTRICO ', 'INMOV POR TRANSITO', 'LLANTA LISA',\n",
       "       'LLANTA SUELTA', 'SIRCI CONTROL', 'Z - OTRAS CAUSAS',\n",
       "       'SILLAS - PASAMANOS ', 'LLANTA LISA ', 'MOTOR ', 'TROQUE',\n",
       "       'CARROCERÍA INTERNA ', 'SUSPENSIÓN ', 'FUGA DE AIRE ', 'PUERTAS ',\n",
       "       'FRENOS ', 'TEMPERATURA ', 'RODAMIENTO LLANTA ', 'AMBIENTAL ',\n",
       "       'PATIO', 'puertas', 'Z-DIRECCIÓN', 'CARROCERÍA EXTERNA ',\n",
       "       'FUGA DE REFRIGERANTE ', 'SEGURIDAD ', 'TESTIGOS-TABL INSTRU ',\n",
       "       'COMBUSTIBLE ', 'motor', 'LIMPIAPARABRISAS ',\n",
       "       'CAJA - TRANSMISIÓN ', 'SE APAGA Y NO ENCIEN ', 'CORREAS ',\n",
       "       'TURBO ', 'ESTRUC - CHASIS ', 'diRECCIÓN', 'ZZZZZZZZZZ-O. CAU',\n",
       "       'ACELERACIÓN - POTENC ', 'SISTEMA NEUMÁTICO ', 'MANGUERAS',\n",
       "       'EMBRAGUE ', 'ACCESIBILIDAD DISCAP ', 'SIRCI CONTROL ',\n",
       "       'PERNO FIJACIÓN LLANT ', 'COMPRESOR ',\n",
       "       'RESTRICCIÓN POR INOPERATIVIDAD PROLONGADA', 'DIRECCIDIRECCIÓN',\n",
       "       ' FRENOS', 'ACELERACIÓN - POTENCIA', 'PUERTAS  '], dtype=object)"
      ]
     },
     "execution_count": 38,
     "metadata": {},
     "output_type": "execute_result"
    }
   ],
   "source": [
    "df['Causa de la varada'].unique()"
   ]
  },
  {
   "cell_type": "code",
   "execution_count": null,
   "id": "22fb0093",
   "metadata": {},
   "outputs": [],
   "source": [
    "feautures_matrix = []"
   ]
  },
  {
   "cell_type": "markdown",
   "id": "2e15414e",
   "metadata": {},
   "source": [
    "| Variable del bus           | Causas de falla posiblemente relacionadas                                                                                                                                     |\n",
    "|---------------------------|---------------------------------------------------------------------------------------------------------------------------------------------------------------------------------|\n",
    "| **Combustible**           | `COMBUSTIBLE`, `COMBUSTIBLE `, `FUGA DE AIRE`, `FUGA DE ACEITE`, `FUGA DE REFRIGERANTE`, `MOTOR`, `TURBO`                                                                       |\n",
    "| **Modelo del bus (año)**  | `MOTOR`, `SISTEMA ELÉCTRICO`, `TEMPERATURA`, `CAJA - TRANSMISIÓN`, `SUSPENSIÓN`, `FRENOS`, `PUERTAS`, `RODAMIENTO LLANTA`, `LIMPIAPARABRISAS`                                 |\n",
    "| **Edad**                  | Las mismas que modelo: fallas mecánicas generales aumentan con la edad                                                                                                          |\n",
    "| **Cilindraje**            | `MOTOR`, `ACELERACIÓN - POTENC`, `TURBO`, `FUGA DE ACEITE`                                                                                                                      |\n",
    "| **Tipología del bus**     | `ACCESIBILIDAD DISCAP`, `CARROCERÍA INTERNA`, `SILLAS - PASAMANOS`, `PUERTAS`, `PATIO`, `LLANTA LISA`                                                                           |\n",
    "| **Marca**                 | Potencialmente todas las fallas técnicas, especialmente `SISTEMA ELÉCTRICO`, `MOTOR`, `CAJA - TRANSMISIÓN`                                                                      |\n",
    "| **Tipo de rutas que hace**| `FRENOS`, `SUSPENSIÓN`, `LLANTA LISA`, `INMOV POR TRANSITO`, `VANDALISMO`, `PUERTAS`, `CARROCERÍA EXTERNA`                                                                      |\n"
   ]
  }
 ],
 "metadata": {
  "kernelspec": {
   "display_name": "Python 3",
   "language": "python",
   "name": "python3"
  },
  "language_info": {
   "codemirror_mode": {
    "name": "ipython",
    "version": 3
   },
   "file_extension": ".py",
   "mimetype": "text/x-python",
   "name": "python",
   "nbconvert_exporter": "python",
   "pygments_lexer": "ipython3",
   "version": "3.12.10"
  }
 },
 "nbformat": 4,
 "nbformat_minor": 5
}
